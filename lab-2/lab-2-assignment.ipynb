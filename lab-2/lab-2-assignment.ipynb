{
  "cells": [
    {
      "cell_type": "markdown",
      "metadata": {},
      "source": [
        "---\n",
        "title: \"Lab-2 Assignment\"\n",
        "author: \"Brian Kwon\"\n",
        "format:        \n",
        "    html:                \n",
        "        embed-resources: true\n",
        "---"
      ]
    },
    {
      "cell_type": "markdown",
      "metadata": {},
      "source": [
        "## Problem 1: This question refers to Example 2 and 3 in Lab 2 demo:\n",
        "\n",
        "You will first need to import the `gtools` library --> `library(gtools)`\n"
      ]
    },
    {
      "cell_type": "markdown",
      "metadata": {},
      "source": [
        "\n",
        "i. What is the difference  between `%in%` and `==`?\n"
      ]
    },
    {
      "cell_type": "markdown",
      "metadata": {},
      "source": [
        "Both operator go through each element of vectors. However, == checks whether each elements in two vectors are equal element-wise. On the other hand, %in% operator \n",
        "go through each element of the vector on the left and see if that element is part of the vector on the right."
      ]
    },
    {
      "cell_type": "markdown",
      "metadata": {},
      "source": [
        "\n",
        "ii. Try to find the _probabilities_  for the below questions with a different set of coding without using %in%. \n",
        "\n",
        "a. Let's use the deck of cards generated in Example 2 and please answer the following questions below with a different set of coding without using `%in%`. \n",
        "\n",
        "  (i). Probability of drawing a Queen as the first card?\n",
        "  \n",
        "  (ii). Conditional probability of the second card being a Queen given that the first card was a Queen?\n",
        "\n",
        "b. Refer to Example 3: Compute the Probability of a Natural 21 in Blackjack with a different set of coding without using `%in%`. "
      ]
    },
    {
      "cell_type": "code",
      "execution_count": 3,
      "metadata": {
        "vscode": {
          "languageId": "r"
        }
      },
      "outputs": [],
      "source": [
        "library(gtools)"
      ]
    },
    {
      "cell_type": "code",
      "execution_count": 13,
      "metadata": {
        "vscode": {
          "languageId": "r"
        }
      },
      "outputs": [],
      "source": [
        "suits = c(\"Diamonds\", \"Clubs\", \"Hearts\", \"Spades\")\n",
        "numbers = c(\"Ace\", \"Two\", \"Three\", \"Four\", \"Five\", \"Six\", \"Seven\", \"Eight\", \"Nine\", \"Ten\", \"Jack\", \"Queen\", \"King\")\n",
        "deck = expand.grid(number=numbers, suit=suits) #data frame from all combinations\n",
        "deck = paste(deck$number, deck$suit)"
      ]
    },
    {
      "cell_type": "code",
      "execution_count": 25,
      "metadata": {
        "vscode": {
          "languageId": "r"
        }
      },
      "outputs": [
        {
          "data": {
            "text/html": [
              "0.0769230769230769"
            ],
            "text/latex": [
              "0.0769230769230769"
            ],
            "text/markdown": [
              "0.0769230769230769"
            ],
            "text/plain": [
              "[1] 0.07692308"
            ]
          },
          "metadata": {},
          "output_type": "display_data"
        }
      ],
      "source": [
        "count = 0\n",
        "for(card in deck){\n",
        "    words = strsplit(card,\" \")\n",
        "    if(words[[1]][1]==\"Queen\"){\n",
        "        count = count + 1\n",
        "    }\n",
        "}\n",
        "b = count/length(deck)\n",
        "b"
      ]
    },
    {
      "cell_type": "markdown",
      "metadata": {},
      "source": [
        "(i) The probability of drawing a Queen as the first card is 0.0769230769230769."
      ]
    },
    {
      "cell_type": "code",
      "execution_count": 26,
      "metadata": {
        "vscode": {
          "languageId": "r"
        }
      },
      "outputs": [
        {
          "data": {
            "text/html": [
              "0.0588235294117647"
            ],
            "text/latex": [
              "0.0588235294117647"
            ],
            "text/markdown": [
              "0.0588235294117647"
            ],
            "text/plain": [
              "[1] 0.05882353"
            ]
          },
          "metadata": {},
          "output_type": "display_data"
        }
      ],
      "source": [
        "hands = permutations(52, 2, v = deck)\n",
        "count = 0\n",
        "for(i in 1:nrow(hands)){\n",
        "    hand = hands[i,]\n",
        "    if(strsplit(hand[1],\" \")[[1]][1]==\"Queen\"){ # Check if the first card is a Queen\n",
        "        if(strsplit(hand[2],\" \")[[1]][1]==\"Queen\"){ # Check if the second card is a Queen\n",
        "            count = count + 1\n",
        "        }\n",
        "    }\n",
        "}\n",
        "a = count/nrow(hands)\n",
        "a/b\n"
      ]
    },
    {
      "cell_type": "markdown",
      "metadata": {},
      "source": [
        "(ii) Conditional probability of the second card being a Queen given that the first card was a Queen is 0.0588235294117647."
      ]
    },
    {
      "cell_type": "code",
      "execution_count": 31,
      "metadata": {
        "vscode": {
          "languageId": "r"
        }
      },
      "outputs": [
        {
          "data": {
            "text/html": [
              "0.0482654600301659"
            ],
            "text/latex": [
              "0.0482654600301659"
            ],
            "text/markdown": [
              "0.0482654600301659"
            ],
            "text/plain": [
              "[1] 0.04826546"
            ]
          },
          "metadata": {},
          "output_type": "display_data"
        }
      ],
      "source": [
        "facecard = c(\"King Queen Jack Ten\")\n",
        "\n",
        "# When the first card is Ace and the second card is facecards\n",
        "count1 = 0\n",
        "for(i in 1:nrow(hands)){\n",
        "    hand = hands[i,]\n",
        "    if(grepl(\"Ace\",hand[1])==TRUE){\n",
        "        if(grepl(strsplit(hand[2],\" \")[[1]][1],facecard)==TRUE){\n",
        "            count1 = count1 + 1\n",
        "        }\n",
        "    }\n",
        "}\n",
        "\n",
        "# When the first card is facecards and the second card is Ace\n",
        "count2 = 0\n",
        "for(i in 1:nrow(hands)){\n",
        "    hand = hands[i,]\n",
        "    if(grepl(strsplit(hand[1],\" \")[[1]][1],facecard)==TRUE){\n",
        "        if(grepl(\"Ace\",hand[2])==TRUE){\n",
        "            count2 = count2 + 1\n",
        "        }\n",
        "    }\n",
        "}\n",
        "\n",
        "(count1+count2)/nrow(hands)"
      ]
    },
    {
      "cell_type": "markdown",
      "metadata": {},
      "source": [
        "The probability of a Natural 21 in Blackjack is 0.0482654600301659."
      ]
    },
    {
      "cell_type": "markdown",
      "metadata": {},
      "source": [
        "## Problem 2:\n",
        "\n",
        "(This is fictional) It is believed that for COVID-19 a highly sensitive test has a low false-negative rate. A highly specific test has a low false-positive rate. In a certain testing center, they have found out that for a certain COVID-19 testing, the test is positive `88%` of the time when tested on a patient with the disease (high sensitivity). The test is negative `90%` of the time when tested on a healthy patient (high specificity). Probability of having COVID-19 is `0.25` for the patients come to that testing center.\n"
      ]
    },
    {
      "cell_type": "markdown",
      "metadata": {},
      "source": [
        "a. Specify each probability using conditional probability notations\n",
        "\n",
        "$P(test+|disease) =0.88$\\\n",
        "$P(test-|healthy) =0.90$\\\n",
        "$P(disease) =0.25$"
      ]
    },
    {
      "cell_type": "markdown",
      "metadata": {},
      "source": [
        "b. Set the seed. Let's try this example for 1,000,000 simulations."
      ]
    },
    {
      "cell_type": "code",
      "execution_count": 21,
      "metadata": {
        "vscode": {
          "languageId": "r"
        }
      },
      "outputs": [],
      "source": [
        "set.seed(23)"
      ]
    },
    {
      "cell_type": "markdown",
      "metadata": {},
      "source": [
        "   \n",
        "\n",
        "Let's assume that the patients arrive at this testing center are testing only for the Corona Virus. Simulate 1000000 patients coming to this testing center using `sample()` and specifying the probabilities of the disease. (Name the variable as \"disease\")\n",
        "\n",
        "c. Simulate 1000000 tests for these patients. First, generate an empty vector for \"test\". Then fill in the values 0 and 1 where \"disease=0\" is the set of patients who does not have the virus and \"disease=1\" is the set of patients who have the virus. \n",
        "(Hint: use `sample()` function for creating each subsets )\n"
      ]
    },
    {
      "cell_type": "code",
      "execution_count": 22,
      "metadata": {
        "vscode": {
          "languageId": "r"
        }
      },
      "outputs": [],
      "source": [
        "test = rep(NA, 100000)\n",
        "disease = sample(c(0,1), size=1000000, replace=TRUE,prob=c(0.75,0.25))\n",
        "test[disease==0] = sample(c('Neg','Pos'), size=sum(disease==0), replace=TRUE, prob=c(0.9,0.1))\n",
        "test[disease==1] = sample(c('Neg','Pos'), size=sum(disease==1), replace=TRUE,prob=c(0.12, 0.88))"
      ]
    },
    {
      "cell_type": "markdown",
      "metadata": {},
      "source": [
        "\n",
        "_Answer the following questions by first calculating by hand and then using the simulations. Compare your results._\n",
        "\n",
        "d. What is the probability that a test is positive? Remember the formula for conditional probability. $P(A \\mid B) = \\frac{P(A \\cap B)}{P(B)}$"
      ]
    },
    {
      "cell_type": "markdown",
      "metadata": {},
      "source": [
        "$P(test+)$ = $P(disease)\\times P(test+|disease)+P(healthy)\\times P(test+|healthy)$ = $0.25 \\times 0.88 + 0.75 \\times 0.1$ = 0.295"
      ]
    },
    {
      "cell_type": "code",
      "execution_count": 23,
      "metadata": {
        "vscode": {
          "languageId": "r"
        }
      },
      "outputs": [
        {
          "data": {
            "text/html": [
              "0.296043"
            ],
            "text/latex": [
              "0.296043"
            ],
            "text/markdown": [
              "0.296043"
            ],
            "text/plain": [
              "[1] 0.296043"
            ]
          },
          "metadata": {},
          "output_type": "display_data"
        }
      ],
      "source": [
        "mean(test==\"Pos\")"
      ]
    },
    {
      "cell_type": "markdown",
      "metadata": {},
      "source": [
        "\n",
        "e. Calculate the probability that a patient has the disease given that the test is positive.\n"
      ]
    },
    {
      "cell_type": "markdown",
      "metadata": {},
      "source": [
        "$P(disease|test+)$ = $\\frac{P(test+|disease)P(disease)}{P(test+)}$ = $\\frac{0.88*0.25}{0.295}$ = 0.745762711864407"
      ]
    },
    {
      "cell_type": "code",
      "execution_count": 24,
      "metadata": {
        "vscode": {
          "languageId": "r"
        }
      },
      "outputs": [
        {
          "data": {
            "text/html": [
              "0.745287002226028"
            ],
            "text/latex": [
              "0.745287002226028"
            ],
            "text/markdown": [
              "0.745287002226028"
            ],
            "text/plain": [
              "[1] 0.745287"
            ]
          },
          "metadata": {},
          "output_type": "display_data"
        }
      ],
      "source": [
        "mean(disease[test=='Pos']==1)"
      ]
    },
    {
      "cell_type": "markdown",
      "metadata": {},
      "source": [
        "f. What is the probability that an individual has the disease given that the test is negative?"
      ]
    },
    {
      "cell_type": "markdown",
      "metadata": {},
      "source": [
        "$P(disease|test-)$ = $\\frac{P(test-|disease)P(disease)}{P(test-)}$ = $\\frac{0.12*0.25}{0.705}$ = 0.0425531914893617"
      ]
    },
    {
      "cell_type": "code",
      "execution_count": 25,
      "metadata": {
        "vscode": {
          "languageId": "r"
        }
      },
      "outputs": [
        {
          "data": {
            "text/html": [
              "0.0421318347569525"
            ],
            "text/latex": [
              "0.0421318347569525"
            ],
            "text/markdown": [
              "0.0421318347569525"
            ],
            "text/plain": [
              "[1] 0.04213183"
            ]
          },
          "metadata": {},
          "output_type": "display_data"
        }
      ],
      "source": [
        "mean(disease[test=='Neg']==1)"
      ]
    },
    {
      "cell_type": "markdown",
      "metadata": {},
      "source": [
        "g. Given someone tested positive for the disease, how many times more likely are they to have the disease than someone from the general population?\n",
        "(Hint: First calculate the probability of having the disease given a positive test, then divide by the probability of having the disease.)"
      ]
    },
    {
      "cell_type": "code",
      "execution_count": 26,
      "metadata": {
        "vscode": {
          "languageId": "r"
        }
      },
      "outputs": [
        {
          "data": {
            "text/html": [
              "2.97762250385954"
            ],
            "text/latex": [
              "2.97762250385954"
            ],
            "text/markdown": [
              "2.97762250385954"
            ],
            "text/plain": [
              "[1] 2.977623"
            ]
          },
          "metadata": {},
          "output_type": "display_data"
        }
      ],
      "source": [
        "mean(disease[test=='Pos']==1)/mean(disease==1)"
      ]
    },
    {
      "cell_type": "markdown",
      "metadata": {},
      "source": [
        "Given someone tested positive for the disease, they are 2.977 times more likey to have the disease than the general population."
      ]
    }
  ],
  "metadata": {
    "kernelspec": {
      "display_name": "R",
      "language": "R",
      "name": "ir"
    },
    "language_info": {
      "codemirror_mode": "r",
      "file_extension": ".r",
      "mimetype": "text/x-r-source",
      "name": "R",
      "pygments_lexer": "r",
      "version": "4.3.1"
    }
  },
  "nbformat": 4,
  "nbformat_minor": 4
}
