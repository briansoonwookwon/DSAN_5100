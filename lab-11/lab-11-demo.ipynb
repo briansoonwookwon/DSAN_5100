{
  "cells": [
    {
      "cell_type": "markdown",
      "metadata": {},
      "source": [
        "---\n",
        "title: \"Lab-11\"\n",
        "author: \"Dr. Purna Gamage\"\n",
        "\n",
        "output: rmdformats::robobook\n",
        "---"
      ]
    },
    {
      "cell_type": "code",
      "execution_count": 4,
      "metadata": {
        "vscode": {
          "languageId": "r"
        }
      },
      "outputs": [],
      "source": [
        "library(ggplot2)\n",
        "library(ggExtra)\n",
        "library(tidyverse)\n",
        "library(plotly)\n",
        "library(dplyr)\n",
        "library(knitr)"
      ]
    },
    {
      "cell_type": "markdown",
      "metadata": {},
      "source": [
        "# Z-test\n",
        " (Usually This is not being used with real data )"
      ]
    },
    {
      "cell_type": "code",
      "execution_count": 5,
      "metadata": {
        "vscode": {
          "languageId": "r"
        }
      },
      "outputs": [
        {
          "ename": "ERROR",
          "evalue": "Error in z.test(x, y, alternative = \"two.sided\", mu = 0, sigma.x = NULL, : could not find function \"z.test\"\n",
          "output_type": "error",
          "traceback": [
            "Error in z.test(x, y, alternative = \"two.sided\", mu = 0, sigma.x = NULL, : could not find function \"z.test\"\nTraceback:\n"
          ]
        }
      ],
      "source": [
        "z.test(x, y, alternative='two.sided', mu=0, sigma.x=NULL, sigma.y=NULL,conf.level=.95)"
      ]
    },
    {
      "cell_type": "markdown",
      "metadata": {},
      "source": [
        "# T-test\n",
        "\n",
        "## a. One sample t-test\n",
        "\n",
        "### Example 1:\n",
        "\n",
        "Here is an example concerning daily energy intake in kJ for 11 women (Altman, 1991, p. 183). First, the values are placed in a data vector:"
      ]
    },
    {
      "cell_type": "code",
      "execution_count": 6,
      "metadata": {
        "vscode": {
          "languageId": "r"
        }
      },
      "outputs": [],
      "source": [
        "daily.intake <- c(5260,5470,5640,6180,6390,6515,6805,7515,7515,8230,8770)"
      ]
    },
    {
      "cell_type": "markdown",
      "metadata": {},
      "source": [
        "You might wish to investigate whether the women’s energy intake deviates systematically from a recommended value of 7725 kJ. Assuming that data come from a normal distribution, the object is to test whether this distribution might have mean $\\mu = 7725$. This is done with t.test as follows:\n",
        "\n",
        "Null Hypothesis: $H_0$ :  $\\mu = 7725$\n",
        "Alternative Hypothesis: $H_a$ :  $\\mu \\neq 7725$"
      ]
    },
    {
      "cell_type": "code",
      "execution_count": 7,
      "metadata": {
        "vscode": {
          "languageId": "r"
        }
      },
      "outputs": [
        {
          "data": {
            "text/plain": [
              "\n",
              "\tOne Sample t-test\n",
              "\n",
              "data:  daily.intake\n",
              "t = -2.8208, df = 10, p-value = 0.01814\n",
              "alternative hypothesis: true mean is not equal to 7725\n",
              "95 percent confidence interval:\n",
              " 5986.348 7520.925\n",
              "sample estimates:\n",
              "mean of x \n",
              " 6753.636 \n"
            ]
          },
          "metadata": {},
          "output_type": "display_data"
        }
      ],
      "source": [
        "t.test(daily.intake,mu=7725)"
      ]
    },
    {
      "cell_type": "markdown",
      "metadata": {},
      "source": [
        "Since p value is less than 0.05, At 5% significance level, we have enough evidence to reject the null hypothesis and conclude that a women’s energy intake deviates systematically from a recommended value of 7725 kJ.\n",
        "\n",
        "## b. Two-sample t-test\n",
        "\n",
        "### Example 2: Birth weight of a baby \"NCBirths2004.csv\"\n",
        "\n",
        "The birth weight of a baby is of interest to health officials since many studies have shown possible links between this weight and conditions in later life, such as obesity or diabetes. Researchers look for possible relationships between the birth weight of a baby and the age of the mother or whether or not she smoked cigarettes or drank alcohol during her pregnancy. The Centers for Disease Control and Prevention (CDC), using data provided by the U.S. Department of Health and Hu- man Services, National Center for Health Statistics, the Division of Vital Statistics as well as the CDC, maintain a database on all babies born in a given year <http://wonder.cdc.gov/natality-current.html>. We will investigate different samples taken from the CDC’s database of births.\n",
        "\n",
        "One data set we will investigate consists of a random sample of 1009 babies born in North Carolina during 2004. The babies in the sample had a gestation period of at least 37 weeks and were single births (i.e., not a twin or triplet).\n"
      ]
    },
    {
      "cell_type": "code",
      "execution_count": 8,
      "metadata": {
        "vscode": {
          "languageId": "r"
        }
      },
      "outputs": [
        {
          "data": {
            "text/html": [
              "<table class=\"dataframe\">\n",
              "<caption>A data.frame: 6 × 8</caption>\n",
              "<thead>\n",
              "\t<tr><th></th><th scope=col>ID</th><th scope=col>MothersAge</th><th scope=col>Tobacco</th><th scope=col>Alcohol</th><th scope=col>Gender</th><th scope=col>Weight</th><th scope=col>Gestation</th><th scope=col>Smoker</th></tr>\n",
              "\t<tr><th></th><th scope=col>&lt;int&gt;</th><th scope=col>&lt;chr&gt;</th><th scope=col>&lt;chr&gt;</th><th scope=col>&lt;chr&gt;</th><th scope=col>&lt;chr&gt;</th><th scope=col>&lt;int&gt;</th><th scope=col>&lt;int&gt;</th><th scope=col>&lt;chr&gt;</th></tr>\n",
              "</thead>\n",
              "<tbody>\n",
              "\t<tr><th scope=row>1</th><td>1</td><td>30-34</td><td>No</td><td>No</td><td>Male  </td><td>3827</td><td>40</td><td>No</td></tr>\n",
              "\t<tr><th scope=row>2</th><td>2</td><td>30-34</td><td>No</td><td>No</td><td>Male  </td><td>3629</td><td>38</td><td>No</td></tr>\n",
              "\t<tr><th scope=row>3</th><td>3</td><td>35-39</td><td>No</td><td>No</td><td>Female</td><td>3062</td><td>37</td><td>No</td></tr>\n",
              "\t<tr><th scope=row>4</th><td>4</td><td>20-24</td><td>No</td><td>No</td><td>Female</td><td>3430</td><td>39</td><td>No</td></tr>\n",
              "\t<tr><th scope=row>5</th><td>5</td><td>25-29</td><td>No</td><td>No</td><td>Male  </td><td>3827</td><td>38</td><td>No</td></tr>\n",
              "\t<tr><th scope=row>6</th><td>6</td><td>35-39</td><td>No</td><td>No</td><td>Female</td><td>3119</td><td>39</td><td>No</td></tr>\n",
              "</tbody>\n",
              "</table>\n"
            ],
            "text/latex": [
              "A data.frame: 6 × 8\n",
              "\\begin{tabular}{r|llllllll}\n",
              "  & ID & MothersAge & Tobacco & Alcohol & Gender & Weight & Gestation & Smoker\\\\\n",
              "  & <int> & <chr> & <chr> & <chr> & <chr> & <int> & <int> & <chr>\\\\\n",
              "\\hline\n",
              "\t1 & 1 & 30-34 & No & No & Male   & 3827 & 40 & No\\\\\n",
              "\t2 & 2 & 30-34 & No & No & Male   & 3629 & 38 & No\\\\\n",
              "\t3 & 3 & 35-39 & No & No & Female & 3062 & 37 & No\\\\\n",
              "\t4 & 4 & 20-24 & No & No & Female & 3430 & 39 & No\\\\\n",
              "\t5 & 5 & 25-29 & No & No & Male   & 3827 & 38 & No\\\\\n",
              "\t6 & 6 & 35-39 & No & No & Female & 3119 & 39 & No\\\\\n",
              "\\end{tabular}\n"
            ],
            "text/markdown": [
              "\n",
              "A data.frame: 6 × 8\n",
              "\n",
              "| <!--/--> | ID &lt;int&gt; | MothersAge &lt;chr&gt; | Tobacco &lt;chr&gt; | Alcohol &lt;chr&gt; | Gender &lt;chr&gt; | Weight &lt;int&gt; | Gestation &lt;int&gt; | Smoker &lt;chr&gt; |\n",
              "|---|---|---|---|---|---|---|---|---|\n",
              "| 1 | 1 | 30-34 | No | No | Male   | 3827 | 40 | No |\n",
              "| 2 | 2 | 30-34 | No | No | Male   | 3629 | 38 | No |\n",
              "| 3 | 3 | 35-39 | No | No | Female | 3062 | 37 | No |\n",
              "| 4 | 4 | 20-24 | No | No | Female | 3430 | 39 | No |\n",
              "| 5 | 5 | 25-29 | No | No | Male   | 3827 | 38 | No |\n",
              "| 6 | 6 | 35-39 | No | No | Female | 3119 | 39 | No |\n",
              "\n"
            ],
            "text/plain": [
              "  ID MothersAge Tobacco Alcohol Gender Weight Gestation Smoker\n",
              "1 1  30-34      No      No      Male   3827   40        No    \n",
              "2 2  30-34      No      No      Male   3629   38        No    \n",
              "3 3  35-39      No      No      Female 3062   37        No    \n",
              "4 4  20-24      No      No      Female 3430   39        No    \n",
              "5 5  25-29      No      No      Male   3827   38        No    \n",
              "6 6  35-39      No      No      Female 3119   39        No    "
            ]
          },
          "metadata": {},
          "output_type": "display_data"
        },
        {
          "data": {
            "image/png": "[encoded data removed]",
            "text/plain": [
              "plot without title"
            ]
          },
          "metadata": {
            "image/png": {
              "height": 420,
              "width": 420
            }
          },
          "output_type": "display_data"
        }
      ],
      "source": [
        "NCBirths2004<-read.csv(\"NCBirths2004.csv\")\n",
        "head(NCBirths2004)\n",
        "\n",
        "library(tidyverse)\n",
        "library(ggplot2)\n",
        "\n",
        "NCBirths2004 %>%\n",
        "  ggplot( aes(x = Smoker, y = Weight, fill=Smoker)) +\n",
        "  geom_boxplot() +ggtitle(\"Weight of babies born\n",
        "in North Carolina in 2004\")"
      ]
    },
    {
      "cell_type": "code",
      "execution_count": 9,
      "metadata": {
        "vscode": {
          "languageId": "r"
        }
      },
      "outputs": [
        {
          "data": {
            "text/plain": [
              "\n",
              "\tWelch Two Sample t-test\n",
              "\n",
              "data:  WeightNS and WeightS\n",
              "t = 4.1411, df = 134.01, p-value = 3.04e-05\n",
              "alternative hypothesis: true difference in means is greater than 0\n",
              "95 percent confidence interval:\n",
              " 129.009     Inf\n",
              "sample estimates:\n",
              "mean of x mean of y \n",
              " 3471.912  3256.910 \n"
            ]
          },
          "metadata": {},
          "output_type": "display_data"
        }
      ],
      "source": [
        "WeightNS <- subset(NCBirths2004, select=Weight,\n",
        "                      subset=Smoker==\"No\", drop=T)\n",
        "\n",
        "WeightS  <- subset(NCBirths2004, select=Weight,\n",
        "                      subset=Smoker==\"Yes\", drop=T)\n",
        "\n",
        "t.test(WeightNS, WeightS, alt=\"greater\")"
      ]
    },
    {
      "cell_type": "markdown",
      "metadata": {},
      "source": [
        "### Example 3: Two sample t-test on Titanic Data\n",
        "\n",
        "\n",
        "Import the data set Titanic.csv which contains survival data (0 = death, 1 = survival) and ages of 658 passengers of the Titanic which sank on April 15, 1912. Examine the null hypothesis that the mean ages of survivors and of victims are the same against the alternative that these mean ages are different, using a t-test. Compute the p-value and state your conclusion. This is a two-sided test. How should the p-value be computed in this case?\n",
        "\n",
        "Import the data. There are 135 survivors and 523 victims in this data set. We can make a side by side boxplot and see that the age distributions of survivors and victims are very similar, but survivors have a slightly smaller median. The mean age of survivors is 26.98 and the mean age of victims is 31.52. The difference is 4.54."
      ]
    },
    {
      "cell_type": "code",
      "execution_count": 10,
      "metadata": {
        "vscode": {
          "languageId": "r"
        }
      },
      "outputs": [
        {
          "data": {
            "text/html": [
              "<table class=\"dataframe\">\n",
              "<caption>A data.frame: 6 × 3</caption>\n",
              "<thead>\n",
              "\t<tr><th></th><th scope=col>ID</th><th scope=col>Survived</th><th scope=col>Age</th></tr>\n",
              "\t<tr><th></th><th scope=col>&lt;int&gt;</th><th scope=col>&lt;int&gt;</th><th scope=col>&lt;dbl&gt;</th></tr>\n",
              "</thead>\n",
              "<tbody>\n",
              "\t<tr><th scope=row>1</th><td>1</td><td>1</td><td> 0.92</td></tr>\n",
              "\t<tr><th scope=row>2</th><td>2</td><td>0</td><td>30.00</td></tr>\n",
              "\t<tr><th scope=row>3</th><td>3</td><td>1</td><td>48.00</td></tr>\n",
              "\t<tr><th scope=row>4</th><td>4</td><td>0</td><td>39.00</td></tr>\n",
              "\t<tr><th scope=row>5</th><td>5</td><td>0</td><td>71.00</td></tr>\n",
              "\t<tr><th scope=row>6</th><td>6</td><td>0</td><td>47.00</td></tr>\n",
              "</tbody>\n",
              "</table>\n"
            ],
            "text/latex": [
              "A data.frame: 6 × 3\n",
              "\\begin{tabular}{r|lll}\n",
              "  & ID & Survived & Age\\\\\n",
              "  & <int> & <int> & <dbl>\\\\\n",
              "\\hline\n",
              "\t1 & 1 & 1 &  0.92\\\\\n",
              "\t2 & 2 & 0 & 30.00\\\\\n",
              "\t3 & 3 & 1 & 48.00\\\\\n",
              "\t4 & 4 & 0 & 39.00\\\\\n",
              "\t5 & 5 & 0 & 71.00\\\\\n",
              "\t6 & 6 & 0 & 47.00\\\\\n",
              "\\end{tabular}\n"
            ],
            "text/markdown": [
              "\n",
              "A data.frame: 6 × 3\n",
              "\n",
              "| <!--/--> | ID &lt;int&gt; | Survived &lt;int&gt; | Age &lt;dbl&gt; |\n",
              "|---|---|---|---|\n",
              "| 1 | 1 | 1 |  0.92 |\n",
              "| 2 | 2 | 0 | 30.00 |\n",
              "| 3 | 3 | 1 | 48.00 |\n",
              "| 4 | 4 | 0 | 39.00 |\n",
              "| 5 | 5 | 0 | 71.00 |\n",
              "| 6 | 6 | 0 | 47.00 |\n",
              "\n"
            ],
            "text/plain": [
              "  ID Survived Age  \n",
              "1 1  1         0.92\n",
              "2 2  0        30.00\n",
              "3 3  1        48.00\n",
              "4 4  0        39.00\n",
              "5 5  0        71.00\n",
              "6 6  0        47.00"
            ]
          },
          "metadata": {},
          "output_type": "display_data"
        },
        {
          "name": "stdout",
          "output_type": "stream",
          "text": [
            "  Survived      Age\n",
            "1        0 31.51641\n",
            "2        1 26.97778\n"
          ]
        },
        {
          "data": {
            "text/html": [
              "4.53862757595071"
            ],
            "text/latex": [
              "4.53862757595071"
            ],
            "text/markdown": [
              "4.53862757595071"
            ],
            "text/plain": [
              "[1] 4.538628"
            ]
          },
          "metadata": {},
          "output_type": "display_data"
        },
        {
          "data": {
            "image/png": "[encoded data removed]",
            "text/plain": [
              "plot without title"
            ]
          },
          "metadata": {
            "image/png": {
              "height": 420,
              "width": 420
            }
          },
          "output_type": "display_data"
        }
      ],
      "source": [
        " Titanic <- read.csv(\"Titanic.csv\", stringsAsFactors=FALSE) \n",
        "head(Titanic)\n",
        "boxplot(Age ~ Survived, data = Titanic)\n",
        "\n",
        "#let's look at the means\n",
        "agg.df <- aggregate(Age ~ Survived, data = Titanic, FUN = mean)\n",
        "print(agg.df)\n",
        "\n",
        "(mean.diff <- agg.df[1,2] - agg.df[2,2])"
      ]
    },
    {
      "cell_type": "markdown",
      "metadata": {},
      "source": [
        "Let $\\mu_S =$ population mean age of survivors and $\\mu_v =$ population mean age of victims. \n",
        "\n",
        "The null hypothesis is $H_0: \\mu_V - \\mu_S = 0$ and the \n",
        "alternative is $H_a: \\mu_V - \\mu_S > 0$.   "
      ]
    },
    {
      "cell_type": "code",
      "execution_count": 11,
      "metadata": {
        "vscode": {
          "languageId": "r"
        }
      },
      "outputs": [
        {
          "data": {
            "text/plain": [
              "\n",
              "\tWelch Two Sample t-test\n",
              "\n",
              "data:  victims and survivors\n",
              "t = 3.091, df = 191.92, p-value = 0.001146\n",
              "alternative hypothesis: true difference in means is greater than 0\n",
              "95 percent confidence interval:\n",
              " 2.111742      Inf\n",
              "sample estimates:\n",
              "mean of x mean of y \n",
              " 31.51641  26.97778 \n"
            ]
          },
          "metadata": {},
          "output_type": "display_data"
        },
        {
          "data": {
            "text/plain": [
              "\n",
              "\tWelch Two Sample t-test\n",
              "\n",
              "data:  Age by Survived\n",
              "t = 3.091, df = 191.92, p-value = 0.001146\n",
              "alternative hypothesis: true difference in means between group 0 and group 1 is greater than 0\n",
              "95 percent confidence interval:\n",
              " 2.111742      Inf\n",
              "sample estimates:\n",
              "mean in group 0 mean in group 1 \n",
              "       31.51641        26.97778 \n"
            ]
          },
          "metadata": {},
          "output_type": "display_data"
        }
      ],
      "source": [
        "survivors <- subset(Titanic, select=Age, subset=Survived==\"1\", drop=T)\n",
        "victims <- subset(Titanic, select=Age,subset=Survived==\"0\", drop=T)\n",
        "\n",
        "t.test(victims, survivors, alt=\"greater\")\n",
        "\n",
        "###or\n",
        "\n",
        "t.test(Age ~ Survived, data = Titanic,alternative = \"greater\")"
      ]
    },
    {
      "cell_type": "markdown",
      "metadata": {},
      "source": [
        "Since p value is less than 0.05, At 5% significance level, we have enough evidence to reject the null hypothesis. Therefore there is strong evidence that the mean ages of victims and survivors were not the same but in fact the average age of victims were greater than the average age of survivors.\n",
        "\n",
        "\n",
        "# Chi squared test\n",
        "\n",
        "## a. One way table\n",
        "\n",
        "Define a function to compute chi-squared statistic for one-way tables and let x contains counts of observations. 'pvec' is a probability vector of observations.\n",
        "\n",
        "![](images/2023-10-30-15-02-33.png)"
      ]
    },
    {
      "cell_type": "code",
      "execution_count": 12,
      "metadata": {
        "vscode": {
          "languageId": "r"
        }
      },
      "outputs": [],
      "source": [
        "myX2 = function(x,pvec){ #x-count, #pvec-probabilities\n",
        "   n <- sum(x) #size\n",
        "   k <- length(pvec) #length of the prob vector\n",
        "   pvec <- pvec/sum(pvec) #normalize the prob vector, if necessary\n",
        "   expected <- n*pvec #np\n",
        "   return(sum((x-expected)^2/expected))\n",
        "}"
      ]
    },
    {
      "cell_type": "markdown",
      "metadata": {},
      "source": [
        "(ii). Demonstration Example.\n",
        "\n",
        "- Simulate data from a multinomial distribution,\n",
        "$$\n",
        "p=(.3, .3, .2, .2) \\text {, size } n=40\n",
        "$$\n",
        "- Null hypothesis: This comes from a multinomial distribution with $p=(.2, .2, .3, .3)$\n",
        "- Can the test detect that $H_0$ is not true?\n",
        "\n",
        "Let's simulate a single random multinomial sample of size 40 with probabilities 0.3,0.3,0.2,0.2."
      ]
    },
    {
      "cell_type": "code",
      "execution_count": 13,
      "metadata": {
        "vscode": {
          "languageId": "r"
        }
      },
      "outputs": [
        {
          "data": {
            "text/html": [
              "<table class=\"dataframe\">\n",
              "<caption>A matrix: 4 × 1 of type int</caption>\n",
              "<tbody>\n",
              "\t<tr><td>11</td></tr>\n",
              "\t<tr><td>15</td></tr>\n",
              "\t<tr><td> 4</td></tr>\n",
              "\t<tr><td>10</td></tr>\n",
              "</tbody>\n",
              "</table>\n"
            ],
            "text/latex": [
              "A matrix: 4 × 1 of type int\n",
              "\\begin{tabular}{l}\n",
              "\t 11\\\\\n",
              "\t 15\\\\\n",
              "\t  4\\\\\n",
              "\t 10\\\\\n",
              "\\end{tabular}\n"
            ],
            "text/markdown": [
              "\n",
              "A matrix: 4 × 1 of type int\n",
              "\n",
              "| 11 |\n",
              "| 15 |\n",
              "|  4 |\n",
              "| 10 |\n",
              "\n"
            ],
            "text/plain": [
              "     [,1]\n",
              "[1,] 11  \n",
              "[2,] 15  \n",
              "[3,]  4  \n",
              "[4,] 10  "
            ]
          },
          "metadata": {},
          "output_type": "display_data"
        },
        {
          "data": {
            "text/html": [
              "40"
            ],
            "text/latex": [
              "40"
            ],
            "text/markdown": [
              "40"
            ],
            "text/plain": [
              "[1] 40"
            ]
          },
          "metadata": {},
          "output_type": "display_data"
        }
      ],
      "source": [
        "(x0 <- rmultinom(1,40,prob = c(.3,.3,.2,.2))) #like 40 people buying 4 items\n",
        "colSums(x0)"
      ]
    },
    {
      "cell_type": "markdown",
      "metadata": {},
      "source": [
        "(iii) Compute Chi-squared statistic, assuming the null hyothesis. "
      ]
    },
    {
      "cell_type": "code",
      "execution_count": 14,
      "metadata": {
        "vscode": {
          "languageId": "r"
        }
      },
      "outputs": [
        {
          "data": {
            "text/html": [
              "12.9166666666667"
            ],
            "text/latex": [
              "12.9166666666667"
            ],
            "text/markdown": [
              "12.9166666666667"
            ],
            "text/plain": [
              "[1] 12.91667"
            ]
          },
          "metadata": {},
          "output_type": "display_data"
        },
        {
          "data": {
            "text/html": [
              "0.00482032840172768"
            ],
            "text/latex": [
              "0.00482032840172768"
            ],
            "text/markdown": [
              "0.00482032840172768"
            ],
            "text/plain": [
              "[1] 0.004820328"
            ]
          },
          "metadata": {},
          "output_type": "display_data"
        }
      ],
      "source": [
        "#specify the null distribution (which  we know is wrong)\n",
        "pvec.0 = c(.2,.2,.3,.3) # probabilities for null distribution\n",
        "\n",
        "X2.obs <- myX2(x0, pvec.0)\n",
        "X2.obs\n",
        "\n",
        "p.value=pchisq(X2.obs,df=4-1,lower.tail = FALSE)\n",
        "p.value"
      ]
    },
    {
      "cell_type": "markdown",
      "metadata": {},
      "source": [
        "At 5% significance level we can reject the null hypothesis and conclude that we have enough evidence to say that our data does not come from a multinomial distribution with probabilities (.2,.2,.3,.3).\n",
        "\n",
        "(iv) Alternatively: Obtain the Null distribution."
      ]
    },
    {
      "cell_type": "code",
      "execution_count": 15,
      "metadata": {
        "vscode": {
          "languageId": "r"
        }
      },
      "outputs": [
        {
          "data": {
            "text/html": [
              "0.0046"
            ],
            "text/latex": [
              "0.0046"
            ],
            "text/markdown": [
              "0.0046"
            ],
            "text/plain": [
              "[1] 0.0046"
            ]
          },
          "metadata": {},
          "output_type": "display_data"
        },
        {
          "data": {
            "image/png": "[encoded data removed]",
            "text/plain": [
              "Plot with title \"Null Distribution\""
            ]
          },
          "metadata": {
            "image/png": {
              "height": 420,
              "width": 420
            }
          },
          "output_type": "display_data"
        }
      ],
      "source": [
        "X2.null <- replicate(10000, myX2(rmultinom(1,size = 40,prob = pvec.0),pvec.0)) #null distribution obtain by replicating the experiment 10,000\n",
        "\n",
        "## Null distribution\n",
        "\n",
        "hist(X2.null, prob = T, xlim = c(0,20), col = \"forestgreen\", main=\"Null Distribution\")                     \n",
        "abline(v = X2.obs, col = 2) #test statistic value\n",
        "\n",
        "\n",
        "\n",
        "#p-value\n",
        "mean(X2.null > X2.obs) #p-value  : Probability or fraction of times extreme values observed than the test statistic calculated by assuming null is true                  "
      ]
    },
    {
      "cell_type": "markdown",
      "metadata": {},
      "source": [
        "(v) You can also use the Chi squared test:"
      ]
    },
    {
      "cell_type": "code",
      "execution_count": 16,
      "metadata": {
        "vscode": {
          "languageId": "r"
        }
      },
      "outputs": [
        {
          "data": {
            "text/plain": [
              "\n",
              "\tChi-squared test for given probabilities\n",
              "\n",
              "data:  x0\n",
              "X-squared = 12.917, df = 3, p-value = 0.00482\n"
            ]
          },
          "metadata": {},
          "output_type": "display_data"
        }
      ],
      "source": [
        "chisq.test(x0, p = pvec.0)"
      ]
    },
    {
      "cell_type": "markdown",
      "metadata": {},
      "source": [
        "Reject the null hypothesis at 0.05 significance level and conclude that we have enough evidence to say that our data does not come from a multinomial distribution with probabilities (.2,.2,.3,.3).\n",
        "\n",
        "\n",
        "\n",
        "\n",
        "\n",
        "\n",
        "## Two-way table\n",
        "\n",
        "## Example 5\n",
        "\n",
        "(a) Import gss2002 data"
      ]
    },
    {
      "cell_type": "code",
      "execution_count": 17,
      "metadata": {
        "vscode": {
          "languageId": "r"
        }
      },
      "outputs": [
        {
          "data": {
            "text/html": [
              "<table class=\"dataframe\">\n",
              "<caption>A data.frame: 6 × 21</caption>\n",
              "<thead>\n",
              "\t<tr><th></th><th scope=col>ID</th><th scope=col>Region</th><th scope=col>Gender</th><th scope=col>Race</th><th scope=col>Education</th><th scope=col>Marital</th><th scope=col>Religion</th><th scope=col>Happy</th><th scope=col>Income</th><th scope=col>PolParty</th><th scope=col>...</th><th scope=col>Marijuana</th><th scope=col>DeathPenalty</th><th scope=col>OwnGun</th><th scope=col>GunLaw</th><th scope=col>SpendMilitary</th><th scope=col>SpendEduc</th><th scope=col>SpendEnv</th><th scope=col>SpendSci</th><th scope=col>Pres00</th><th scope=col>Postlife</th></tr>\n",
              "\t<tr><th></th><th scope=col>&lt;int&gt;</th><th scope=col>&lt;chr&gt;</th><th scope=col>&lt;chr&gt;</th><th scope=col>&lt;chr&gt;</th><th scope=col>&lt;chr&gt;</th><th scope=col>&lt;chr&gt;</th><th scope=col>&lt;chr&gt;</th><th scope=col>&lt;chr&gt;</th><th scope=col>&lt;chr&gt;</th><th scope=col>&lt;chr&gt;</th><th scope=col>...</th><th scope=col>&lt;chr&gt;</th><th scope=col>&lt;chr&gt;</th><th scope=col>&lt;chr&gt;</th><th scope=col>&lt;chr&gt;</th><th scope=col>&lt;chr&gt;</th><th scope=col>&lt;chr&gt;</th><th scope=col>&lt;chr&gt;</th><th scope=col>&lt;chr&gt;</th><th scope=col>&lt;chr&gt;</th><th scope=col>&lt;chr&gt;</th></tr>\n",
              "</thead>\n",
              "<tbody>\n",
              "\t<tr><th scope=row>1</th><td>1</td><td>South Central</td><td>Female</td><td>White</td><td>HS       </td><td>Divorced </td><td>Inter-nondenominational</td><td>Pretty happy</td><td>30000-34999</td><td>Strong Rep   </td><td>...</td><td>NA       </td><td>Favor</td><td>No </td><td>Favor </td><td>Too little </td><td>Too little</td><td>About right</td><td>About right</td><td>Bush</td><td>Yes</td></tr>\n",
              "\t<tr><th scope=row>2</th><td>2</td><td>South Central</td><td>Male  </td><td>White</td><td>Bachelors</td><td>Married  </td><td>Protestant             </td><td>Pretty happy</td><td>75000-89999</td><td>Not Str Rep  </td><td>...</td><td>Not legal</td><td>Favor</td><td>Yes</td><td>Oppose</td><td>About right</td><td>Too little</td><td>About right</td><td>About right</td><td>Bush</td><td>Yes</td></tr>\n",
              "\t<tr><th scope=row>3</th><td>3</td><td>South Central</td><td>Female</td><td>White</td><td>HS       </td><td>Separated</td><td>Protestant             </td><td>NA          </td><td>35000-39999</td><td>Strong Rep   </td><td>...</td><td>NA       </td><td>NA   </td><td>NA </td><td>NA    </td><td>NA         </td><td>NA        </td><td>NA         </td><td>NA         </td><td>Bush</td><td>NA </td></tr>\n",
              "\t<tr><th scope=row>4</th><td>4</td><td>South Central</td><td>Female</td><td>White</td><td>Left HS  </td><td>Divorced </td><td>Protestant             </td><td>NA          </td><td>50000-59999</td><td>Ind, Near Dem</td><td>...</td><td>NA       </td><td>NA   </td><td>NA </td><td>NA    </td><td>About right</td><td>Too little</td><td>Too little </td><td>Too little </td><td>NA  </td><td>NA </td></tr>\n",
              "\t<tr><th scope=row>5</th><td>5</td><td>South Central</td><td>Male  </td><td>White</td><td>Left HS  </td><td>Divorced </td><td>Protestant             </td><td>NA          </td><td>40000-49999</td><td>Ind          </td><td>...</td><td>NA       </td><td>NA   </td><td>NA </td><td>NA    </td><td>NA         </td><td>NA        </td><td>NA         </td><td>NA         </td><td>NA  </td><td>NA </td></tr>\n",
              "\t<tr><th scope=row>6</th><td>6</td><td>South Central</td><td>Male  </td><td>White</td><td>HS       </td><td>Divorced </td><td>Catholic               </td><td>Pretty happy</td><td>40000-49999</td><td>Ind, Near Rep</td><td>...</td><td>NA       </td><td>Favor</td><td>Yes</td><td>Oppose</td><td>Too little </td><td>Too little</td><td>Too little </td><td>Too little </td><td>Bush</td><td>Yes</td></tr>\n",
              "</tbody>\n",
              "</table>\n"
            ],
            "text/latex": [
              "A data.frame: 6 × 21\n",
              "\\begin{tabular}{r|lllllllllllllllllllll}\n",
              "  & ID & Region & Gender & Race & Education & Marital & Religion & Happy & Income & PolParty & ... & Marijuana & DeathPenalty & OwnGun & GunLaw & SpendMilitary & SpendEduc & SpendEnv & SpendSci & Pres00 & Postlife\\\\\n",
              "  & <int> & <chr> & <chr> & <chr> & <chr> & <chr> & <chr> & <chr> & <chr> & <chr> & ... & <chr> & <chr> & <chr> & <chr> & <chr> & <chr> & <chr> & <chr> & <chr> & <chr>\\\\\n",
              "\\hline\n",
              "\t1 & 1 & South Central & Female & White & HS        & Divorced  & Inter-nondenominational & Pretty happy & 30000-34999 & Strong Rep    & ... & NA        & Favor & No  & Favor  & Too little  & Too little & About right & About right & Bush & Yes\\\\\n",
              "\t2 & 2 & South Central & Male   & White & Bachelors & Married   & Protestant              & Pretty happy & 75000-89999 & Not Str Rep   & ... & Not legal & Favor & Yes & Oppose & About right & Too little & About right & About right & Bush & Yes\\\\\n",
              "\t3 & 3 & South Central & Female & White & HS        & Separated & Protestant              & NA           & 35000-39999 & Strong Rep    & ... & NA        & NA    & NA  & NA     & NA          & NA         & NA          & NA          & Bush & NA \\\\\n",
              "\t4 & 4 & South Central & Female & White & Left HS   & Divorced  & Protestant              & NA           & 50000-59999 & Ind, Near Dem & ... & NA        & NA    & NA  & NA     & About right & Too little & Too little  & Too little  & NA   & NA \\\\\n",
              "\t5 & 5 & South Central & Male   & White & Left HS   & Divorced  & Protestant              & NA           & 40000-49999 & Ind           & ... & NA        & NA    & NA  & NA     & NA          & NA         & NA          & NA          & NA   & NA \\\\\n",
              "\t6 & 6 & South Central & Male   & White & HS        & Divorced  & Catholic                & Pretty happy & 40000-49999 & Ind, Near Rep & ... & NA        & Favor & Yes & Oppose & Too little  & Too little & Too little  & Too little  & Bush & Yes\\\\\n",
              "\\end{tabular}\n"
            ],
            "text/markdown": [
              "\n",
              "A data.frame: 6 × 21\n",
              "\n",
              "| <!--/--> | ID &lt;int&gt; | Region &lt;chr&gt; | Gender &lt;chr&gt; | Race &lt;chr&gt; | Education &lt;chr&gt; | Marital &lt;chr&gt; | Religion &lt;chr&gt; | Happy &lt;chr&gt; | Income &lt;chr&gt; | PolParty &lt;chr&gt; | ... ... | Marijuana &lt;chr&gt; | DeathPenalty &lt;chr&gt; | OwnGun &lt;chr&gt; | GunLaw &lt;chr&gt; | SpendMilitary &lt;chr&gt; | SpendEduc &lt;chr&gt; | SpendEnv &lt;chr&gt; | SpendSci &lt;chr&gt; | Pres00 &lt;chr&gt; | Postlife &lt;chr&gt; |\n",
              "|---|---|---|---|---|---|---|---|---|---|---|---|---|---|---|---|---|---|---|---|---|---|\n",
              "| 1 | 1 | South Central | Female | White | HS        | Divorced  | Inter-nondenominational | Pretty happy | 30000-34999 | Strong Rep    | ... | NA        | Favor | No  | Favor  | Too little  | Too little | About right | About right | Bush | Yes |\n",
              "| 2 | 2 | South Central | Male   | White | Bachelors | Married   | Protestant              | Pretty happy | 75000-89999 | Not Str Rep   | ... | Not legal | Favor | Yes | Oppose | About right | Too little | About right | About right | Bush | Yes |\n",
              "| 3 | 3 | South Central | Female | White | HS        | Separated | Protestant              | NA           | 35000-39999 | Strong Rep    | ... | NA        | NA    | NA  | NA     | NA          | NA         | NA          | NA          | Bush | NA  |\n",
              "| 4 | 4 | South Central | Female | White | Left HS   | Divorced  | Protestant              | NA           | 50000-59999 | Ind, Near Dem | ... | NA        | NA    | NA  | NA     | About right | Too little | Too little  | Too little  | NA   | NA  |\n",
              "| 5 | 5 | South Central | Male   | White | Left HS   | Divorced  | Protestant              | NA           | 40000-49999 | Ind           | ... | NA        | NA    | NA  | NA     | NA          | NA         | NA          | NA          | NA   | NA  |\n",
              "| 6 | 6 | South Central | Male   | White | HS        | Divorced  | Catholic                | Pretty happy | 40000-49999 | Ind, Near Rep | ... | NA        | Favor | Yes | Oppose | Too little  | Too little | Too little  | Too little  | Bush | Yes |\n",
              "\n"
            ],
            "text/plain": [
              "  ID Region        Gender Race  Education Marital   Religion               \n",
              "1 1  South Central Female White HS        Divorced  Inter-nondenominational\n",
              "2 2  South Central Male   White Bachelors Married   Protestant             \n",
              "3 3  South Central Female White HS        Separated Protestant             \n",
              "4 4  South Central Female White Left HS   Divorced  Protestant             \n",
              "5 5  South Central Male   White Left HS   Divorced  Protestant             \n",
              "6 6  South Central Male   White HS        Divorced  Catholic               \n",
              "  Happy        Income      PolParty      ... Marijuana DeathPenalty OwnGun\n",
              "1 Pretty happy 30000-34999 Strong Rep    ... NA        Favor        No    \n",
              "2 Pretty happy 75000-89999 Not Str Rep   ... Not legal Favor        Yes   \n",
              "3 NA           35000-39999 Strong Rep    ... NA        NA           NA    \n",
              "4 NA           50000-59999 Ind, Near Dem ... NA        NA           NA    \n",
              "5 NA           40000-49999 Ind           ... NA        NA           NA    \n",
              "6 Pretty happy 40000-49999 Ind, Near Rep ... NA        Favor        Yes   \n",
              "  GunLaw SpendMilitary SpendEduc  SpendEnv    SpendSci    Pres00 Postlife\n",
              "1 Favor  Too little    Too little About right About right Bush   Yes     \n",
              "2 Oppose About right   Too little About right About right Bush   Yes     \n",
              "3 NA     NA            NA         NA          NA          Bush   NA      \n",
              "4 NA     About right   Too little Too little  Too little  NA     NA      \n",
              "5 NA     NA            NA         NA          NA          NA     NA      \n",
              "6 Oppose Too little    Too little Too little  Too little  Bush   Yes     "
            ]
          },
          "metadata": {},
          "output_type": "display_data"
        }
      ],
      "source": [
        "gss2002 <- read.csv(\"gss2002.csv\")\n",
        "\n",
        "head(gss2002)"
      ]
    },
    {
      "cell_type": "markdown",
      "metadata": {},
      "source": [
        "(b) Make a few one-way tables"
      ]
    },
    {
      "cell_type": "code",
      "execution_count": 18,
      "metadata": {
        "vscode": {
          "languageId": "r"
        }
      },
      "outputs": [
        {
          "data": {
            "text/plain": [
              "\n",
              "       Mid-Atl       Mountain       New Engl  North Central        Pacific \n",
              "           435            165            158            684            366 \n",
              "South Atlantic  South Central \n",
              "           486            471 "
            ]
          },
          "metadata": {},
          "output_type": "display_data"
        },
        {
          "data": {
            "text/html": [
              "0"
            ],
            "text/latex": [
              "0"
            ],
            "text/markdown": [
              "0"
            ],
            "text/plain": [
              "[1] 0"
            ]
          },
          "metadata": {},
          "output_type": "display_data"
        },
        {
          "data": {
            "text/plain": [
              "\n",
              "Black Other White \n",
              "  410   167  2188 "
            ]
          },
          "metadata": {},
          "output_type": "display_data"
        },
        {
          "data": {
            "text/html": [
              "0"
            ],
            "text/latex": [
              "0"
            ],
            "text/markdown": [
              "0"
            ],
            "text/plain": [
              "[1] 0"
            ]
          },
          "metadata": {},
          "output_type": "display_data"
        },
        {
          "data": {
            "text/plain": [
              "\n",
              "          Conservative Extremely conservative      Extremely liberal \n",
              "                   210                     41                     47 \n",
              "               Liberal               Moderate  Slightly conservative \n",
              "                   143                    522                    209 \n",
              "      Slightly liberal \n",
              "                   159 "
            ]
          },
          "metadata": {},
          "output_type": "display_data"
        },
        {
          "data": {
            "text/html": [
              "1434"
            ],
            "text/latex": [
              "1434"
            ],
            "text/markdown": [
              "1434"
            ],
            "text/plain": [
              "[1] 1434"
            ]
          },
          "metadata": {},
          "output_type": "display_data"
        },
        {
          "data": {
            "text/html": [
              "0"
            ],
            "text/latex": [
              "0"
            ],
            "text/markdown": [
              "0"
            ],
            "text/plain": [
              "[1] 0"
            ]
          },
          "metadata": {},
          "output_type": "display_data"
        }
      ],
      "source": [
        "table(gss2002$Region) #7 different regions\n",
        "sum(is.na(gss2002$Region))#NA?\n",
        "\n",
        "table(gss2002$Race) #3 Race\n",
        "sum(is.na(gss2002$Race))\n",
        "\n",
        "table(gss2002$Politics)\n",
        "sum(is.na(gss2002$Politics))#lot of NAs\n",
        "\n",
        "#clean the Politics variable\n",
        "gss2002.clean <- gss2002[!is.na(gss2002$Politics),]\n",
        "\n",
        "sum(is.na(gss2002.clean$Politics))\n",
        "\n",
        "\n",
        "##or\n",
        "\n",
        "#not very good to do it this way, because you will loose information \n",
        "#gss2002.clean = na.omit(gss2002)\n",
        "#sum(is.na(gss2002.clean$Happy))"
      ]
    },
    {
      "cell_type": "markdown",
      "metadata": {},
      "source": [
        "(c) Make a two-way table of Region and Politics."
      ]
    },
    {
      "cell_type": "code",
      "execution_count": 19,
      "metadata": {
        "vscode": {
          "languageId": "r"
        }
      },
      "outputs": [
        {
          "data": {
            "text/plain": [
              "                \n",
              "                 Conservative Extremely conservative Extremely liberal Liberal\n",
              "  Mid-Atl                  29                      2                 9      29\n",
              "  Mountain                 14                      1                 4      10\n",
              "  New Engl                  9                      1                 3       9\n",
              "  North Central            37                     12                 8      37\n",
              "  Pacific                  30                      5                 6      22\n",
              "  South Atlantic           43                     11                10      20\n",
              "  South Central            48                      9                 7      16\n",
              "                \n",
              "                 Moderate Slightly conservative Slightly liberal\n",
              "  Mid-Atl              94                    28               20\n",
              "  Mountain             28                    13                8\n",
              "  New Engl             28                     8               16\n",
              "  North Central       148                    56               41\n",
              "  Pacific              63                    20               31\n",
              "  South Atlantic       79                    42               25\n",
              "  South Central        82                    42               18"
            ]
          },
          "metadata": {},
          "output_type": "display_data"
        }
      ],
      "source": [
        "table(gss2002.clean$Region, gss2002.clean$Politics)\n",
        "\n",
        "# This is a 7 x 7 table.\n",
        "# is there a connection? Are there any characteristics in different regions? for example, North Central is moderate  than other regions. or People in North central is more conservative than the other regions."
      ]
    },
    {
      "cell_type": "markdown",
      "metadata": {},
      "source": [
        "(d) Chi-square statistic for a two-way table (treated as a matrix).\n",
        "\n",
        "Let's practice by calulating the test statistic by hand."
      ]
    },
    {
      "cell_type": "code",
      "execution_count": 20,
      "metadata": {
        "vscode": {
          "languageId": "r"
        }
      },
      "outputs": [
        {
          "data": {
            "text/plain": [
              "                \n",
              "                 Conservative Extremely conservative Extremely liberal Liberal\n",
              "  Mid-Atl                  29                      2                 9      29\n",
              "  Mountain                 14                      1                 4      10\n",
              "  New Engl                  9                      1                 3       9\n",
              "  North Central            37                     12                 8      37\n",
              "  Pacific                  30                      5                 6      22\n",
              "  South Atlantic           43                     11                10      20\n",
              "  South Central            48                      9                 7      16\n",
              "                \n",
              "                 Moderate Slightly conservative Slightly liberal\n",
              "  Mid-Atl              94                    28               20\n",
              "  Mountain             28                    13                8\n",
              "  New Engl             28                     8               16\n",
              "  North Central       148                    56               41\n",
              "  Pacific              63                    20               31\n",
              "  South Atlantic       79                    42               25\n",
              "  South Central        82                    42               18"
            ]
          },
          "metadata": {},
          "output_type": "display_data"
        },
        {
          "data": {
            "text/html": [
              "<style>\n",
              ".dl-inline {width: auto; margin:0; padding: 0}\n",
              ".dl-inline>dt, .dl-inline>dd {float: none; width: auto; display: inline-block}\n",
              ".dl-inline>dt::after {content: \":\\0020\"; padding-right: .5ex}\n",
              ".dl-inline>dt:not(:first-of-type) {padding-left: .5ex}\n",
              "</style><dl class=dl-inline><dt>Mid-Atl</dt><dd>211</dd><dt>Mountain</dt><dd>78</dd><dt>New Engl</dt><dd>74</dd><dt>North Central</dt><dd>339</dd><dt>Pacific</dt><dd>177</dd><dt>South Atlantic</dt><dd>230</dd><dt>South Central</dt><dd>222</dd></dl>\n"
            ],
            "text/latex": [
              "\\begin{description*}\n",
              "\\item[Mid-Atl] 211\n",
              "\\item[Mountain] 78\n",
              "\\item[New Engl] 74\n",
              "\\item[North Central] 339\n",
              "\\item[Pacific] 177\n",
              "\\item[South Atlantic] 230\n",
              "\\item[South Central] 222\n",
              "\\end{description*}\n"
            ],
            "text/markdown": [
              "Mid-Atl\n",
              ":   211Mountain\n",
              ":   78New Engl\n",
              ":   74North Central\n",
              ":   339Pacific\n",
              ":   177South Atlantic\n",
              ":   230South Central\n",
              ":   222\n",
              "\n"
            ],
            "text/plain": [
              "       Mid-Atl       Mountain       New Engl  North Central        Pacific \n",
              "           211             78             74            339            177 \n",
              "South Atlantic  South Central \n",
              "           230            222 "
            ]
          },
          "metadata": {},
          "output_type": "display_data"
        },
        {
          "data": {
            "text/html": [
              "<style>\n",
              ".dl-inline {width: auto; margin:0; padding: 0}\n",
              ".dl-inline>dt, .dl-inline>dd {float: none; width: auto; display: inline-block}\n",
              ".dl-inline>dt::after {content: \":\\0020\"; padding-right: .5ex}\n",
              ".dl-inline>dt:not(:first-of-type) {padding-left: .5ex}\n",
              "</style><dl class=dl-inline><dt>Conservative</dt><dd>210</dd><dt>Extremely conservative</dt><dd>41</dd><dt>Extremely liberal</dt><dd>47</dd><dt>Liberal</dt><dd>143</dd><dt>Moderate</dt><dd>522</dd><dt>Slightly conservative</dt><dd>209</dd><dt>Slightly liberal</dt><dd>159</dd></dl>\n"
            ],
            "text/latex": [
              "\\begin{description*}\n",
              "\\item[Conservative] 210\n",
              "\\item[Extremely conservative] 41\n",
              "\\item[Extremely liberal] 47\n",
              "\\item[Liberal] 143\n",
              "\\item[Moderate] 522\n",
              "\\item[Slightly conservative] 209\n",
              "\\item[Slightly liberal] 159\n",
              "\\end{description*}\n"
            ],
            "text/markdown": [
              "Conservative\n",
              ":   210Extremely conservative\n",
              ":   41Extremely liberal\n",
              ":   47Liberal\n",
              ":   143Moderate\n",
              ":   522Slightly conservative\n",
              ":   209Slightly liberal\n",
              ":   159\n",
              "\n"
            ],
            "text/plain": [
              "          Conservative Extremely conservative      Extremely liberal \n",
              "                   210                     41                     47 \n",
              "               Liberal               Moderate  Slightly conservative \n",
              "                   143                    522                    209 \n",
              "      Slightly liberal \n",
              "                   159 "
            ]
          },
          "metadata": {},
          "output_type": "display_data"
        },
        {
          "data": {
            "text/html": [
              "33.2907588279489"
            ],
            "text/latex": [
              "33.2907588279489"
            ],
            "text/markdown": [
              "33.2907588279489"
            ],
            "text/plain": [
              "[1] 33.29076"
            ]
          },
          "metadata": {},
          "output_type": "display_data"
        },
        {
          "data": {
            "text/html": [
              "29"
            ],
            "text/latex": [
              "29"
            ],
            "text/markdown": [
              "29"
            ],
            "text/plain": [
              "[1] 29"
            ]
          },
          "metadata": {},
          "output_type": "display_data"
        }
      ],
      "source": [
        "gss2002.clean <- gss2002[!is.na(gss2002$Politics) & !is.na(gss2002$Region),]\n",
        "\n",
        "A <- table(gss2002.clean$Region, gss2002.clean$Politics)\n",
        "A\n",
        "\n",
        "(r <- rowSums(A)) #how many individuals in each Region\n",
        "(c <- colSums(A)) #how many individuals for each Political view\n",
        "\n",
        "N = sum(A)\n",
        "\n",
        "expected <- outer(r,c)/N #multiplying all possible combinations by 'outer()' function\n",
        "\n",
        "expected [1,1] #check the first cell-expected count\n",
        "A[1,1] # check the observed value for this entry\n",
        "\n",
        "#let's write a function to do this\n",
        "myX2.2 = function(A){\n",
        "  r <- rowSums(A)\n",
        "  c <- colSums(A)\n",
        "  N = sum(A)\n",
        "  expected <- outer(r,c)/N\n",
        "  return(sum((A-expected)^2/expected))\n",
        "}"
      ]
    },
    {
      "cell_type": "markdown",
      "metadata": {},
      "source": [
        "(e) Compute Chi square statistic for GSS 2002 data"
      ]
    },
    {
      "cell_type": "code",
      "execution_count": 21,
      "metadata": {
        "vscode": {
          "languageId": "r"
        }
      },
      "outputs": [
        {
          "data": {
            "text/html": [
              "0.0159527073033929"
            ],
            "text/latex": [
              "0.0159527073033929"
            ],
            "text/markdown": [
              "0.0159527073033929"
            ],
            "text/plain": [
              "[1] 0.01595271"
            ]
          },
          "metadata": {},
          "output_type": "display_data"
        }
      ],
      "source": [
        "x2=myX2.2(table(gss2002.clean$Region, gss2002.clean$Politics))\n",
        "pchisq(x2, df = (7-1)*(7-1), lower.tail = F) #p-value"
      ]
    },
    {
      "cell_type": "markdown",
      "metadata": {},
      "source": [
        "Since the p-value is less than 0.05, at 0.05 significance we reject H0.We have enough evidence to conclude that there is a relationship between the Region and Political views of people in the US.\n",
        "\n",
        "\n",
        "## Example 6:Homogeneity of populations.\n",
        "\n",
        "_Examine happiness levels by gender_ \n"
      ]
    },
    {
      "cell_type": "code",
      "execution_count": 22,
      "metadata": {
        "vscode": {
          "languageId": "r"
        }
      },
      "outputs": [
        {
          "data": {
            "text/plain": [
              "\n",
              "\n",
              "|       | Not too happy| Pretty happy| Very happy|\n",
              "|:------|-------------:|------------:|----------:|\n",
              "|Female |           109|          406|        205|\n",
              "|Male   |            61|          378|        210|"
            ]
          },
          "metadata": {},
          "output_type": "display_data"
        },
        {
          "data": {
            "text/html": [
              "0.00416846892420833"
            ],
            "text/latex": [
              "0.00416846892420833"
            ],
            "text/markdown": [
              "0.00416846892420833"
            ],
            "text/plain": [
              "[1] 0.004168469"
            ]
          },
          "metadata": {},
          "output_type": "display_data"
        }
      ],
      "source": [
        "gss2002.clean2 <- gss2002[!is.na(gss2002$Gender) & !is.na(gss2002$Happy),]\n",
        "\n",
        "tableGH= table(gss2002.clean2$Gender, gss2002.clean2$Happy)\n",
        "kable(tableGH) #nice table representation\n",
        "\n",
        "myX2.obs <- myX2.2(tableGH)\n",
        "\n",
        "pchisq(myX2.obs, df = (2-1)*(3-1), lower.tail = F)"
      ]
    },
    {
      "cell_type": "markdown",
      "metadata": {},
      "source": [
        "Or you can do the Chi squared test using Chis1.test()"
      ]
    },
    {
      "cell_type": "code",
      "execution_count": 23,
      "metadata": {
        "vscode": {
          "languageId": "r"
        }
      },
      "outputs": [
        {
          "data": {
            "text/plain": [
              "\n",
              "\tPearson's Chi-squared test\n",
              "\n",
              "data:  tableGH\n",
              "X-squared = 10.96, df = 2, p-value = 0.004168\n"
            ]
          },
          "metadata": {},
          "output_type": "display_data"
        }
      ],
      "source": [
        "chisq.test(tableGH)"
      ]
    },
    {
      "cell_type": "markdown",
      "metadata": {},
      "source": [
        "since p-value is less than 0.05, at 5\\% significance level, we reject the null hypothesis and we have enough evidence to conclude that the happiness levels are different for different genders.(or there is a relationship between the happiness and the gender)\n",
        "\n",
        "\n",
        "#### Examine outputs:"
      ]
    },
    {
      "cell_type": "code",
      "execution_count": 24,
      "metadata": {
        "vscode": {
          "languageId": "r"
        }
      },
      "outputs": [
        {
          "data": {
            "text/html": [
              "<style>\n",
              ".list-inline {list-style: none; margin:0; padding: 0}\n",
              ".list-inline>li {display: inline-block}\n",
              ".list-inline>li:not(:last-child)::after {content: \"\\00b7\"; padding: 0 .5ex}\n",
              "</style>\n",
              "<ol class=list-inline><li>'statistic'</li><li>'parameter'</li><li>'p.value'</li><li>'method'</li><li>'data.name'</li><li>'observed'</li><li>'expected'</li><li>'residuals'</li><li>'stdres'</li></ol>\n"
            ],
            "text/latex": [
              "\\begin{enumerate*}\n",
              "\\item 'statistic'\n",
              "\\item 'parameter'\n",
              "\\item 'p.value'\n",
              "\\item 'method'\n",
              "\\item 'data.name'\n",
              "\\item 'observed'\n",
              "\\item 'expected'\n",
              "\\item 'residuals'\n",
              "\\item 'stdres'\n",
              "\\end{enumerate*}\n"
            ],
            "text/markdown": [
              "1. 'statistic'\n",
              "2. 'parameter'\n",
              "3. 'p.value'\n",
              "4. 'method'\n",
              "5. 'data.name'\n",
              "6. 'observed'\n",
              "7. 'expected'\n",
              "8. 'residuals'\n",
              "9. 'stdres'\n",
              "\n",
              "\n"
            ],
            "text/plain": [
              "[1] \"statistic\" \"parameter\" \"p.value\"   \"method\"    \"data.name\" \"observed\" \n",
              "[7] \"expected\"  \"residuals\" \"stdres\"   "
            ]
          },
          "metadata": {},
          "output_type": "display_data"
        },
        {
          "data": {
            "text/html": [
              "<strong>df:</strong> 2"
            ],
            "text/latex": [
              "\\textbf{df:} 2"
            ],
            "text/markdown": [
              "**df:** 2"
            ],
            "text/plain": [
              "df \n",
              " 2 "
            ]
          },
          "metadata": {},
          "output_type": "display_data"
        },
        {
          "data": {
            "text/html": [
              "'Pearson\\'s Chi-squared test'"
            ],
            "text/latex": [
              "'Pearson\\textbackslash{}'s Chi-squared test'"
            ],
            "text/markdown": [
              "'Pearson\\'s Chi-squared test'"
            ],
            "text/plain": [
              "[1] \"Pearson's Chi-squared test\""
            ]
          },
          "metadata": {},
          "output_type": "display_data"
        },
        {
          "data": {
            "text/plain": [
              "        \n",
              "         Not too happy Pretty happy Very happy\n",
              "  Female           109          406        205\n",
              "  Male              61          378        210"
            ]
          },
          "metadata": {},
          "output_type": "display_data"
        },
        {
          "data": {
            "text/plain": [
              "        \n",
              "         Not too happy Pretty happy Very happy\n",
              "  Female     2.0719656   -0.3117401 -0.8976442\n",
              "  Male      -2.1823602    0.3283497  0.9454708"
            ]
          },
          "metadata": {},
          "output_type": "display_data"
        },
        {
          "data": {
            "text/plain": [
              "        \n",
              "         Not too happy Pretty happy Very happy\n",
              "  Female     3.2155409   -0.6926213 -1.5617487\n",
              "  Male      -3.2155409    0.6926213  1.5617487"
            ]
          },
          "metadata": {},
          "output_type": "display_data"
        }
      ],
      "source": [
        "test.1 <- chisq.test(tableGH)\n",
        "names(test.1)\n",
        "\n",
        "test.1$parameter\n",
        "test.1$method\n",
        "test.1$observed\n",
        "\n",
        "test.1$residuals\n",
        "test.1$stdres #standardized residuals"
      ]
    },
    {
      "cell_type": "markdown",
      "metadata": {},
      "source": [
        "Check if the Yate's continuity correction is needed?\n",
        "\n",
        "This is needed when expected cell counts are very small(<=5)."
      ]
    },
    {
      "cell_type": "code",
      "execution_count": 25,
      "metadata": {
        "vscode": {
          "languageId": "r"
        }
      },
      "outputs": [
        {
          "data": {
            "text/html": [
              "<table class=\"dataframe\">\n",
              "<caption>A matrix: 2 × 3 of type dbl</caption>\n",
              "<thead>\n",
              "\t<tr><th></th><th scope=col>Not too happy</th><th scope=col>Pretty happy</th><th scope=col>Very happy</th></tr>\n",
              "</thead>\n",
              "<tbody>\n",
              "\t<tr><th scope=row>Female</th><td>89.40833</td><td>412.3302</td><td>218.2615</td></tr>\n",
              "\t<tr><th scope=row>Male</th><td>80.59167</td><td>371.6698</td><td>196.7385</td></tr>\n",
              "</tbody>\n",
              "</table>\n"
            ],
            "text/latex": [
              "A matrix: 2 × 3 of type dbl\n",
              "\\begin{tabular}{r|lll}\n",
              "  & Not too happy & Pretty happy & Very happy\\\\\n",
              "\\hline\n",
              "\tFemale & 89.40833 & 412.3302 & 218.2615\\\\\n",
              "\tMale & 80.59167 & 371.6698 & 196.7385\\\\\n",
              "\\end{tabular}\n"
            ],
            "text/markdown": [
              "\n",
              "A matrix: 2 × 3 of type dbl\n",
              "\n",
              "| <!--/--> | Not too happy | Pretty happy | Very happy |\n",
              "|---|---|---|---|\n",
              "| Female | 89.40833 | 412.3302 | 218.2615 |\n",
              "| Male | 80.59167 | 371.6698 | 196.7385 |\n",
              "\n"
            ],
            "text/plain": [
              "       Not too happy Pretty happy Very happy\n",
              "Female 89.40833      412.3302     218.2615  \n",
              "Male   80.59167      371.6698     196.7385  "
            ]
          },
          "metadata": {},
          "output_type": "display_data"
        }
      ],
      "source": [
        "A <- table(gss2002.clean2$Gender, gss2002.clean2$Happy)\n",
        "\n",
        "r <- rowSums(A)\n",
        "c <- colSums(A)\n",
        "N = sum(A)\n",
        "expected <- outer(r,c)/N\n",
        "expected"
      ]
    },
    {
      "cell_type": "code",
      "execution_count": 26,
      "metadata": {
        "vscode": {
          "languageId": "r"
        }
      },
      "outputs": [
        {
          "data": {
            "text/html": [
              "<table class=\"dataframe\">\n",
              "<caption>A matrix: 2 × 3 of type dbl</caption>\n",
              "<thead>\n",
              "\t<tr><th></th><th scope=col>Not too happy</th><th scope=col>Pretty happy</th><th scope=col>Very happy</th></tr>\n",
              "</thead>\n",
              "<tbody>\n",
              "\t<tr><th scope=row>Female</th><td>89.40833</td><td>412.3302</td><td>218.2615</td></tr>\n",
              "\t<tr><th scope=row>Male</th><td>80.59167</td><td>371.6698</td><td>196.7385</td></tr>\n",
              "</tbody>\n",
              "</table>\n"
            ],
            "text/latex": [
              "A matrix: 2 × 3 of type dbl\n",
              "\\begin{tabular}{r|lll}\n",
              "  & Not too happy & Pretty happy & Very happy\\\\\n",
              "\\hline\n",
              "\tFemale & 89.40833 & 412.3302 & 218.2615\\\\\n",
              "\tMale & 80.59167 & 371.6698 & 196.7385\\\\\n",
              "\\end{tabular}\n"
            ],
            "text/markdown": [
              "\n",
              "A matrix: 2 × 3 of type dbl\n",
              "\n",
              "| <!--/--> | Not too happy | Pretty happy | Very happy |\n",
              "|---|---|---|---|\n",
              "| Female | 89.40833 | 412.3302 | 218.2615 |\n",
              "| Male | 80.59167 | 371.6698 | 196.7385 |\n",
              "\n"
            ],
            "text/plain": [
              "        \n",
              "         Not too happy Pretty happy Very happy\n",
              "  Female 89.40833      412.3302     218.2615  \n",
              "  Male   80.59167      371.6698     196.7385  "
            ]
          },
          "metadata": {},
          "output_type": "display_data"
        }
      ],
      "source": [
        "#equivelently\n",
        "test.1$expected"
      ]
    },
    {
      "cell_type": "markdown",
      "metadata": {},
      "source": [
        "No need of the Yate's continuity correction.\n",
        "\n",
        "# Permutation test. \n",
        "\n",
        "## Example 4: Permutation test for mouse data"
      ]
    },
    {
      "cell_type": "code",
      "execution_count": 27,
      "metadata": {
        "vscode": {
          "languageId": "r"
        }
      },
      "outputs": [
        {
          "name": "stdout",
          "output_type": "stream",
          "text": [
            "         pop time\n",
            "1    control   30\n",
            "2    control   19\n",
            "3    control   21\n",
            "4    control   40\n",
            "5    control   32\n",
            "6    control   31\n",
            "7    control   28\n",
            "8    control   26\n",
            "9    control   27\n",
            "10   control   26\n",
            "11 treatment   17\n",
            "12 treatment   18\n",
            "13 treatment   21\n",
            "14 treatment   22\n",
            "15 treatment   21\n",
            "16 treatment   23\n",
            "17 treatment   15\n",
            "18 treatment   15\n",
            "19 treatment   21\n",
            "20 treatment   18\n",
            "21 treatment   20\n",
            "22 treatment   16\n",
            "23 treatment   29\n",
            "24 treatment   23\n"
          ]
        },
        {
          "data": {
            "text/html": [
              "<table class=\"dataframe\">\n",
              "<caption>A data.frame: 6 × 2</caption>\n",
              "<thead>\n",
              "\t<tr><th></th><th scope=col>pop</th><th scope=col>time</th></tr>\n",
              "\t<tr><th></th><th scope=col>&lt;fct&gt;</th><th scope=col>&lt;dbl&gt;</th></tr>\n",
              "</thead>\n",
              "<tbody>\n",
              "\t<tr><th scope=row>24</th><td>treatment</td><td>23</td></tr>\n",
              "\t<tr><th scope=row>12</th><td>treatment</td><td>18</td></tr>\n",
              "\t<tr><th scope=row>20</th><td>treatment</td><td>18</td></tr>\n",
              "\t<tr><th scope=row>14</th><td>treatment</td><td>22</td></tr>\n",
              "\t<tr><th scope=row>5</th><td>control  </td><td>32</td></tr>\n",
              "\t<tr><th scope=row>17</th><td>treatment</td><td>15</td></tr>\n",
              "</tbody>\n",
              "</table>\n"
            ],
            "text/latex": [
              "A data.frame: 6 × 2\n",
              "\\begin{tabular}{r|ll}\n",
              "  & pop & time\\\\\n",
              "  & <fct> & <dbl>\\\\\n",
              "\\hline\n",
              "\t24 & treatment & 23\\\\\n",
              "\t12 & treatment & 18\\\\\n",
              "\t20 & treatment & 18\\\\\n",
              "\t14 & treatment & 22\\\\\n",
              "\t5 & control   & 32\\\\\n",
              "\t17 & treatment & 15\\\\\n",
              "\\end{tabular}\n"
            ],
            "text/markdown": [
              "\n",
              "A data.frame: 6 × 2\n",
              "\n",
              "| <!--/--> | pop &lt;fct&gt; | time &lt;dbl&gt; |\n",
              "|---|---|---|\n",
              "| 24 | treatment | 23 |\n",
              "| 12 | treatment | 18 |\n",
              "| 20 | treatment | 18 |\n",
              "| 14 | treatment | 22 |\n",
              "| 5 | control   | 32 |\n",
              "| 17 | treatment | 15 |\n",
              "\n"
            ],
            "text/plain": [
              "   pop       time\n",
              "24 treatment 23  \n",
              "12 treatment 18  \n",
              "20 treatment 18  \n",
              "14 treatment 22  \n",
              "5  control   32  \n",
              "17 treatment 15  "
            ]
          },
          "metadata": {},
          "output_type": "display_data"
        }
      ],
      "source": [
        "load(\"mice.rdata\")\n",
        "print(mice)\n",
        "\n",
        "#demontration\n",
        "(mice[sample(24,6, replace = F),]) #sample 6 from 24 observations, just to look at the data"
      ]
    },
    {
      "cell_type": "markdown",
      "metadata": {},
      "source": [
        "(a). We use the test statistic $\\bar x_c - \\bar x_t$.\n",
        "\n",
        "(i) Compute these means with the __aggregate()__ function."
      ]
    },
    {
      "cell_type": "code",
      "execution_count": 28,
      "metadata": {
        "vscode": {
          "languageId": "r"
        }
      },
      "outputs": [
        {
          "data": {
            "text/html": [
              "<table class=\"dataframe\">\n",
              "<caption>A data.frame: 2 × 2</caption>\n",
              "<thead>\n",
              "\t<tr><th scope=col>pop</th><th scope=col>time</th></tr>\n",
              "\t<tr><th scope=col>&lt;fct&gt;</th><th scope=col>&lt;dbl&gt;</th></tr>\n",
              "</thead>\n",
              "<tbody>\n",
              "\t<tr><td>control  </td><td>28.00000</td></tr>\n",
              "\t<tr><td>treatment</td><td>19.92857</td></tr>\n",
              "</tbody>\n",
              "</table>\n"
            ],
            "text/latex": [
              "A data.frame: 2 × 2\n",
              "\\begin{tabular}{ll}\n",
              " pop & time\\\\\n",
              " <fct> & <dbl>\\\\\n",
              "\\hline\n",
              "\t control   & 28.00000\\\\\n",
              "\t treatment & 19.92857\\\\\n",
              "\\end{tabular}\n"
            ],
            "text/markdown": [
              "\n",
              "A data.frame: 2 × 2\n",
              "\n",
              "| pop &lt;fct&gt; | time &lt;dbl&gt; |\n",
              "|---|---|\n",
              "| control   | 28.00000 |\n",
              "| treatment | 19.92857 |\n",
              "\n"
            ],
            "text/plain": [
              "  pop       time    \n",
              "1 control   28.00000\n",
              "2 treatment 19.92857"
            ]
          },
          "metadata": {},
          "output_type": "display_data"
        }
      ],
      "source": [
        "aggregate(time ~ pop, data = mice, FUN = mean)"
      ]
    },
    {
      "cell_type": "markdown",
      "metadata": {},
      "source": [
        "(ii) Define a function to compute the test statistic; $\\bar x_c - \\bar x_t$."
      ]
    },
    {
      "cell_type": "code",
      "execution_count": 29,
      "metadata": {
        "vscode": {
          "languageId": "r"
        }
      },
      "outputs": [],
      "source": [
        "mytest.1 = function(mydf){\n",
        "  agg = aggregate(time ~pop, data = mydf, FUN = mean)\n",
        "  return(agg$time[1] - agg$time[2]) #xbar_c - xbar_t\n",
        "}"
      ]
    },
    {
      "cell_type": "markdown",
      "metadata": {},
      "source": [
        "(iii) Try it out for the given data."
      ]
    },
    {
      "cell_type": "code",
      "execution_count": 30,
      "metadata": {
        "vscode": {
          "languageId": "r"
        }
      },
      "outputs": [
        {
          "data": {
            "text/html": [
              "8.07142857142857"
            ],
            "text/latex": [
              "8.07142857142857"
            ],
            "text/markdown": [
              "8.07142857142857"
            ],
            "text/plain": [
              "[1] 8.071429"
            ]
          },
          "metadata": {},
          "output_type": "display_data"
        }
      ],
      "source": [
        "mytest.1(mice) # this is my observed test statistic"
      ]
    },
    {
      "cell_type": "markdown",
      "metadata": {},
      "source": [
        "(iv) Permute the labels and compute the test statistic after the permutation."
      ]
    },
    {
      "cell_type": "code",
      "execution_count": 31,
      "metadata": {
        "vscode": {
          "languageId": "r"
        }
      },
      "outputs": [
        {
          "data": {
            "text/html": [
              "<table class=\"dataframe\">\n",
              "<caption>A data.frame: 6 × 2</caption>\n",
              "<thead>\n",
              "\t<tr><th></th><th scope=col>pop</th><th scope=col>time</th></tr>\n",
              "\t<tr><th></th><th scope=col>&lt;fct&gt;</th><th scope=col>&lt;dbl&gt;</th></tr>\n",
              "</thead>\n",
              "<tbody>\n",
              "\t<tr><th scope=row>1</th><td>control  </td><td>30</td></tr>\n",
              "\t<tr><th scope=row>2</th><td>treatment</td><td>19</td></tr>\n",
              "\t<tr><th scope=row>3</th><td>treatment</td><td>21</td></tr>\n",
              "\t<tr><th scope=row>4</th><td>treatment</td><td>40</td></tr>\n",
              "\t<tr><th scope=row>5</th><td>treatment</td><td>32</td></tr>\n",
              "\t<tr><th scope=row>6</th><td>treatment</td><td>31</td></tr>\n",
              "</tbody>\n",
              "</table>\n"
            ],
            "text/latex": [
              "A data.frame: 6 × 2\n",
              "\\begin{tabular}{r|ll}\n",
              "  & pop & time\\\\\n",
              "  & <fct> & <dbl>\\\\\n",
              "\\hline\n",
              "\t1 & control   & 30\\\\\n",
              "\t2 & treatment & 19\\\\\n",
              "\t3 & treatment & 21\\\\\n",
              "\t4 & treatment & 40\\\\\n",
              "\t5 & treatment & 32\\\\\n",
              "\t6 & treatment & 31\\\\\n",
              "\\end{tabular}\n"
            ],
            "text/markdown": [
              "\n",
              "A data.frame: 6 × 2\n",
              "\n",
              "| <!--/--> | pop &lt;fct&gt; | time &lt;dbl&gt; |\n",
              "|---|---|---|\n",
              "| 1 | control   | 30 |\n",
              "| 2 | treatment | 19 |\n",
              "| 3 | treatment | 21 |\n",
              "| 4 | treatment | 40 |\n",
              "| 5 | treatment | 32 |\n",
              "| 6 | treatment | 31 |\n",
              "\n"
            ],
            "text/plain": [
              "  pop       time\n",
              "1 control   30  \n",
              "2 treatment 19  \n",
              "3 treatment 21  \n",
              "4 treatment 40  \n",
              "5 treatment 32  \n",
              "6 treatment 31  "
            ]
          },
          "metadata": {},
          "output_type": "display_data"
        },
        {
          "data": {
            "text/html": [
              "<table class=\"dataframe\">\n",
              "<caption>A data.frame: 6 × 2</caption>\n",
              "<thead>\n",
              "\t<tr><th></th><th scope=col>pop</th><th scope=col>time</th></tr>\n",
              "\t<tr><th></th><th scope=col>&lt;fct&gt;</th><th scope=col>&lt;dbl&gt;</th></tr>\n",
              "</thead>\n",
              "<tbody>\n",
              "\t<tr><th scope=row>1</th><td>control</td><td>30</td></tr>\n",
              "\t<tr><th scope=row>2</th><td>control</td><td>19</td></tr>\n",
              "\t<tr><th scope=row>3</th><td>control</td><td>21</td></tr>\n",
              "\t<tr><th scope=row>4</th><td>control</td><td>40</td></tr>\n",
              "\t<tr><th scope=row>5</th><td>control</td><td>32</td></tr>\n",
              "\t<tr><th scope=row>6</th><td>control</td><td>31</td></tr>\n",
              "</tbody>\n",
              "</table>\n"
            ],
            "text/latex": [
              "A data.frame: 6 × 2\n",
              "\\begin{tabular}{r|ll}\n",
              "  & pop & time\\\\\n",
              "  & <fct> & <dbl>\\\\\n",
              "\\hline\n",
              "\t1 & control & 30\\\\\n",
              "\t2 & control & 19\\\\\n",
              "\t3 & control & 21\\\\\n",
              "\t4 & control & 40\\\\\n",
              "\t5 & control & 32\\\\\n",
              "\t6 & control & 31\\\\\n",
              "\\end{tabular}\n"
            ],
            "text/markdown": [
              "\n",
              "A data.frame: 6 × 2\n",
              "\n",
              "| <!--/--> | pop &lt;fct&gt; | time &lt;dbl&gt; |\n",
              "|---|---|---|\n",
              "| 1 | control | 30 |\n",
              "| 2 | control | 19 |\n",
              "| 3 | control | 21 |\n",
              "| 4 | control | 40 |\n",
              "| 5 | control | 32 |\n",
              "| 6 | control | 31 |\n",
              "\n"
            ],
            "text/plain": [
              "  pop     time\n",
              "1 control 30  \n",
              "2 control 19  \n",
              "3 control 21  \n",
              "4 control 40  \n",
              "5 control 32  \n",
              "6 control 31  "
            ]
          },
          "metadata": {},
          "output_type": "display_data"
        },
        {
          "data": {
            "text/html": [
              "-5.3"
            ],
            "text/latex": [
              "-5.3"
            ],
            "text/markdown": [
              "-5.3"
            ],
            "text/plain": [
              "[1] -5.3"
            ]
          },
          "metadata": {},
          "output_type": "display_data"
        }
      ],
      "source": [
        "mice.permute = mice #create a copy of the data\n",
        "mice.permute$pop = mice.permute$pop[sample(24,24,replace=F)] #one permutation of the 24 labels\n",
        "\n",
        "head(mice.permute)\n",
        "head(mice)\n",
        "mytest.1(mice.permute) #test statistic for the permuted set"
      ]
    },
    {
      "cell_type": "markdown",
      "metadata": {},
      "source": [
        "(vi) We can do this with a single function"
      ]
    },
    {
      "cell_type": "code",
      "execution_count": 32,
      "metadata": {
        "vscode": {
          "languageId": "r"
        }
      },
      "outputs": [],
      "source": [
        "#this function returns the test statistic value for the permutation test\n",
        "#here we are permuting the laels\n",
        "permute.sample.1 = function(){\n",
        "  mice.permute$pop = mice.permute$pop[sample(24,24,replace=F)]\n",
        "  return(mytest.1(mice.permute))\n",
        "}"
      ]
    },
    {
      "cell_type": "markdown",
      "metadata": {},
      "source": [
        "(vii) Try it out"
      ]
    },
    {
      "cell_type": "code",
      "execution_count": 33,
      "metadata": {
        "vscode": {
          "languageId": "r"
        }
      },
      "outputs": [
        {
          "data": {
            "text/html": [
              "3.1"
            ],
            "text/latex": [
              "3.1"
            ],
            "text/markdown": [
              "3.1"
            ],
            "text/plain": [
              "[1] 3.1"
            ]
          },
          "metadata": {},
          "output_type": "display_data"
        }
      ],
      "source": [
        "permute.sample.1() #just one permiutation"
      ]
    },
    {
      "cell_type": "markdown",
      "metadata": {},
      "source": [
        "(viii) Now do this a large number of times and look at the result."
      ]
    },
    {
      "cell_type": "code",
      "execution_count": 34,
      "metadata": {
        "vscode": {
          "languageId": "r"
        }
      },
      "outputs": [
        {
          "data": {
            "image/png": "[encoded data removed]",
            "text/plain": [
              "Plot with title \"Null distribution\""
            ]
          },
          "metadata": {
            "image/png": {
              "height": 420,
              "width": 420
            }
          },
          "output_type": "display_data"
        }
      ],
      "source": [
        "N = 1000\n",
        "test.1 = replicate(N,permute.sample.1())\n",
        "hist(test.1, main = \"Null distribution\", prob=T,col=\"cadetblue2\")"
      ]
    },
    {
      "cell_type": "markdown",
      "metadata": {},
      "source": [
        "(ix) The observed value was about 8."
      ]
    },
    {
      "cell_type": "code",
      "execution_count": 35,
      "metadata": {
        "vscode": {
          "languageId": "r"
        }
      },
      "outputs": [
        {
          "data": {
            "image/png": "[encoded data removed]",
            "text/plain": [
              "Plot with title \"Null distribution\""
            ]
          },
          "metadata": {
            "image/png": {
              "height": 420,
              "width": 420
            }
          },
          "output_type": "display_data"
        }
      ],
      "source": [
        "N = 10000\n",
        "test.1 = replicate(N,permute.sample.1())\n",
        "hist(test.1, main = \"Null distribution\", prob=T, col=\"cadetblue2\")\n",
        "abline(v = mytest.1(mice), col = 2, lwd = 2)"
      ]
    },
    {
      "cell_type": "markdown",
      "metadata": {},
      "source": [
        "(x) Estimate for p-value: Fraction of permutations where the test statistic is larger than the observed one.  "
      ]
    },
    {
      "cell_type": "code",
      "execution_count": 36,
      "metadata": {
        "vscode": {
          "languageId": "r"
        }
      },
      "outputs": [
        {
          "data": {
            "text/html": [
              "2e-04"
            ],
            "text/latex": [
              "2e-04"
            ],
            "text/markdown": [
              "2e-04"
            ],
            "text/plain": [
              "[1] 2e-04"
            ]
          },
          "metadata": {},
          "output_type": "display_data"
        }
      ],
      "source": [
        "mean(test.1 > mytest.1(mice))#p-value"
      ]
    },
    {
      "cell_type": "markdown",
      "metadata": {},
      "source": [
        "(xi) What does this mean?\n",
        "\n",
        "the value we observed (test.1) is at the far end of the null distribution.\n",
        "\n",
        "The fraction of values from the null distribution is larger than the observed value is the p-value, which is low in this case. \n",
        "\n",
        "Therefore We can reject the null hypothesis. So at 5\\% significance level we have enough evidence to conclude that average time to complete the maze of treatment group mice and control group mice are different.\n",
        "\n",
        "\n",
        "(xii) Alternative: Make random subsets of the completion time"
      ]
    },
    {
      "cell_type": "code",
      "execution_count": 37,
      "metadata": {
        "vscode": {
          "languageId": "r"
        }
      },
      "outputs": [
        {
          "data": {
            "text/html": [
              "0.871428571428574"
            ],
            "text/latex": [
              "0.871428571428574"
            ],
            "text/markdown": [
              "0.871428571428574"
            ],
            "text/plain": [
              "[1] 0.8714286"
            ]
          },
          "metadata": {},
          "output_type": "display_data"
        }
      ],
      "source": [
        "permute.sample.2 = function(){\n",
        "  mysample = sample(24,10,replace = F)\n",
        "  return(mean(mice$time[mysample]) - mean(mice$time[-mysample]))#now we sample(permute) observed times, and we assume first 10 is \"control\" group and the second 14 values belongs to \"treatment\" group.\n",
        "}\n",
        "permute.sample.2()"
      ]
    },
    {
      "cell_type": "markdown",
      "metadata": {},
      "source": [
        "This  runs a lot faster."
      ]
    },
    {
      "cell_type": "code",
      "execution_count": 38,
      "metadata": {
        "vscode": {
          "languageId": "r"
        }
      },
      "outputs": [
        {
          "data": {
            "image/png": "[encoded data removed]",
            "text/plain": [
              "Plot with title \"Null distribution\""
            ]
          },
          "metadata": {
            "image/png": {
              "height": 420,
              "width": 420
            }
          },
          "output_type": "display_data"
        }
      ],
      "source": [
        "N = 10000\n",
        "test.2 = replicate(N,permute.sample.2())\n",
        "hist(test.2, main = \"Null distribution\", , prob=T, \n",
        "     sub = paste(\"p-value = \", round(mean(test.2 > mytest.1(mice)),4)), col=\"orange\")\n",
        "abline(v = mytest.1(mice), col = 2, lwd = 2)"
      ]
    },
    {
      "cell_type": "markdown",
      "metadata": {},
      "source": [
        "Still the p-vlaue is less than 0.05.\n",
        "\n",
        "### (b). Using the Median as test statistic!\n",
        "\n",
        "(i) Function to compute difference of medians for control and treatment groups"
      ]
    },
    {
      "cell_type": "code",
      "execution_count": 39,
      "metadata": {
        "vscode": {
          "languageId": "r"
        }
      },
      "outputs": [],
      "source": [
        "median.diff = median(mice$time[mice$pop == \"control\"]) -\n",
        "  median(mice$time[mice$pop == \"treatment\"])"
      ]
    },
    {
      "cell_type": "markdown",
      "metadata": {},
      "source": [
        "(ii) Make a single permutation (random subsets)"
      ]
    },
    {
      "cell_type": "code",
      "execution_count": 40,
      "metadata": {
        "vscode": {
          "languageId": "r"
        }
      },
      "outputs": [],
      "source": [
        "permute.sample.3 = function(){\n",
        "  mysample = sample(24,10,replace = F)\n",
        "  return(median(mice$time[mysample]) - median(mice$time[-mysample]))\n",
        "}"
      ]
    },
    {
      "cell_type": "markdown",
      "metadata": {},
      "source": [
        "(iii) Many random subsets, histogram, p-value"
      ]
    },
    {
      "cell_type": "code",
      "execution_count": 41,
      "metadata": {
        "vscode": {
          "languageId": "r"
        }
      },
      "outputs": [
        {
          "data": {
            "image/png": "[encoded data removed]",
            "text/plain": [
              "Plot with title \"Null distribution, difference of medians\""
            ]
          },
          "metadata": {
            "image/png": {
              "height": 420,
              "width": 420
            }
          },
          "output_type": "display_data"
        }
      ],
      "source": [
        "N = 10000\n",
        "test.3 = replicate(N,permute.sample.3())\n",
        "hist(test.3, main = \"Null distribution, difference of medians\", sub = paste(\"p-value = \", round(mean(test.3 > median.diff),4)),prob=T)\n",
        "abline(v = median.diff, col = 2, lwd = 2)"
      ]
    },
    {
      "cell_type": "markdown",
      "metadata": {},
      "source": [
        "The conclusion is the same, but the p-value is a little larger but still less than 0.05. \n",
        "\n",
        "\n",
        "\n",
        "\n",
        "\n",
        "### Example 7. Permutation test for gss2002 data. \n",
        "\n",
        "Are levels of happiness distributed the same way for both genders?\n",
        "\n",
        "This is a question about homogeneity of populations.\n",
        "Null hypothesis: Homogeneity. This is a composite null hypothesis.\n",
        "- Alternative hypothesis: No homogeneity, distributions differ (also composite).\n",
        "- Define a test statistic (input = table).\n",
        "- Compute the test statistic for the observed table.\n",
        "\n",
        "- Sample from null distribution: In the original data frame, permute one of the columns randomly. If the null hypothesis is true, this should make no difference. Make a new two-way table. Compute the test statistic.\n",
        "- Repeat this many times. Does the observed value of the test statistic fit in or is it an extreme value in the null distribution?\n",
        "- **Careful: Need to delete NA rows before all the permutations, since otherwise population counts may change due to permutations!**\n",
        "\n",
        "If the data is coming from the same distribution then the output won't change much. Because you are permuting from one same distribution.\n",
        "\n",
        "After repeating many times, now we have a sample of the test statistic- simulated distribution of the test statistic from the null distribution.  Is the observed value in the middle of that null distribution? or is it an extreme value?\n",
        "\n",
        "If it is somewhere in the middle, that means that what I'm observing is nothing special, that the null hypothesis is probably true. No evidence against it.\n",
        "\n",
        "But if it is an extreme value,at the tail, this cast doubt, so the null hypothesis is probably not true.\n",
        "\n",
        "\n",
        "\n",
        "(i) Make a single permutation"
      ]
    },
    {
      "cell_type": "code",
      "execution_count": 42,
      "metadata": {
        "vscode": {
          "languageId": "r"
        }
      },
      "outputs": [
        {
          "data": {
            "text/plain": [
              "        \n",
              "         Not too happy Pretty happy Very happy\n",
              "  Female            92          431        197\n",
              "  Male              78          353        218"
            ]
          },
          "metadata": {},
          "output_type": "display_data"
        },
        {
          "data": {
            "text/plain": [
              "        \n",
              "         Not too happy Pretty happy Very happy\n",
              "  Female           109          406        205\n",
              "  Male              61          378        210"
            ]
          },
          "metadata": {},
          "output_type": "display_data"
        }
      ],
      "source": [
        "tableGH= table(gss2002.clean2$Gender, gss2002.clean2$Happy)\n",
        "N <- sum(tableGH)\n",
        "\n",
        "gss.perm = gss2002.clean2 #make a new copy of the data\n",
        "gss.perm$Happy = gss.perm$Happy[sample(N,N)] #let's permute happiness levels,no replacement, shuffle everything around and make a new table.\n",
        "\n",
        "#now my happy labels are shuffled.\n",
        "\n",
        "table(gss.perm$Gender, gss.perm$Happy) #new table\n",
        "#compare\n",
        "tableGH #initial table"
      ]
    },
    {
      "cell_type": "markdown",
      "metadata": {},
      "source": [
        "(ii) Compute Chi-square test statistic for the permuted table."
      ]
    },
    {
      "cell_type": "code",
      "execution_count": 43,
      "metadata": {
        "vscode": {
          "languageId": "r"
        }
      },
      "outputs": [
        {
          "data": {
            "text/html": [
              "6.31051968077741"
            ],
            "text/latex": [
              "6.31051968077741"
            ],
            "text/markdown": [
              "6.31051968077741"
            ],
            "text/plain": [
              "[1] 6.31052"
            ]
          },
          "metadata": {},
          "output_type": "display_data"
        },
        {
          "data": {
            "text/html": [
              "10.9604129501025"
            ],
            "text/latex": [
              "10.9604129501025"
            ],
            "text/markdown": [
              "10.9604129501025"
            ],
            "text/plain": [
              "[1] 10.96041"
            ]
          },
          "metadata": {},
          "output_type": "display_data"
        }
      ],
      "source": [
        "myX2.2(table(gss.perm$Gender, gss.perm$Happy))#much lower than the observed value\n",
        "\n",
        "myX2.obs #this is our observed value\n",
        "#myX2.obs <- myX2.2(table(gss2002.clean$Gender, gss2002.clean$Happy))"
      ]
    },
    {
      "cell_type": "markdown",
      "metadata": {},
      "source": [
        "(iii) Write a function for permutation."
      ]
    },
    {
      "cell_type": "code",
      "execution_count": 44,
      "metadata": {
        "vscode": {
          "languageId": "r"
        }
      },
      "outputs": [],
      "source": [
        "myperm = function(){\n",
        "  gss.perm <- gss2002.clean\n",
        "  N <- length(gss.perm[,1])\n",
        "  gss.perm$Happy <- gss.perm$Happy[sample(N,N)]\n",
        "  return(myX2.2(table(gss.perm$Gender, gss.perm$Happy))) #calculate the test statistic for each permutation.\n",
        "}"
      ]
    },
    {
      "cell_type": "markdown",
      "metadata": {},
      "source": [
        "(iv) Repeat many times, make histogram, find p-value"
      ]
    },
    {
      "cell_type": "code",
      "execution_count": 45,
      "metadata": {
        "vscode": {
          "languageId": "r"
        }
      },
      "outputs": [
        {
          "data": {
            "text/html": [
              "0.004"
            ],
            "text/latex": [
              "0.004"
            ],
            "text/markdown": [
              "0.004"
            ],
            "text/plain": [
              "[1] 0.004"
            ]
          },
          "metadata": {},
          "output_type": "display_data"
        },
        {
          "data": {
            "image/png": "[encoded data removed]",
            "text/plain": [
              "Plot with title \"Histogram of z\""
            ]
          },
          "metadata": {
            "image/png": {
              "height": 420,
              "width": 420
            }
          },
          "output_type": "display_data"
        }
      ],
      "source": [
        "z <- replicate(10000, myperm()) #10000 permutations\n",
        "\n",
        "hist(z, breaks = 50, prob = T)\n",
        "abline(v = myX2.obs, col = 2)\n",
        "mean(z > myX2.obs) #p-value"
      ]
    },
    {
      "cell_type": "markdown",
      "metadata": {},
      "source": [
        "the value we observed (myX2.obs) is now at the far end. So we can conclude that what we observe is highly unlikely.\n",
        "\n",
        "The fraction of values from the null distribution is larger than the observed value is the p-value, which is low in this case. \n",
        "\n",
        "(v) Conclusion? \n",
        "\n",
        "We can reject the null hypothesis at 5\\% significance level. We have enough evidence to conclude that The happiness is not same for both genders.\n",
        "\n",
        "\n",
        "\n",
        "# Exam Problems\n",
        "\n",
        "## Problem 1: Hypothesis Testing and C.Is\n",
        "\n",
        "\n",
        "What is normal body temperature? The standard has been $98.6^0 F$. Suppose a medical worker suspects that body temperatures in children in Sodor are higher than the normal body temperature. She obtains measurements from a random sample of 18 children and finds the following:"
      ]
    },
    {
      "cell_type": "code",
      "execution_count": 46,
      "metadata": {
        "vscode": {
          "languageId": "r"
        }
      },
      "outputs": [
        {
          "data": {
            "text/html": [
              "<style>\n",
              ".list-inline {list-style: none; margin:0; padding: 0}\n",
              ".list-inline>li {display: inline-block}\n",
              ".list-inline>li:not(:last-child)::after {content: \"\\00b7\"; padding: 0 .5ex}\n",
              "</style>\n",
              "<ol class=list-inline><li>98</li><li>98.9</li><li>98.9</li><li>98.9</li><li>99</li><li>98.4</li><li>98.9</li><li>99</li><li>98.8</li><li>99.2</li><li>98.6</li><li>98.6</li><li>99.1</li><li>98.8</li><li>98.9</li><li>98.9</li><li>98.5</li><li>98.7</li></ol>\n"
            ],
            "text/latex": [
              "\\begin{enumerate*}\n",
              "\\item 98\n",
              "\\item 98.9\n",
              "\\item 98.9\n",
              "\\item 98.9\n",
              "\\item 99\n",
              "\\item 98.4\n",
              "\\item 98.9\n",
              "\\item 99\n",
              "\\item 98.8\n",
              "\\item 99.2\n",
              "\\item 98.6\n",
              "\\item 98.6\n",
              "\\item 99.1\n",
              "\\item 98.8\n",
              "\\item 98.9\n",
              "\\item 98.9\n",
              "\\item 98.5\n",
              "\\item 98.7\n",
              "\\end{enumerate*}\n"
            ],
            "text/markdown": [
              "1. 98\n",
              "2. 98.9\n",
              "3. 98.9\n",
              "4. 98.9\n",
              "5. 99\n",
              "6. 98.4\n",
              "7. 98.9\n",
              "8. 99\n",
              "9. 98.8\n",
              "10. 99.2\n",
              "11. 98.6\n",
              "12. 98.6\n",
              "13. 99.1\n",
              "14. 98.8\n",
              "15. 98.9\n",
              "16. 98.9\n",
              "17. 98.5\n",
              "18. 98.7\n",
              "\n",
              "\n"
            ],
            "text/plain": [
              " [1] 98.0 98.9 98.9 98.9 99.0 98.4 98.9 99.0 98.8 99.2 98.6 98.6 99.1 98.8 98.9\n",
              "[16] 98.9 98.5 98.7"
            ]
          },
          "metadata": {},
          "output_type": "display_data"
        }
      ],
      "source": [
        "c(98.0, 98.9, 98.9, 98.9, 99.0, 98.4, 98.9, 99.0, 98.8, 99.2, \n",
        "      98.6, 98.6, 99.1, 98.8, 98.9, 98.9, 98.5, 98.7)"
      ]
    },
    {
      "cell_type": "markdown",
      "metadata": {},
      "source": [
        "a. What are the null and alternative hypotheses for this test?\n",
        "\n",
        "b. Carry out the test and state a conclusion in a complete sentence.\n",
        "\n",
        "c. What can you say about the confidence interval?\n",
        "\n",
        "d. Make a bootstrap confidence interval of the mean body temperature with the data from this problem and compare the result to your answer to part (c).\n",
        "\n",
        "\n",
        "### Solution\n",
        "\n",
        "a. Let $\\theta$ be the mean body temperature of children in this town. \n",
        "\n",
        "The null hypothesis is that this is the same as everywhere else, $H_0: \\theta = 98.6$. The alternative is that the mean body temperature in this town is higher, $\\theta > 98.6$.  \n",
        "\n",
        "b. Carry out a t-test:"
      ]
    },
    {
      "cell_type": "code",
      "execution_count": 47,
      "metadata": {
        "vscode": {
          "languageId": "r"
        }
      },
      "outputs": [
        {
          "data": {
            "text/plain": [
              "\n",
              "\tOne Sample t-test\n",
              "\n",
              "data:  x\n",
              "t = 2.745, df = 17, p-value = 0.006907\n",
              "alternative hypothesis: true mean is greater than 98.6\n",
              "95 percent confidence interval:\n",
              " 98.66715      Inf\n",
              "sample estimates:\n",
              "mean of x \n",
              " 98.78333 \n"
            ]
          },
          "metadata": {},
          "output_type": "display_data"
        }
      ],
      "source": [
        "x = c(98.0, 98.9, 98.9, 98.9, 99.0, 98.4, 98.9, 99.0, 98.8, 99.2, \n",
        "      98.6, 98.6, 99.1, 98.8, 98.9, 98.9, 98.5, 98.7)\n",
        "t.test(x, mu = 98.6, alternative = \"greater\")"
      ]
    },
    {
      "cell_type": "markdown",
      "metadata": {},
      "source": [
        "The p-value is less than 0.01%. Therfore we can reject the null hypothesis at 5% significance level. There is strong evidence, to conclude that the mean body temperature of children in this town is higher than  98.6.  \n",
        "\n",
        "c. the 95% lower confidence bound is larger than 98.6. i.e we are 95% confident that the true mean body temperature is higher than 98.6.\n",
        "\n",
        "d. Here is 95% bootstrap confidence bound. "
      ]
    },
    {
      "cell_type": "code",
      "execution_count": 48,
      "metadata": {
        "vscode": {
          "languageId": "r"
        }
      },
      "outputs": [
        {
          "data": {
            "text/html": [
              "<strong>5%:</strong> 98.6722222222222"
            ],
            "text/latex": [
              "\\textbf{5\\textbackslash{}\\%:} 98.6722222222222"
            ],
            "text/markdown": [
              "**5%:** 98.6722222222222"
            ],
            "text/plain": [
              "      5% \n",
              "98.67222 "
            ]
          },
          "metadata": {},
          "output_type": "display_data"
        }
      ],
      "source": [
        " boot.129 <- replicate(10000, mean(sample(x,length(x), replace = T)))\n",
        "quantile(boot.129, 0.05)"
      ]
    },
    {
      "cell_type": "markdown",
      "metadata": {},
      "source": [
        "It is simillar to what we have obtained from the t-test.\n",
        "\n",
        "\n",
        "## Problem 2: Chi-square test.\n",
        "\n",
        "Import the GS2002 data set. Use a $\\chi^2$  test of independence to determine if marital status and education are independent. \n",
        "\n",
        "a. State your null and alternative hypothesis. \n",
        "\n",
        "$H_0:$ The marital status and education levels are independent.\n",
        "\n",
        "$H_a:$ The marital status and education levels are not independent\n",
        "\n",
        "b. Are these attributes independent? Why/why not? \n",
        "\n",
        "c. There was no warning message when the test was done. Why not?\n",
        "\n",
        "d. Identify two cells that contributed very little (< 1) to the chi-squared statistic and two other cells that contributed a lot (> 5).\n",
        "\n",
        "e. For example, There are more single people (Never married) who got a  \"High School degree\" than expected. Can you think of a reason?\n"
      ]
    },
    {
      "cell_type": "code",
      "execution_count": 49,
      "metadata": {
        "vscode": {
          "languageId": "r"
        }
      },
      "outputs": [
        {
          "data": {
            "text/html": [
              "<table class=\"dataframe\">\n",
              "<caption>A data.frame: 6 × 21</caption>\n",
              "<thead>\n",
              "\t<tr><th></th><th scope=col>ID</th><th scope=col>Region</th><th scope=col>Gender</th><th scope=col>Race</th><th scope=col>Education</th><th scope=col>Marital</th><th scope=col>Religion</th><th scope=col>Happy</th><th scope=col>Income</th><th scope=col>PolParty</th><th scope=col>...</th><th scope=col>Marijuana</th><th scope=col>DeathPenalty</th><th scope=col>OwnGun</th><th scope=col>GunLaw</th><th scope=col>SpendMilitary</th><th scope=col>SpendEduc</th><th scope=col>SpendEnv</th><th scope=col>SpendSci</th><th scope=col>Pres00</th><th scope=col>Postlife</th></tr>\n",
              "\t<tr><th></th><th scope=col>&lt;int&gt;</th><th scope=col>&lt;chr&gt;</th><th scope=col>&lt;chr&gt;</th><th scope=col>&lt;chr&gt;</th><th scope=col>&lt;chr&gt;</th><th scope=col>&lt;chr&gt;</th><th scope=col>&lt;chr&gt;</th><th scope=col>&lt;chr&gt;</th><th scope=col>&lt;chr&gt;</th><th scope=col>&lt;chr&gt;</th><th scope=col>...</th><th scope=col>&lt;chr&gt;</th><th scope=col>&lt;chr&gt;</th><th scope=col>&lt;chr&gt;</th><th scope=col>&lt;chr&gt;</th><th scope=col>&lt;chr&gt;</th><th scope=col>&lt;chr&gt;</th><th scope=col>&lt;chr&gt;</th><th scope=col>&lt;chr&gt;</th><th scope=col>&lt;chr&gt;</th><th scope=col>&lt;chr&gt;</th></tr>\n",
              "</thead>\n",
              "<tbody>\n",
              "\t<tr><th scope=row>1</th><td>1</td><td>South Central</td><td>Female</td><td>White</td><td>HS       </td><td>Divorced </td><td>Inter-nondenominational</td><td>Pretty happy</td><td>30000-34999</td><td>Strong Rep   </td><td>...</td><td>NA       </td><td>Favor</td><td>No </td><td>Favor </td><td>Too little </td><td>Too little</td><td>About right</td><td>About right</td><td>Bush</td><td>Yes</td></tr>\n",
              "\t<tr><th scope=row>2</th><td>2</td><td>South Central</td><td>Male  </td><td>White</td><td>Bachelors</td><td>Married  </td><td>Protestant             </td><td>Pretty happy</td><td>75000-89999</td><td>Not Str Rep  </td><td>...</td><td>Not legal</td><td>Favor</td><td>Yes</td><td>Oppose</td><td>About right</td><td>Too little</td><td>About right</td><td>About right</td><td>Bush</td><td>Yes</td></tr>\n",
              "\t<tr><th scope=row>3</th><td>3</td><td>South Central</td><td>Female</td><td>White</td><td>HS       </td><td>Separated</td><td>Protestant             </td><td>NA          </td><td>35000-39999</td><td>Strong Rep   </td><td>...</td><td>NA       </td><td>NA   </td><td>NA </td><td>NA    </td><td>NA         </td><td>NA        </td><td>NA         </td><td>NA         </td><td>Bush</td><td>NA </td></tr>\n",
              "\t<tr><th scope=row>4</th><td>4</td><td>South Central</td><td>Female</td><td>White</td><td>Left HS  </td><td>Divorced </td><td>Protestant             </td><td>NA          </td><td>50000-59999</td><td>Ind, Near Dem</td><td>...</td><td>NA       </td><td>NA   </td><td>NA </td><td>NA    </td><td>About right</td><td>Too little</td><td>Too little </td><td>Too little </td><td>NA  </td><td>NA </td></tr>\n",
              "\t<tr><th scope=row>5</th><td>5</td><td>South Central</td><td>Male  </td><td>White</td><td>Left HS  </td><td>Divorced </td><td>Protestant             </td><td>NA          </td><td>40000-49999</td><td>Ind          </td><td>...</td><td>NA       </td><td>NA   </td><td>NA </td><td>NA    </td><td>NA         </td><td>NA        </td><td>NA         </td><td>NA         </td><td>NA  </td><td>NA </td></tr>\n",
              "\t<tr><th scope=row>6</th><td>6</td><td>South Central</td><td>Male  </td><td>White</td><td>HS       </td><td>Divorced </td><td>Catholic               </td><td>Pretty happy</td><td>40000-49999</td><td>Ind, Near Rep</td><td>...</td><td>NA       </td><td>Favor</td><td>Yes</td><td>Oppose</td><td>Too little </td><td>Too little</td><td>Too little </td><td>Too little </td><td>Bush</td><td>Yes</td></tr>\n",
              "</tbody>\n",
              "</table>\n"
            ],
            "text/latex": [
              "A data.frame: 6 × 21\n",
              "\\begin{tabular}{r|lllllllllllllllllllll}\n",
              "  & ID & Region & Gender & Race & Education & Marital & Religion & Happy & Income & PolParty & ... & Marijuana & DeathPenalty & OwnGun & GunLaw & SpendMilitary & SpendEduc & SpendEnv & SpendSci & Pres00 & Postlife\\\\\n",
              "  & <int> & <chr> & <chr> & <chr> & <chr> & <chr> & <chr> & <chr> & <chr> & <chr> & ... & <chr> & <chr> & <chr> & <chr> & <chr> & <chr> & <chr> & <chr> & <chr> & <chr>\\\\\n",
              "\\hline\n",
              "\t1 & 1 & South Central & Female & White & HS        & Divorced  & Inter-nondenominational & Pretty happy & 30000-34999 & Strong Rep    & ... & NA        & Favor & No  & Favor  & Too little  & Too little & About right & About right & Bush & Yes\\\\\n",
              "\t2 & 2 & South Central & Male   & White & Bachelors & Married   & Protestant              & Pretty happy & 75000-89999 & Not Str Rep   & ... & Not legal & Favor & Yes & Oppose & About right & Too little & About right & About right & Bush & Yes\\\\\n",
              "\t3 & 3 & South Central & Female & White & HS        & Separated & Protestant              & NA           & 35000-39999 & Strong Rep    & ... & NA        & NA    & NA  & NA     & NA          & NA         & NA          & NA          & Bush & NA \\\\\n",
              "\t4 & 4 & South Central & Female & White & Left HS   & Divorced  & Protestant              & NA           & 50000-59999 & Ind, Near Dem & ... & NA        & NA    & NA  & NA     & About right & Too little & Too little  & Too little  & NA   & NA \\\\\n",
              "\t5 & 5 & South Central & Male   & White & Left HS   & Divorced  & Protestant              & NA           & 40000-49999 & Ind           & ... & NA        & NA    & NA  & NA     & NA          & NA         & NA          & NA          & NA   & NA \\\\\n",
              "\t6 & 6 & South Central & Male   & White & HS        & Divorced  & Catholic                & Pretty happy & 40000-49999 & Ind, Near Rep & ... & NA        & Favor & Yes & Oppose & Too little  & Too little & Too little  & Too little  & Bush & Yes\\\\\n",
              "\\end{tabular}\n"
            ],
            "text/markdown": [
              "\n",
              "A data.frame: 6 × 21\n",
              "\n",
              "| <!--/--> | ID &lt;int&gt; | Region &lt;chr&gt; | Gender &lt;chr&gt; | Race &lt;chr&gt; | Education &lt;chr&gt; | Marital &lt;chr&gt; | Religion &lt;chr&gt; | Happy &lt;chr&gt; | Income &lt;chr&gt; | PolParty &lt;chr&gt; | ... ... | Marijuana &lt;chr&gt; | DeathPenalty &lt;chr&gt; | OwnGun &lt;chr&gt; | GunLaw &lt;chr&gt; | SpendMilitary &lt;chr&gt; | SpendEduc &lt;chr&gt; | SpendEnv &lt;chr&gt; | SpendSci &lt;chr&gt; | Pres00 &lt;chr&gt; | Postlife &lt;chr&gt; |\n",
              "|---|---|---|---|---|---|---|---|---|---|---|---|---|---|---|---|---|---|---|---|---|---|\n",
              "| 1 | 1 | South Central | Female | White | HS        | Divorced  | Inter-nondenominational | Pretty happy | 30000-34999 | Strong Rep    | ... | NA        | Favor | No  | Favor  | Too little  | Too little | About right | About right | Bush | Yes |\n",
              "| 2 | 2 | South Central | Male   | White | Bachelors | Married   | Protestant              | Pretty happy | 75000-89999 | Not Str Rep   | ... | Not legal | Favor | Yes | Oppose | About right | Too little | About right | About right | Bush | Yes |\n",
              "| 3 | 3 | South Central | Female | White | HS        | Separated | Protestant              | NA           | 35000-39999 | Strong Rep    | ... | NA        | NA    | NA  | NA     | NA          | NA         | NA          | NA          | Bush | NA  |\n",
              "| 4 | 4 | South Central | Female | White | Left HS   | Divorced  | Protestant              | NA           | 50000-59999 | Ind, Near Dem | ... | NA        | NA    | NA  | NA     | About right | Too little | Too little  | Too little  | NA   | NA  |\n",
              "| 5 | 5 | South Central | Male   | White | Left HS   | Divorced  | Protestant              | NA           | 40000-49999 | Ind           | ... | NA        | NA    | NA  | NA     | NA          | NA         | NA          | NA          | NA   | NA  |\n",
              "| 6 | 6 | South Central | Male   | White | HS        | Divorced  | Catholic                | Pretty happy | 40000-49999 | Ind, Near Rep | ... | NA        | Favor | Yes | Oppose | Too little  | Too little | Too little  | Too little  | Bush | Yes |\n",
              "\n"
            ],
            "text/plain": [
              "  ID Region        Gender Race  Education Marital   Religion               \n",
              "1 1  South Central Female White HS        Divorced  Inter-nondenominational\n",
              "2 2  South Central Male   White Bachelors Married   Protestant             \n",
              "3 3  South Central Female White HS        Separated Protestant             \n",
              "4 4  South Central Female White Left HS   Divorced  Protestant             \n",
              "5 5  South Central Male   White Left HS   Divorced  Protestant             \n",
              "6 6  South Central Male   White HS        Divorced  Catholic               \n",
              "  Happy        Income      PolParty      ... Marijuana DeathPenalty OwnGun\n",
              "1 Pretty happy 30000-34999 Strong Rep    ... NA        Favor        No    \n",
              "2 Pretty happy 75000-89999 Not Str Rep   ... Not legal Favor        Yes   \n",
              "3 NA           35000-39999 Strong Rep    ... NA        NA           NA    \n",
              "4 NA           50000-59999 Ind, Near Dem ... NA        NA           NA    \n",
              "5 NA           40000-49999 Ind           ... NA        NA           NA    \n",
              "6 Pretty happy 40000-49999 Ind, Near Rep ... NA        Favor        Yes   \n",
              "  GunLaw SpendMilitary SpendEduc  SpendEnv    SpendSci    Pres00 Postlife\n",
              "1 Favor  Too little    Too little About right About right Bush   Yes     \n",
              "2 Oppose About right   Too little About right About right Bush   Yes     \n",
              "3 NA     NA            NA         NA          NA          Bush   NA      \n",
              "4 NA     About right   Too little Too little  Too little  NA     NA      \n",
              "5 NA     NA            NA         NA          NA          NA     NA      \n",
              "6 Oppose Too little    Too little Too little  Too little  Bush   Yes     "
            ]
          },
          "metadata": {},
          "output_type": "display_data"
        },
        {
          "data": {
            "text/plain": [
              "           \n",
              "            Divorced Married Never Married Separated Widowed\n",
              "  Bachelors       66     227           119         9      22\n",
              "  Graduate        33     128            50         4      15\n",
              "  HS             264     660           382        51     128\n",
              "  Jr Col          34     113            43         9       3\n",
              "  Left HS         48     141           111        22      78"
            ]
          },
          "metadata": {},
          "output_type": "display_data"
        },
        {
          "data": {
            "text/html": [
              "<table class=\"dataframe\">\n",
              "<caption>A matrix: 5 × 5 of type dbl</caption>\n",
              "<thead>\n",
              "\t<tr><th></th><th scope=col>Divorced</th><th scope=col>Married</th><th scope=col>Never Married</th><th scope=col>Separated</th><th scope=col>Widowed</th></tr>\n",
              "</thead>\n",
              "<tbody>\n",
              "\t<tr><th scope=row>Bachelors</th><td> 71.43</td><td>203.68</td><td>113.16</td><td>15.25</td><td> 39.48</td></tr>\n",
              "\t<tr><th scope=row>Graduate</th><td> 37.08</td><td>105.75</td><td> 58.75</td><td> 7.92</td><td> 20.50</td></tr>\n",
              "\t<tr><th scope=row>HS</th><td>239.43</td><td>682.78</td><td>379.32</td><td>51.11</td><td>132.36</td></tr>\n",
              "\t<tr><th scope=row>Jr Col</th><td> 32.57</td><td> 92.88</td><td> 51.60</td><td> 6.95</td><td> 18.00</td></tr>\n",
              "\t<tr><th scope=row>Left HS</th><td> 64.49</td><td>183.91</td><td>102.17</td><td>13.77</td><td> 35.65</td></tr>\n",
              "</tbody>\n",
              "</table>\n"
            ],
            "text/latex": [
              "A matrix: 5 × 5 of type dbl\n",
              "\\begin{tabular}{r|lllll}\n",
              "  & Divorced & Married & Never Married & Separated & Widowed\\\\\n",
              "\\hline\n",
              "\tBachelors &  71.43 & 203.68 & 113.16 & 15.25 &  39.48\\\\\n",
              "\tGraduate &  37.08 & 105.75 &  58.75 &  7.92 &  20.50\\\\\n",
              "\tHS & 239.43 & 682.78 & 379.32 & 51.11 & 132.36\\\\\n",
              "\tJr Col &  32.57 &  92.88 &  51.60 &  6.95 &  18.00\\\\\n",
              "\tLeft HS &  64.49 & 183.91 & 102.17 & 13.77 &  35.65\\\\\n",
              "\\end{tabular}\n"
            ],
            "text/markdown": [
              "\n",
              "A matrix: 5 × 5 of type dbl\n",
              "\n",
              "| <!--/--> | Divorced | Married | Never Married | Separated | Widowed |\n",
              "|---|---|---|---|---|---|\n",
              "| Bachelors |  71.43 | 203.68 | 113.16 | 15.25 |  39.48 |\n",
              "| Graduate |  37.08 | 105.75 |  58.75 |  7.92 |  20.50 |\n",
              "| HS | 239.43 | 682.78 | 379.32 | 51.11 | 132.36 |\n",
              "| Jr Col |  32.57 |  92.88 |  51.60 |  6.95 |  18.00 |\n",
              "| Left HS |  64.49 | 183.91 | 102.17 | 13.77 |  35.65 |\n",
              "\n"
            ],
            "text/plain": [
              "          Divorced Married Never Married Separated Widowed\n",
              "Bachelors  71.43   203.68  113.16        15.25      39.48 \n",
              "Graduate   37.08   105.75   58.75         7.92      20.50 \n",
              "HS        239.43   682.78  379.32        51.11     132.36 \n",
              "Jr Col     32.57    92.88   51.60         6.95      18.00 \n",
              "Left HS    64.49   183.91  102.17        13.77      35.65 "
            ]
          },
          "metadata": {},
          "output_type": "display_data"
        },
        {
          "data": {
            "text/plain": [
              "\n",
              "\tPearson's Chi-squared test\n",
              "\n",
              "data:  A\n",
              "X-squared = 116.16, df = 16, p-value < 2.2e-16\n"
            ]
          },
          "metadata": {},
          "output_type": "display_data"
        }
      ],
      "source": [
        "gss <- read.csv(\"GSS2002.csv\")\n",
        "head(gss)\n",
        "\n",
        "(A <- table(gss$Education, gss$Marital))\n",
        "\n",
        "r <- rowSums(A)\n",
        "c <- colSums(A)\n",
        "N = sum(A)\n",
        "(expected <- round(outer(r,c)/N,2))\n",
        "\n",
        "\n",
        "chisq.test(A)"
      ]
    },
    {
      "cell_type": "markdown",
      "metadata": {},
      "source": [
        "b. The p-value is very small, hence there is very strong evidence that the attributes are not independent. \n",
        "\n",
        "c. There was no warning since all expected counts are > 5 and that is the only possible reason for a warning here. "
      ]
    },
    {
      "cell_type": "code",
      "execution_count": 50,
      "metadata": {
        "vscode": {
          "languageId": "r"
        }
      },
      "outputs": [
        {
          "data": {
            "text/html": [
              "<table class=\"dataframe\">\n",
              "<caption>A matrix: 5 × 5 of type dbl</caption>\n",
              "<thead>\n",
              "\t<tr><th></th><th scope=col>Divorced</th><th scope=col>Married</th><th scope=col>Never Married</th><th scope=col>Separated</th><th scope=col>Widowed</th></tr>\n",
              "</thead>\n",
              "<tbody>\n",
              "\t<tr><th scope=row>Bachelors</th><td> 71.42572</td><td>203.68370</td><td>113.15761</td><td>15.248188</td><td> 39.48478</td></tr>\n",
              "\t<tr><th scope=row>Graduate</th><td> 37.08333</td><td>105.75000</td><td> 58.75000</td><td> 7.916667</td><td> 20.50000</td></tr>\n",
              "\t<tr><th scope=row>HS</th><td>239.42935</td><td>682.77717</td><td>379.32065</td><td>51.114130</td><td>132.35870</td></tr>\n",
              "\t<tr><th scope=row>Jr Col</th><td> 32.56884</td><td> 92.87609</td><td> 51.59783</td><td> 6.952899</td><td> 18.00435</td></tr>\n",
              "\t<tr><th scope=row>Left HS</th><td> 64.49275</td><td>183.91304</td><td>102.17391</td><td>13.768116</td><td> 35.65217</td></tr>\n",
              "</tbody>\n",
              "</table>\n"
            ],
            "text/latex": [
              "A matrix: 5 × 5 of type dbl\n",
              "\\begin{tabular}{r|lllll}\n",
              "  & Divorced & Married & Never Married & Separated & Widowed\\\\\n",
              "\\hline\n",
              "\tBachelors &  71.42572 & 203.68370 & 113.15761 & 15.248188 &  39.48478\\\\\n",
              "\tGraduate &  37.08333 & 105.75000 &  58.75000 &  7.916667 &  20.50000\\\\\n",
              "\tHS & 239.42935 & 682.77717 & 379.32065 & 51.114130 & 132.35870\\\\\n",
              "\tJr Col &  32.56884 &  92.87609 &  51.59783 &  6.952899 &  18.00435\\\\\n",
              "\tLeft HS &  64.49275 & 183.91304 & 102.17391 & 13.768116 &  35.65217\\\\\n",
              "\\end{tabular}\n"
            ],
            "text/markdown": [
              "\n",
              "A matrix: 5 × 5 of type dbl\n",
              "\n",
              "| <!--/--> | Divorced | Married | Never Married | Separated | Widowed |\n",
              "|---|---|---|---|---|---|\n",
              "| Bachelors |  71.42572 | 203.68370 | 113.15761 | 15.248188 |  39.48478 |\n",
              "| Graduate |  37.08333 | 105.75000 |  58.75000 |  7.916667 |  20.50000 |\n",
              "| HS | 239.42935 | 682.77717 | 379.32065 | 51.114130 | 132.35870 |\n",
              "| Jr Col |  32.56884 |  92.87609 |  51.59783 |  6.952899 |  18.00435 |\n",
              "| Left HS |  64.49275 | 183.91304 | 102.17391 | 13.768116 |  35.65217 |\n",
              "\n"
            ],
            "text/plain": [
              "           \n",
              "            Divorced  Married   Never Married Separated Widowed  \n",
              "  Bachelors  71.42572 203.68370 113.15761     15.248188  39.48478\n",
              "  Graduate   37.08333 105.75000  58.75000      7.916667  20.50000\n",
              "  HS        239.42935 682.77717 379.32065     51.114130 132.35870\n",
              "  Jr Col     32.56884  92.87609  51.59783      6.952899  18.00435\n",
              "  Left HS    64.49275 183.91304 102.17391     13.768116  35.65217"
            ]
          },
          "metadata": {},
          "output_type": "display_data"
        }
      ],
      "source": [
        "test<-chisq.test(A)\n",
        "test$expected"
      ]
    },
    {
      "cell_type": "markdown",
      "metadata": {},
      "source": [
        "### Yate's continuity correction\n",
        "\n",
        "Some of the expected counts are less than 10. Therefore, you may be able to use the Yate's continuity correction;"
      ]
    },
    {
      "cell_type": "code",
      "execution_count": 51,
      "metadata": {
        "vscode": {
          "languageId": "r"
        }
      },
      "outputs": [
        {
          "data": {
            "text/plain": [
              "\n",
              "\tPearson's Chi-squared test\n",
              "\n",
              "data:  A\n",
              "X-squared = 116.16, df = 16, p-value < 2.2e-16\n"
            ]
          },
          "metadata": {},
          "output_type": "display_data"
        }
      ],
      "source": [
        "chisq.test(A, correct = TRUE)"
      ]
    },
    {
      "cell_type": "markdown",
      "metadata": {},
      "source": [
        "There is no apparent difference between the initial results and the corrected results. Most of the researchers use this correction when you have an at least one expected cell count less than 5.\n",
        "\n",
        "d. The cells for “divorced and High School” and for “never married and High School” contribute a lot, meanwhile , the cells for “Separated and Junior college” and “Separated and Graduate” contribute very little (expected and observed are close). \n"
      ]
    },
    {
      "cell_type": "markdown",
      "metadata": {},
      "source": []
    },
    {
      "cell_type": "markdown",
      "metadata": {},
      "source": []
    }
  ],
  "metadata": {
    "kernelspec": {
      "display_name": "R",
      "language": "R",
      "name": "ir"
    },
    "language_info": {
      "codemirror_mode": "r",
      "file_extension": ".r",
      "mimetype": "text/x-r-source",
      "name": "R",
      "pygments_lexer": "r",
      "version": "4.3.1"
    }
  },
  "nbformat": 4,
  "nbformat_minor": 4
}
