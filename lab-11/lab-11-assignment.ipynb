{
  "cells": [
    {
      "cell_type": "markdown",
      "metadata": {},
      "source": [
        "---\n",
        "title: \"Lab-11: Assignment\"\n",
        "author: \"Brian Kwon\"\n",
        "format: \n",
        "  html: \n",
        "    embed-resources: true\n",
        "---"
      ]
    },
    {
      "cell_type": "markdown",
      "metadata": {},
      "source": [
        "## Problem 1-2 will be answered using the \"Artists.csv\"  data set.\n",
        "\n",
        "### Please find the \"Artists.csv\"  data set in the Canvas-> Lab 10 folder.\n",
        "\n",
        "Meanwhile, this is how you can retrieve Spotify Data:\n",
        "\n",
        "Spotify’s API gives you the ability to extract several audio features of a song. The available features that also have been used for this analysis are: <https://medium.com/@boplantinga/what-do-spotifys-audio-features-tell-us-about-this-year-s-eurovision-song-contest-66ad188e112a>\n",
        "\n",
        "The first step was registering my application in the API Website(<https://developer.spotify.com/documentation/web-api/>) and getting the keys (Client ID and Client Secret) for future requests. The Spotify Web API has different URIs (Uniform Resource Identifiers) to access playlists, artists, or tracks information. \n",
        "\n",
        "I extracted all the audio features for 3 musicians Taylor Swift, John Legend and Beyonce. But we are only going to use  selected features.\n",
        "\n",
        "(If you like to use this data for your Final Project, you are more than welcome to :), but please extract more features from more musicians)"
      ]
    },
    {
      "cell_type": "code",
      "execution_count": 1,
      "metadata": {
        "vscode": {
          "languageId": "r"
        }
      },
      "outputs": [
        {
          "data": {
            "text/html": [
              "'BQDT2--vhQ9kHPaKD6fWUwhBNO_J681JDZgkvvsLCOp4S83iRT5z9TkREcEbTEwEN6SyKNGuvb6XhXt0jn6of3aixeeQMn7rQNDdzEP4a5ZSlny4F0Q'"
            ],
            "text/latex": [
              "'BQDT2--vhQ9kHPaKD6fWUwhBNO\\_J681JDZgkvvsLCOp4S83iRT5z9TkREcEbTEwEN6SyKNGuvb6XhXt0jn6of3aixeeQMn7rQNDdzEP4a5ZSlny4F0Q'"
            ],
            "text/markdown": [
              "'BQDT2--vhQ9kHPaKD6fWUwhBNO_J681JDZgkvvsLCOp4S83iRT5z9TkREcEbTEwEN6SyKNGuvb6XhXt0jn6of3aixeeQMn7rQNDdzEP4a5ZSlny4F0Q'"
            ],
            "text/plain": [
              "[1] \"BQDT2--vhQ9kHPaKD6fWUwhBNO_J681JDZgkvvsLCOp4S83iRT5z9TkREcEbTEwEN6SyKNGuvb6XhXt0jn6of3aixeeQMn7rQNDdzEP4a5ZSlny4F0Q\""
            ]
          },
          "metadata": {},
          "output_type": "display_data"
        },
        {
          "data": {
            "text/html": [
              "<table class=\"dataframe\">\n",
              "<caption>A data.frame: 6 × 12</caption>\n",
              "<thead>\n",
              "\t<tr><th></th><th scope=col>artist_name</th><th scope=col>Valence</th><th scope=col>danceability</th><th scope=col>energy</th><th scope=col>loudness</th><th scope=col>speechiness</th><th scope=col>acousticness</th><th scope=col>liveness</th><th scope=col>tempo</th><th scope=col>track_name</th><th scope=col>album_name</th><th scope=col>album_release_year</th></tr>\n",
              "\t<tr><th></th><th scope=col>&lt;chr&gt;</th><th scope=col>&lt;dbl&gt;</th><th scope=col>&lt;dbl&gt;</th><th scope=col>&lt;dbl&gt;</th><th scope=col>&lt;dbl&gt;</th><th scope=col>&lt;dbl&gt;</th><th scope=col>&lt;dbl&gt;</th><th scope=col>&lt;dbl&gt;</th><th scope=col>&lt;dbl&gt;</th><th scope=col>&lt;chr&gt;</th><th scope=col>&lt;chr&gt;</th><th scope=col>&lt;dbl&gt;</th></tr>\n",
              "</thead>\n",
              "<tbody>\n",
              "\t<tr><th scope=row>1</th><td>Taylor Swift</td><td>0.685</td><td>0.757</td><td>0.610</td><td>-4.840</td><td>0.0327</td><td>0.009420</td><td>0.3670</td><td>116.998</td><td>Welcome To New York (Taylor's Version)       </td><td>1989 (Taylor's Version) [Deluxe]</td><td>2023</td></tr>\n",
              "\t<tr><th scope=row>2</th><td>Taylor Swift</td><td>0.701</td><td>0.733</td><td>0.733</td><td>-5.376</td><td>0.0670</td><td>0.088500</td><td>0.1680</td><td> 96.057</td><td>Blank Space (Taylor's Version)               </td><td>1989 (Taylor's Version) [Deluxe]</td><td>2023</td></tr>\n",
              "\t<tr><th scope=row>3</th><td>Taylor Swift</td><td>0.305</td><td>0.511</td><td>0.822</td><td>-4.785</td><td>0.0397</td><td>0.000421</td><td>0.0899</td><td> 94.868</td><td>Style (Taylor's Version)                     </td><td>1989 (Taylor's Version) [Deluxe]</td><td>2023</td></tr>\n",
              "\t<tr><th scope=row>4</th><td>Taylor Swift</td><td>0.206</td><td>0.545</td><td>0.885</td><td>-5.968</td><td>0.0447</td><td>0.000537</td><td>0.3850</td><td> 92.021</td><td>Out Of The Woods (Taylor's Version)          </td><td>1989 (Taylor's Version) [Deluxe]</td><td>2023</td></tr>\n",
              "\t<tr><th scope=row>5</th><td>Taylor Swift</td><td>0.520</td><td>0.588</td><td>0.721</td><td>-5.579</td><td>0.0317</td><td>0.000656</td><td>0.1310</td><td> 96.997</td><td>All You Had To Do Was Stay (Taylor's Version)</td><td>1989 (Taylor's Version) [Deluxe]</td><td>2023</td></tr>\n",
              "\t<tr><th scope=row>6</th><td>Taylor Swift</td><td>0.917</td><td>0.636</td><td>0.808</td><td>-5.693</td><td>0.0729</td><td>0.012100</td><td>0.3590</td><td>160.058</td><td>Shake It Off (Taylor's Version)              </td><td>1989 (Taylor's Version) [Deluxe]</td><td>2023</td></tr>\n",
              "</tbody>\n",
              "</table>\n"
            ],
            "text/latex": [
              "A data.frame: 6 × 12\n",
              "\\begin{tabular}{r|llllllllllll}\n",
              "  & artist\\_name & Valence & danceability & energy & loudness & speechiness & acousticness & liveness & tempo & track\\_name & album\\_name & album\\_release\\_year\\\\\n",
              "  & <chr> & <dbl> & <dbl> & <dbl> & <dbl> & <dbl> & <dbl> & <dbl> & <dbl> & <chr> & <chr> & <dbl>\\\\\n",
              "\\hline\n",
              "\t1 & Taylor Swift & 0.685 & 0.757 & 0.610 & -4.840 & 0.0327 & 0.009420 & 0.3670 & 116.998 & Welcome To New York (Taylor's Version)        & 1989 (Taylor's Version) {[}Deluxe{]} & 2023\\\\\n",
              "\t2 & Taylor Swift & 0.701 & 0.733 & 0.733 & -5.376 & 0.0670 & 0.088500 & 0.1680 &  96.057 & Blank Space (Taylor's Version)                & 1989 (Taylor's Version) {[}Deluxe{]} & 2023\\\\\n",
              "\t3 & Taylor Swift & 0.305 & 0.511 & 0.822 & -4.785 & 0.0397 & 0.000421 & 0.0899 &  94.868 & Style (Taylor's Version)                      & 1989 (Taylor's Version) {[}Deluxe{]} & 2023\\\\\n",
              "\t4 & Taylor Swift & 0.206 & 0.545 & 0.885 & -5.968 & 0.0447 & 0.000537 & 0.3850 &  92.021 & Out Of The Woods (Taylor's Version)           & 1989 (Taylor's Version) {[}Deluxe{]} & 2023\\\\\n",
              "\t5 & Taylor Swift & 0.520 & 0.588 & 0.721 & -5.579 & 0.0317 & 0.000656 & 0.1310 &  96.997 & All You Had To Do Was Stay (Taylor's Version) & 1989 (Taylor's Version) {[}Deluxe{]} & 2023\\\\\n",
              "\t6 & Taylor Swift & 0.917 & 0.636 & 0.808 & -5.693 & 0.0729 & 0.012100 & 0.3590 & 160.058 & Shake It Off (Taylor's Version)               & 1989 (Taylor's Version) {[}Deluxe{]} & 2023\\\\\n",
              "\\end{tabular}\n"
            ],
            "text/markdown": [
              "\n",
              "A data.frame: 6 × 12\n",
              "\n",
              "| <!--/--> | artist_name &lt;chr&gt; | Valence &lt;dbl&gt; | danceability &lt;dbl&gt; | energy &lt;dbl&gt; | loudness &lt;dbl&gt; | speechiness &lt;dbl&gt; | acousticness &lt;dbl&gt; | liveness &lt;dbl&gt; | tempo &lt;dbl&gt; | track_name &lt;chr&gt; | album_name &lt;chr&gt; | album_release_year &lt;dbl&gt; |\n",
              "|---|---|---|---|---|---|---|---|---|---|---|---|---|\n",
              "| 1 | Taylor Swift | 0.685 | 0.757 | 0.610 | -4.840 | 0.0327 | 0.009420 | 0.3670 | 116.998 | Welcome To New York (Taylor's Version)        | 1989 (Taylor's Version) [Deluxe] | 2023 |\n",
              "| 2 | Taylor Swift | 0.701 | 0.733 | 0.733 | -5.376 | 0.0670 | 0.088500 | 0.1680 |  96.057 | Blank Space (Taylor's Version)                | 1989 (Taylor's Version) [Deluxe] | 2023 |\n",
              "| 3 | Taylor Swift | 0.305 | 0.511 | 0.822 | -4.785 | 0.0397 | 0.000421 | 0.0899 |  94.868 | Style (Taylor's Version)                      | 1989 (Taylor's Version) [Deluxe] | 2023 |\n",
              "| 4 | Taylor Swift | 0.206 | 0.545 | 0.885 | -5.968 | 0.0447 | 0.000537 | 0.3850 |  92.021 | Out Of The Woods (Taylor's Version)           | 1989 (Taylor's Version) [Deluxe] | 2023 |\n",
              "| 5 | Taylor Swift | 0.520 | 0.588 | 0.721 | -5.579 | 0.0317 | 0.000656 | 0.1310 |  96.997 | All You Had To Do Was Stay (Taylor's Version) | 1989 (Taylor's Version) [Deluxe] | 2023 |\n",
              "| 6 | Taylor Swift | 0.917 | 0.636 | 0.808 | -5.693 | 0.0729 | 0.012100 | 0.3590 | 160.058 | Shake It Off (Taylor's Version)               | 1989 (Taylor's Version) [Deluxe] | 2023 |\n",
              "\n"
            ],
            "text/plain": [
              "  artist_name  Valence danceability energy loudness speechiness acousticness\n",
              "1 Taylor Swift 0.685   0.757        0.610  -4.840   0.0327      0.009420    \n",
              "2 Taylor Swift 0.701   0.733        0.733  -5.376   0.0670      0.088500    \n",
              "3 Taylor Swift 0.305   0.511        0.822  -4.785   0.0397      0.000421    \n",
              "4 Taylor Swift 0.206   0.545        0.885  -5.968   0.0447      0.000537    \n",
              "5 Taylor Swift 0.520   0.588        0.721  -5.579   0.0317      0.000656    \n",
              "6 Taylor Swift 0.917   0.636        0.808  -5.693   0.0729      0.012100    \n",
              "  liveness tempo   track_name                                   \n",
              "1 0.3670   116.998 Welcome To New York (Taylor's Version)       \n",
              "2 0.1680    96.057 Blank Space (Taylor's Version)               \n",
              "3 0.0899    94.868 Style (Taylor's Version)                     \n",
              "4 0.3850    92.021 Out Of The Woods (Taylor's Version)          \n",
              "5 0.1310    96.997 All You Had To Do Was Stay (Taylor's Version)\n",
              "6 0.3590   160.058 Shake It Off (Taylor's Version)              \n",
              "  album_name                       album_release_year\n",
              "1 1989 (Taylor's Version) [Deluxe] 2023              \n",
              "2 1989 (Taylor's Version) [Deluxe] 2023              \n",
              "3 1989 (Taylor's Version) [Deluxe] 2023              \n",
              "4 1989 (Taylor's Version) [Deluxe] 2023              \n",
              "5 1989 (Taylor's Version) [Deluxe] 2023              \n",
              "6 1989 (Taylor's Version) [Deluxe] 2023              "
            ]
          },
          "metadata": {},
          "output_type": "display_data"
        },
        {
          "data": {
            "text/html": [
              "<table class=\"dataframe\">\n",
              "<caption>A data.frame: 6 × 12</caption>\n",
              "<thead>\n",
              "\t<tr><th></th><th scope=col>artist_name</th><th scope=col>alence</th><th scope=col>danceability</th><th scope=col>energy</th><th scope=col>loudness</th><th scope=col>speechiness</th><th scope=col>acousticness</th><th scope=col>liveness</th><th scope=col>tempo</th><th scope=col>track_name</th><th scope=col>album_name</th><th scope=col>album_release_year</th></tr>\n",
              "\t<tr><th></th><th scope=col>&lt;chr&gt;</th><th scope=col>&lt;dbl&gt;</th><th scope=col>&lt;dbl&gt;</th><th scope=col>&lt;dbl&gt;</th><th scope=col>&lt;dbl&gt;</th><th scope=col>&lt;dbl&gt;</th><th scope=col>&lt;dbl&gt;</th><th scope=col>&lt;dbl&gt;</th><th scope=col>&lt;dbl&gt;</th><th scope=col>&lt;chr&gt;</th><th scope=col>&lt;chr&gt;</th><th scope=col>&lt;dbl&gt;</th></tr>\n",
              "</thead>\n",
              "<tbody>\n",
              "\t<tr><th scope=row>1</th><td>John Legend</td><td>0.296</td><td>0.470</td><td>0.327</td><td>-7.260</td><td>0.0402</td><td>0.897</td><td>0.115</td><td> 62.915</td><td>Honey - Piano Version           </td><td>LEGEND (Solo Piano Version)</td><td>2023</td></tr>\n",
              "\t<tr><th scope=row>2</th><td>John Legend</td><td>0.550</td><td>0.589</td><td>0.596</td><td>-5.042</td><td>0.0560</td><td>0.484</td><td>0.210</td><td>123.277</td><td>Nervous - Piano Version         </td><td>LEGEND (Solo Piano Version)</td><td>2023</td></tr>\n",
              "\t<tr><th scope=row>3</th><td>John Legend</td><td>0.610</td><td>0.601</td><td>0.508</td><td>-5.313</td><td>0.0348</td><td>0.842</td><td>0.127</td><td>111.662</td><td>All She Wanna Do - Piano Version</td><td>LEGEND (Solo Piano Version)</td><td>2023</td></tr>\n",
              "\t<tr><th scope=row>4</th><td>John Legend</td><td>0.579</td><td>0.398</td><td>0.538</td><td>-5.073</td><td>0.0607</td><td>0.673</td><td>0.338</td><td>180.935</td><td>Strawberry Blush - Piano Version</td><td>LEGEND (Solo Piano Version)</td><td>2023</td></tr>\n",
              "\t<tr><th scope=row>5</th><td>John Legend</td><td>0.434</td><td>0.438</td><td>0.265</td><td>-6.708</td><td>0.0301</td><td>0.885</td><td>0.110</td><td> 81.354</td><td>Rounds - Piano Version          </td><td>LEGEND (Solo Piano Version)</td><td>2023</td></tr>\n",
              "\t<tr><th scope=row>6</th><td>John Legend</td><td>0.615</td><td>0.478</td><td>0.391</td><td>-5.556</td><td>0.0363</td><td>0.841</td><td>0.179</td><td>120.242</td><td>Splash - Piano Version          </td><td>LEGEND (Solo Piano Version)</td><td>2023</td></tr>\n",
              "</tbody>\n",
              "</table>\n"
            ],
            "text/latex": [
              "A data.frame: 6 × 12\n",
              "\\begin{tabular}{r|llllllllllll}\n",
              "  & artist\\_name & alence & danceability & energy & loudness & speechiness & acousticness & liveness & tempo & track\\_name & album\\_name & album\\_release\\_year\\\\\n",
              "  & <chr> & <dbl> & <dbl> & <dbl> & <dbl> & <dbl> & <dbl> & <dbl> & <dbl> & <chr> & <chr> & <dbl>\\\\\n",
              "\\hline\n",
              "\t1 & John Legend & 0.296 & 0.470 & 0.327 & -7.260 & 0.0402 & 0.897 & 0.115 &  62.915 & Honey - Piano Version            & LEGEND (Solo Piano Version) & 2023\\\\\n",
              "\t2 & John Legend & 0.550 & 0.589 & 0.596 & -5.042 & 0.0560 & 0.484 & 0.210 & 123.277 & Nervous - Piano Version          & LEGEND (Solo Piano Version) & 2023\\\\\n",
              "\t3 & John Legend & 0.610 & 0.601 & 0.508 & -5.313 & 0.0348 & 0.842 & 0.127 & 111.662 & All She Wanna Do - Piano Version & LEGEND (Solo Piano Version) & 2023\\\\\n",
              "\t4 & John Legend & 0.579 & 0.398 & 0.538 & -5.073 & 0.0607 & 0.673 & 0.338 & 180.935 & Strawberry Blush - Piano Version & LEGEND (Solo Piano Version) & 2023\\\\\n",
              "\t5 & John Legend & 0.434 & 0.438 & 0.265 & -6.708 & 0.0301 & 0.885 & 0.110 &  81.354 & Rounds - Piano Version           & LEGEND (Solo Piano Version) & 2023\\\\\n",
              "\t6 & John Legend & 0.615 & 0.478 & 0.391 & -5.556 & 0.0363 & 0.841 & 0.179 & 120.242 & Splash - Piano Version           & LEGEND (Solo Piano Version) & 2023\\\\\n",
              "\\end{tabular}\n"
            ],
            "text/markdown": [
              "\n",
              "A data.frame: 6 × 12\n",
              "\n",
              "| <!--/--> | artist_name &lt;chr&gt; | alence &lt;dbl&gt; | danceability &lt;dbl&gt; | energy &lt;dbl&gt; | loudness &lt;dbl&gt; | speechiness &lt;dbl&gt; | acousticness &lt;dbl&gt; | liveness &lt;dbl&gt; | tempo &lt;dbl&gt; | track_name &lt;chr&gt; | album_name &lt;chr&gt; | album_release_year &lt;dbl&gt; |\n",
              "|---|---|---|---|---|---|---|---|---|---|---|---|---|\n",
              "| 1 | John Legend | 0.296 | 0.470 | 0.327 | -7.260 | 0.0402 | 0.897 | 0.115 |  62.915 | Honey - Piano Version            | LEGEND (Solo Piano Version) | 2023 |\n",
              "| 2 | John Legend | 0.550 | 0.589 | 0.596 | -5.042 | 0.0560 | 0.484 | 0.210 | 123.277 | Nervous - Piano Version          | LEGEND (Solo Piano Version) | 2023 |\n",
              "| 3 | John Legend | 0.610 | 0.601 | 0.508 | -5.313 | 0.0348 | 0.842 | 0.127 | 111.662 | All She Wanna Do - Piano Version | LEGEND (Solo Piano Version) | 2023 |\n",
              "| 4 | John Legend | 0.579 | 0.398 | 0.538 | -5.073 | 0.0607 | 0.673 | 0.338 | 180.935 | Strawberry Blush - Piano Version | LEGEND (Solo Piano Version) | 2023 |\n",
              "| 5 | John Legend | 0.434 | 0.438 | 0.265 | -6.708 | 0.0301 | 0.885 | 0.110 |  81.354 | Rounds - Piano Version           | LEGEND (Solo Piano Version) | 2023 |\n",
              "| 6 | John Legend | 0.615 | 0.478 | 0.391 | -5.556 | 0.0363 | 0.841 | 0.179 | 120.242 | Splash - Piano Version           | LEGEND (Solo Piano Version) | 2023 |\n",
              "\n"
            ],
            "text/plain": [
              "  artist_name alence danceability energy loudness speechiness acousticness\n",
              "1 John Legend 0.296  0.470        0.327  -7.260   0.0402      0.897       \n",
              "2 John Legend 0.550  0.589        0.596  -5.042   0.0560      0.484       \n",
              "3 John Legend 0.610  0.601        0.508  -5.313   0.0348      0.842       \n",
              "4 John Legend 0.579  0.398        0.538  -5.073   0.0607      0.673       \n",
              "5 John Legend 0.434  0.438        0.265  -6.708   0.0301      0.885       \n",
              "6 John Legend 0.615  0.478        0.391  -5.556   0.0363      0.841       \n",
              "  liveness tempo   track_name                       album_name                 \n",
              "1 0.115     62.915 Honey - Piano Version            LEGEND (Solo Piano Version)\n",
              "2 0.210    123.277 Nervous - Piano Version          LEGEND (Solo Piano Version)\n",
              "3 0.127    111.662 All She Wanna Do - Piano Version LEGEND (Solo Piano Version)\n",
              "4 0.338    180.935 Strawberry Blush - Piano Version LEGEND (Solo Piano Version)\n",
              "5 0.110     81.354 Rounds - Piano Version           LEGEND (Solo Piano Version)\n",
              "6 0.179    120.242 Splash - Piano Version           LEGEND (Solo Piano Version)\n",
              "  album_release_year\n",
              "1 2023              \n",
              "2 2023              \n",
              "3 2023              \n",
              "4 2023              \n",
              "5 2023              \n",
              "6 2023              "
            ]
          },
          "metadata": {},
          "output_type": "display_data"
        },
        {
          "data": {
            "text/html": [
              "<table class=\"dataframe\">\n",
              "<caption>A data.frame: 6 × 12</caption>\n",
              "<thead>\n",
              "\t<tr><th></th><th scope=col>artist_name</th><th scope=col>Valence</th><th scope=col>danceability</th><th scope=col>energy</th><th scope=col>loudness</th><th scope=col>speechiness</th><th scope=col>acousticness</th><th scope=col>liveness</th><th scope=col>tempo</th><th scope=col>track_name</th><th scope=col>album_name</th><th scope=col>album_release_year</th></tr>\n",
              "\t<tr><th></th><th scope=col>&lt;chr&gt;</th><th scope=col>&lt;dbl&gt;</th><th scope=col>&lt;dbl&gt;</th><th scope=col>&lt;dbl&gt;</th><th scope=col>&lt;dbl&gt;</th><th scope=col>&lt;dbl&gt;</th><th scope=col>&lt;dbl&gt;</th><th scope=col>&lt;dbl&gt;</th><th scope=col>&lt;dbl&gt;</th><th scope=col>&lt;chr&gt;</th><th scope=col>&lt;chr&gt;</th><th scope=col>&lt;dbl&gt;</th></tr>\n",
              "</thead>\n",
              "<tbody>\n",
              "\t<tr><th scope=row>1</th><td>Beyonc'e</td><td>0.136</td><td>0.554</td><td>0.535</td><td>-8.959</td><td>0.1860</td><td>0.061600</td><td>0.1240</td><td>105.865</td><td>I'M THAT GIRL      </td><td>RENAISSANCE</td><td>2022</td></tr>\n",
              "\t<tr><th scope=row>2</th><td>Beyonc'e</td><td>0.367</td><td>0.556</td><td>0.630</td><td>-8.150</td><td>0.1020</td><td>0.000828</td><td>0.1550</td><td>149.147</td><td>COZY               </td><td>RENAISSANCE</td><td>2022</td></tr>\n",
              "\t<tr><th scope=row>3</th><td>Beyonc'e</td><td>0.464</td><td>0.545</td><td>0.641</td><td>-6.398</td><td>0.0998</td><td>0.004530</td><td>0.1710</td><td>121.892</td><td>ALIEN SUPERSTAR    </td><td>RENAISSANCE</td><td>2022</td></tr>\n",
              "\t<tr><th scope=row>4</th><td>Beyonc'e</td><td>0.642</td><td>0.780</td><td>0.689</td><td>-5.668</td><td>0.1410</td><td>0.036800</td><td>0.0698</td><td>115.042</td><td>CUFF IT            </td><td>RENAISSANCE</td><td>2022</td></tr>\n",
              "\t<tr><th scope=row>5</th><td>Beyonc'e</td><td>0.587</td><td>0.903</td><td>0.519</td><td>-9.151</td><td>0.2600</td><td>0.281000</td><td>0.1550</td><td>114.991</td><td>ENERGY (feat. Beam)</td><td>RENAISSANCE</td><td>2022</td></tr>\n",
              "\t<tr><th scope=row>6</th><td>Beyonc'e</td><td>0.864</td><td>0.693</td><td>0.887</td><td>-5.039</td><td>0.0795</td><td>0.058100</td><td>0.2700</td><td>114.942</td><td>BREAK MY SOUL      </td><td>RENAISSANCE</td><td>2022</td></tr>\n",
              "</tbody>\n",
              "</table>\n"
            ],
            "text/latex": [
              "A data.frame: 6 × 12\n",
              "\\begin{tabular}{r|llllllllllll}\n",
              "  & artist\\_name & Valence & danceability & energy & loudness & speechiness & acousticness & liveness & tempo & track\\_name & album\\_name & album\\_release\\_year\\\\\n",
              "  & <chr> & <dbl> & <dbl> & <dbl> & <dbl> & <dbl> & <dbl> & <dbl> & <dbl> & <chr> & <chr> & <dbl>\\\\\n",
              "\\hline\n",
              "\t1 & Beyonc'e & 0.136 & 0.554 & 0.535 & -8.959 & 0.1860 & 0.061600 & 0.1240 & 105.865 & I'M THAT GIRL       & RENAISSANCE & 2022\\\\\n",
              "\t2 & Beyonc'e & 0.367 & 0.556 & 0.630 & -8.150 & 0.1020 & 0.000828 & 0.1550 & 149.147 & COZY                & RENAISSANCE & 2022\\\\\n",
              "\t3 & Beyonc'e & 0.464 & 0.545 & 0.641 & -6.398 & 0.0998 & 0.004530 & 0.1710 & 121.892 & ALIEN SUPERSTAR     & RENAISSANCE & 2022\\\\\n",
              "\t4 & Beyonc'e & 0.642 & 0.780 & 0.689 & -5.668 & 0.1410 & 0.036800 & 0.0698 & 115.042 & CUFF IT             & RENAISSANCE & 2022\\\\\n",
              "\t5 & Beyonc'e & 0.587 & 0.903 & 0.519 & -9.151 & 0.2600 & 0.281000 & 0.1550 & 114.991 & ENERGY (feat. Beam) & RENAISSANCE & 2022\\\\\n",
              "\t6 & Beyonc'e & 0.864 & 0.693 & 0.887 & -5.039 & 0.0795 & 0.058100 & 0.2700 & 114.942 & BREAK MY SOUL       & RENAISSANCE & 2022\\\\\n",
              "\\end{tabular}\n"
            ],
            "text/markdown": [
              "\n",
              "A data.frame: 6 × 12\n",
              "\n",
              "| <!--/--> | artist_name &lt;chr&gt; | Valence &lt;dbl&gt; | danceability &lt;dbl&gt; | energy &lt;dbl&gt; | loudness &lt;dbl&gt; | speechiness &lt;dbl&gt; | acousticness &lt;dbl&gt; | liveness &lt;dbl&gt; | tempo &lt;dbl&gt; | track_name &lt;chr&gt; | album_name &lt;chr&gt; | album_release_year &lt;dbl&gt; |\n",
              "|---|---|---|---|---|---|---|---|---|---|---|---|---|\n",
              "| 1 | Beyonc'e | 0.136 | 0.554 | 0.535 | -8.959 | 0.1860 | 0.061600 | 0.1240 | 105.865 | I'M THAT GIRL       | RENAISSANCE | 2022 |\n",
              "| 2 | Beyonc'e | 0.367 | 0.556 | 0.630 | -8.150 | 0.1020 | 0.000828 | 0.1550 | 149.147 | COZY                | RENAISSANCE | 2022 |\n",
              "| 3 | Beyonc'e | 0.464 | 0.545 | 0.641 | -6.398 | 0.0998 | 0.004530 | 0.1710 | 121.892 | ALIEN SUPERSTAR     | RENAISSANCE | 2022 |\n",
              "| 4 | Beyonc'e | 0.642 | 0.780 | 0.689 | -5.668 | 0.1410 | 0.036800 | 0.0698 | 115.042 | CUFF IT             | RENAISSANCE | 2022 |\n",
              "| 5 | Beyonc'e | 0.587 | 0.903 | 0.519 | -9.151 | 0.2600 | 0.281000 | 0.1550 | 114.991 | ENERGY (feat. Beam) | RENAISSANCE | 2022 |\n",
              "| 6 | Beyonc'e | 0.864 | 0.693 | 0.887 | -5.039 | 0.0795 | 0.058100 | 0.2700 | 114.942 | BREAK MY SOUL       | RENAISSANCE | 2022 |\n",
              "\n"
            ],
            "text/plain": [
              "  artist_name Valence danceability energy loudness speechiness acousticness\n",
              "1 Beyonc'e    0.136   0.554        0.535  -8.959   0.1860      0.061600    \n",
              "2 Beyonc'e    0.367   0.556        0.630  -8.150   0.1020      0.000828    \n",
              "3 Beyonc'e    0.464   0.545        0.641  -6.398   0.0998      0.004530    \n",
              "4 Beyonc'e    0.642   0.780        0.689  -5.668   0.1410      0.036800    \n",
              "5 Beyonc'e    0.587   0.903        0.519  -9.151   0.2600      0.281000    \n",
              "6 Beyonc'e    0.864   0.693        0.887  -5.039   0.0795      0.058100    \n",
              "  liveness tempo   track_name          album_name  album_release_year\n",
              "1 0.1240   105.865 I'M THAT GIRL       RENAISSANCE 2022              \n",
              "2 0.1550   149.147 COZY                RENAISSANCE 2022              \n",
              "3 0.1710   121.892 ALIEN SUPERSTAR     RENAISSANCE 2022              \n",
              "4 0.0698   115.042 CUFF IT             RENAISSANCE 2022              \n",
              "5 0.1550   114.991 ENERGY (feat. Beam) RENAISSANCE 2022              \n",
              "6 0.2700   114.942 BREAK MY SOUL       RENAISSANCE 2022              "
            ]
          },
          "metadata": {},
          "output_type": "display_data"
        }
      ],
      "source": [
        "library(Rspotify)\n",
        "library(httr)\n",
        "library(jsonlite)\n",
        "library(spotifyr)#spotifyr is an R wrapper for pulling track audio features and other information from Spotify’s Web API in bulk. \n",
        "\n",
        "\n",
        "get_spotify_access_token(client_id = \"8a556a04a8634ac99c1c317c336cdcaa\",\n",
        "                         client_secret = \"2c681e6bf45b450396d1e5d2487e5f71\")\n",
        "\n",
        "Sys.setenv(SPOTIFY_CLIENT_ID = \"8a556a04a8634ac99c1c317c336cdcaa\")\n",
        "Sys.setenv(SPOTIFY_CLIENT_SECRET = \"2c681e6bf45b450396d1e5d2487e5f71\")\n",
        "\n",
        "access_token = get_spotify_access_token()\n",
        "\n",
        "\n",
        "Taylor_Swift <- get_artist_audio_features(\"Taylor Swift\")\n",
        "John_Legend <- get_artist_audio_features(\"John Legend\")\n",
        "Beyonce <- get_artist_audio_features(\"Beyonce\")\n",
        "\n",
        "## You can also access the variables by indexes, but the names are here to see what I'm retreiving\n",
        "\n",
        "Taylor_Swift_A <-data.frame(Taylor_Swift$artist_name,Taylor_Swift$valence,\n",
        "                            Taylor_Swift$danceability,Taylor_Swift$energy,Taylor_Swift$loudness,\n",
        "                            Taylor_Swift$speechiness,Taylor_Swift$acousticness,Taylor_Swift$liveness,\n",
        "                            Taylor_Swift$tempo,Taylor_Swift$track_name, Taylor_Swift$album_name,Taylor_Swift$album_release_year)\n",
        "colnames(Taylor_Swift_A) <- c(\"artist_name\",\"Valence\",\"danceability\",\"energy\",\n",
        "                              \"loudness\",\"speechiness\",\"acousticness\",\"liveness\",\n",
        "                              \"tempo\",\"track_name\",\"album_name\",\"album_release_year\")\n",
        "head(Taylor_Swift_A)\n",
        "\n",
        "\n",
        "John_Legend_A <-data.frame(John_Legend$artist_name,John_Legend$valence,\n",
        "                            John_Legend$danceability,John_Legend$energy,John_Legend$loudness,\n",
        "                            John_Legend$speechiness,John_Legend$acousticness,John_Legend$liveness,\n",
        "                            John_Legend$tempo,John_Legend$track_name, John_Legend$album_name,John_Legend$album_release_year)\n",
        "\n",
        "colnames(John_Legend_A) <- c(\"artist_name\",\"alence\",\"danceability\",\"energy\",\n",
        "                              \"loudness\",\"speechiness\",\"acousticness\",\"liveness\",\n",
        "                              \"tempo\",\"track_name\",\"album_name\",\"album_release_year\")\n",
        "head(John_Legend_A)\n",
        "\n",
        "\n",
        "Beyonce_A <-data.frame(Beyonce$artist_name,Beyonce$valence,\n",
        "                       Beyonce$danceability,Beyonce$energy,Beyonce$loudness,\n",
        "                       Beyonce$speechiness,Beyonce$acousticness,Beyonce$liveness,\n",
        "                       Beyonce$tempo,Beyonce$track_name, Beyonce$album_name, Beyonce$album_release_year)\n",
        "\n",
        "colnames(Beyonce_A) <- c(\"artist_name\",\"Valence\",\"danceability\",\"energy\",\n",
        "                             \"loudness\",\"speechiness\",\"acousticness\",\"liveness\",\n",
        "                             \"tempo\",\"track_name\",\"album_name\",\"album_release_year\")\n",
        "head(Beyonce_A)\n"
      ]
    },
    {
      "cell_type": "markdown",
      "metadata": {},
      "source": [
        "You can download the data set \"Artists.csv\" from Canvas->\"Midterm\" Folder.\n",
        "\n"
      ]
    },
    {
      "cell_type": "code",
      "execution_count": 2,
      "metadata": {
        "vscode": {
          "languageId": "r"
        }
      },
      "outputs": [
        {
          "data": {
            "text/html": [
              "<table class=\"dataframe\">\n",
              "<caption>A data.frame: 6 × 13</caption>\n",
              "<thead>\n",
              "\t<tr><th></th><th scope=col>X</th><th scope=col>artist_name</th><th scope=col>Valence</th><th scope=col>danceability</th><th scope=col>energy</th><th scope=col>loudness</th><th scope=col>speechiness</th><th scope=col>acousticness</th><th scope=col>liveness</th><th scope=col>tempo</th><th scope=col>track_name</th><th scope=col>album_name</th><th scope=col>album_release_year</th></tr>\n",
              "\t<tr><th></th><th scope=col>&lt;int&gt;</th><th scope=col>&lt;chr&gt;</th><th scope=col>&lt;dbl&gt;</th><th scope=col>&lt;dbl&gt;</th><th scope=col>&lt;dbl&gt;</th><th scope=col>&lt;dbl&gt;</th><th scope=col>&lt;dbl&gt;</th><th scope=col>&lt;dbl&gt;</th><th scope=col>&lt;dbl&gt;</th><th scope=col>&lt;dbl&gt;</th><th scope=col>&lt;chr&gt;</th><th scope=col>&lt;chr&gt;</th><th scope=col>&lt;int&gt;</th></tr>\n",
              "</thead>\n",
              "<tbody>\n",
              "\t<tr><th scope=row>1</th><td>1</td><td>Taylor Swift</td><td>0.328</td><td>0.594</td><td>0.713</td><td>-5.314</td><td>0.0503</td><td>0.000328</td><td>0.1140</td><td>129.958</td><td>State Of Grace (Taylor's Version)         </td><td>Red (Taylor's Version)</td><td>2021</td></tr>\n",
              "\t<tr><th scope=row>2</th><td>2</td><td>Taylor Swift</td><td>0.408</td><td>0.516</td><td>0.777</td><td>-4.908</td><td>0.0375</td><td>0.001080</td><td>0.0761</td><td>125.047</td><td>Red (Taylor's Version)                    </td><td>Red (Taylor's Version)</td><td>2021</td></tr>\n",
              "\t<tr><th scope=row>3</th><td>3</td><td>Taylor Swift</td><td>0.299</td><td>0.645</td><td>0.593</td><td>-6.506</td><td>0.0288</td><td>0.034400</td><td>0.1300</td><td>109.984</td><td>Treacherous (Taylor's Version)            </td><td>Red (Taylor's Version)</td><td>2021</td></tr>\n",
              "\t<tr><th scope=row>4</th><td>4</td><td>Taylor Swift</td><td>0.767</td><td>0.584</td><td>0.557</td><td>-6.371</td><td>0.0342</td><td>0.012900</td><td>0.0576</td><td>154.008</td><td>I Knew You Were Trouble (Taylor's Version)</td><td>Red (Taylor's Version)</td><td>2021</td></tr>\n",
              "\t<tr><th scope=row>5</th><td>5</td><td>Taylor Swift</td><td>0.132</td><td>0.440</td><td>0.528</td><td>-7.809</td><td>0.0317</td><td>0.017100</td><td>0.2340</td><td>185.972</td><td>All Too Well (Taylor's Version)           </td><td>Red (Taylor's Version)</td><td>2021</td></tr>\n",
              "\t<tr><th scope=row>6</th><td>6</td><td>Taylor Swift</td><td>0.642</td><td>0.642</td><td>0.695</td><td>-5.620</td><td>0.0281</td><td>0.000443</td><td>0.0753</td><td>103.984</td><td>22 (Taylor's Version)                     </td><td>Red (Taylor's Version)</td><td>2021</td></tr>\n",
              "</tbody>\n",
              "</table>\n"
            ],
            "text/latex": [
              "A data.frame: 6 × 13\n",
              "\\begin{tabular}{r|lllllllllllll}\n",
              "  & X & artist\\_name & Valence & danceability & energy & loudness & speechiness & acousticness & liveness & tempo & track\\_name & album\\_name & album\\_release\\_year\\\\\n",
              "  & <int> & <chr> & <dbl> & <dbl> & <dbl> & <dbl> & <dbl> & <dbl> & <dbl> & <dbl> & <chr> & <chr> & <int>\\\\\n",
              "\\hline\n",
              "\t1 & 1 & Taylor Swift & 0.328 & 0.594 & 0.713 & -5.314 & 0.0503 & 0.000328 & 0.1140 & 129.958 & State Of Grace (Taylor's Version)          & Red (Taylor's Version) & 2021\\\\\n",
              "\t2 & 2 & Taylor Swift & 0.408 & 0.516 & 0.777 & -4.908 & 0.0375 & 0.001080 & 0.0761 & 125.047 & Red (Taylor's Version)                     & Red (Taylor's Version) & 2021\\\\\n",
              "\t3 & 3 & Taylor Swift & 0.299 & 0.645 & 0.593 & -6.506 & 0.0288 & 0.034400 & 0.1300 & 109.984 & Treacherous (Taylor's Version)             & Red (Taylor's Version) & 2021\\\\\n",
              "\t4 & 4 & Taylor Swift & 0.767 & 0.584 & 0.557 & -6.371 & 0.0342 & 0.012900 & 0.0576 & 154.008 & I Knew You Were Trouble (Taylor's Version) & Red (Taylor's Version) & 2021\\\\\n",
              "\t5 & 5 & Taylor Swift & 0.132 & 0.440 & 0.528 & -7.809 & 0.0317 & 0.017100 & 0.2340 & 185.972 & All Too Well (Taylor's Version)            & Red (Taylor's Version) & 2021\\\\\n",
              "\t6 & 6 & Taylor Swift & 0.642 & 0.642 & 0.695 & -5.620 & 0.0281 & 0.000443 & 0.0753 & 103.984 & 22 (Taylor's Version)                      & Red (Taylor's Version) & 2021\\\\\n",
              "\\end{tabular}\n"
            ],
            "text/markdown": [
              "\n",
              "A data.frame: 6 × 13\n",
              "\n",
              "| <!--/--> | X &lt;int&gt; | artist_name &lt;chr&gt; | Valence &lt;dbl&gt; | danceability &lt;dbl&gt; | energy &lt;dbl&gt; | loudness &lt;dbl&gt; | speechiness &lt;dbl&gt; | acousticness &lt;dbl&gt; | liveness &lt;dbl&gt; | tempo &lt;dbl&gt; | track_name &lt;chr&gt; | album_name &lt;chr&gt; | album_release_year &lt;int&gt; |\n",
              "|---|---|---|---|---|---|---|---|---|---|---|---|---|---|\n",
              "| 1 | 1 | Taylor Swift | 0.328 | 0.594 | 0.713 | -5.314 | 0.0503 | 0.000328 | 0.1140 | 129.958 | State Of Grace (Taylor's Version)          | Red (Taylor's Version) | 2021 |\n",
              "| 2 | 2 | Taylor Swift | 0.408 | 0.516 | 0.777 | -4.908 | 0.0375 | 0.001080 | 0.0761 | 125.047 | Red (Taylor's Version)                     | Red (Taylor's Version) | 2021 |\n",
              "| 3 | 3 | Taylor Swift | 0.299 | 0.645 | 0.593 | -6.506 | 0.0288 | 0.034400 | 0.1300 | 109.984 | Treacherous (Taylor's Version)             | Red (Taylor's Version) | 2021 |\n",
              "| 4 | 4 | Taylor Swift | 0.767 | 0.584 | 0.557 | -6.371 | 0.0342 | 0.012900 | 0.0576 | 154.008 | I Knew You Were Trouble (Taylor's Version) | Red (Taylor's Version) | 2021 |\n",
              "| 5 | 5 | Taylor Swift | 0.132 | 0.440 | 0.528 | -7.809 | 0.0317 | 0.017100 | 0.2340 | 185.972 | All Too Well (Taylor's Version)            | Red (Taylor's Version) | 2021 |\n",
              "| 6 | 6 | Taylor Swift | 0.642 | 0.642 | 0.695 | -5.620 | 0.0281 | 0.000443 | 0.0753 | 103.984 | 22 (Taylor's Version)                      | Red (Taylor's Version) | 2021 |\n",
              "\n"
            ],
            "text/plain": [
              "  X artist_name  Valence danceability energy loudness speechiness acousticness\n",
              "1 1 Taylor Swift 0.328   0.594        0.713  -5.314   0.0503      0.000328    \n",
              "2 2 Taylor Swift 0.408   0.516        0.777  -4.908   0.0375      0.001080    \n",
              "3 3 Taylor Swift 0.299   0.645        0.593  -6.506   0.0288      0.034400    \n",
              "4 4 Taylor Swift 0.767   0.584        0.557  -6.371   0.0342      0.012900    \n",
              "5 5 Taylor Swift 0.132   0.440        0.528  -7.809   0.0317      0.017100    \n",
              "6 6 Taylor Swift 0.642   0.642        0.695  -5.620   0.0281      0.000443    \n",
              "  liveness tempo   track_name                                \n",
              "1 0.1140   129.958 State Of Grace (Taylor's Version)         \n",
              "2 0.0761   125.047 Red (Taylor's Version)                    \n",
              "3 0.1300   109.984 Treacherous (Taylor's Version)            \n",
              "4 0.0576   154.008 I Knew You Were Trouble (Taylor's Version)\n",
              "5 0.2340   185.972 All Too Well (Taylor's Version)           \n",
              "6 0.0753   103.984 22 (Taylor's Version)                     \n",
              "  album_name             album_release_year\n",
              "1 Red (Taylor's Version) 2021              \n",
              "2 Red (Taylor's Version) 2021              \n",
              "3 Red (Taylor's Version) 2021              \n",
              "4 Red (Taylor's Version) 2021              \n",
              "5 Red (Taylor's Version) 2021              \n",
              "6 Red (Taylor's Version) 2021              "
            ]
          },
          "metadata": {},
          "output_type": "display_data"
        }
      ],
      "source": [
        "artists = read.csv(\"Artists.csv\")\n",
        "head(artists)"
      ]
    },
    {
      "cell_type": "markdown",
      "metadata": {},
      "source": [
        "## Problem 1: Hypothesis Testing - part 1 \n",
        "\n",
        "Data Science Question: Does the average \"speechiness\" is larger for Taylor Swift than that of  John Legend ?\n",
        "\n",
        "a. Perform EDA (Exploratory Data Analysis) using some Data Visualizations.\n",
        "\n"
      ]
    },
    {
      "cell_type": "code",
      "execution_count": 2,
      "metadata": {
        "vscode": {
          "languageId": "r"
        }
      },
      "outputs": [],
      "source": [
        "ts = artists[artists$artist_name == \"Taylor Swift\",]\n",
        "jl = artists[artists$artist_name == \"John Legend\",]"
      ]
    },
    {
      "cell_type": "code",
      "execution_count": 33,
      "metadata": {
        "vscode": {
          "languageId": "r"
        }
      },
      "outputs": [
        {
          "data": {
            "text/html": [
              "<style>\n",
              ".dl-inline {width: auto; margin:0; padding: 0}\n",
              ".dl-inline>dt, .dl-inline>dd {float: none; width: auto; display: inline-block}\n",
              ".dl-inline>dt::after {content: \":\\0020\"; padding-right: .5ex}\n",
              ".dl-inline>dt:not(:first-of-type) {padding-left: .5ex}\n",
              "</style><dl class=dl-inline><dt>X</dt><dd>0</dd><dt>artist_name</dt><dd>0</dd><dt>Valence</dt><dd>0</dd><dt>danceability</dt><dd>0</dd><dt>energy</dt><dd>0</dd><dt>loudness</dt><dd>0</dd><dt>speechiness</dt><dd>0</dd><dt>acousticness</dt><dd>0</dd><dt>liveness</dt><dd>0</dd><dt>tempo</dt><dd>0</dd><dt>track_name</dt><dd>0</dd><dt>album_name</dt><dd>0</dd><dt>album_release_year</dt><dd>0</dd></dl>\n"
            ],
            "text/latex": [
              "\\begin{description*}\n",
              "\\item[X] 0\n",
              "\\item[artist\\textbackslash{}\\_name] 0\n",
              "\\item[Valence] 0\n",
              "\\item[danceability] 0\n",
              "\\item[energy] 0\n",
              "\\item[loudness] 0\n",
              "\\item[speechiness] 0\n",
              "\\item[acousticness] 0\n",
              "\\item[liveness] 0\n",
              "\\item[tempo] 0\n",
              "\\item[track\\textbackslash{}\\_name] 0\n",
              "\\item[album\\textbackslash{}\\_name] 0\n",
              "\\item[album\\textbackslash{}\\_release\\textbackslash{}\\_year] 0\n",
              "\\end{description*}\n"
            ],
            "text/markdown": [
              "X\n",
              ":   0artist_name\n",
              ":   0Valence\n",
              ":   0danceability\n",
              ":   0energy\n",
              ":   0loudness\n",
              ":   0speechiness\n",
              ":   0acousticness\n",
              ":   0liveness\n",
              ":   0tempo\n",
              ":   0track_name\n",
              ":   0album_name\n",
              ":   0album_release_year\n",
              ":   0\n",
              "\n"
            ],
            "text/plain": [
              "                 X        artist_name            Valence       danceability \n",
              "                 0                  0                  0                  0 \n",
              "            energy           loudness        speechiness       acousticness \n",
              "                 0                  0                  0                  0 \n",
              "          liveness              tempo         track_name         album_name \n",
              "                 0                  0                  0                  0 \n",
              "album_release_year \n",
              "                 0 "
            ]
          },
          "metadata": {},
          "output_type": "display_data"
        },
        {
          "data": {
            "text/html": [
              "<style>\n",
              ".dl-inline {width: auto; margin:0; padding: 0}\n",
              ".dl-inline>dt, .dl-inline>dd {float: none; width: auto; display: inline-block}\n",
              ".dl-inline>dt::after {content: \":\\0020\"; padding-right: .5ex}\n",
              ".dl-inline>dt:not(:first-of-type) {padding-left: .5ex}\n",
              "</style><dl class=dl-inline><dt>X</dt><dd>0</dd><dt>artist_name</dt><dd>0</dd><dt>Valence</dt><dd>0</dd><dt>danceability</dt><dd>0</dd><dt>energy</dt><dd>0</dd><dt>loudness</dt><dd>0</dd><dt>speechiness</dt><dd>0</dd><dt>acousticness</dt><dd>0</dd><dt>liveness</dt><dd>0</dd><dt>tempo</dt><dd>0</dd><dt>track_name</dt><dd>0</dd><dt>album_name</dt><dd>0</dd><dt>album_release_year</dt><dd>0</dd></dl>\n"
            ],
            "text/latex": [
              "\\begin{description*}\n",
              "\\item[X] 0\n",
              "\\item[artist\\textbackslash{}\\_name] 0\n",
              "\\item[Valence] 0\n",
              "\\item[danceability] 0\n",
              "\\item[energy] 0\n",
              "\\item[loudness] 0\n",
              "\\item[speechiness] 0\n",
              "\\item[acousticness] 0\n",
              "\\item[liveness] 0\n",
              "\\item[tempo] 0\n",
              "\\item[track\\textbackslash{}\\_name] 0\n",
              "\\item[album\\textbackslash{}\\_name] 0\n",
              "\\item[album\\textbackslash{}\\_release\\textbackslash{}\\_year] 0\n",
              "\\end{description*}\n"
            ],
            "text/markdown": [
              "X\n",
              ":   0artist_name\n",
              ":   0Valence\n",
              ":   0danceability\n",
              ":   0energy\n",
              ":   0loudness\n",
              ":   0speechiness\n",
              ":   0acousticness\n",
              ":   0liveness\n",
              ":   0tempo\n",
              ":   0track_name\n",
              ":   0album_name\n",
              ":   0album_release_year\n",
              ":   0\n",
              "\n"
            ],
            "text/plain": [
              "                 X        artist_name            Valence       danceability \n",
              "                 0                  0                  0                  0 \n",
              "            energy           loudness        speechiness       acousticness \n",
              "                 0                  0                  0                  0 \n",
              "          liveness              tempo         track_name         album_name \n",
              "                 0                  0                  0                  0 \n",
              "album_release_year \n",
              "                 0 "
            ]
          },
          "metadata": {},
          "output_type": "display_data"
        }
      ],
      "source": [
        "colSums(is.na(ts))\n",
        "colSums(is.na(jl))"
      ]
    },
    {
      "cell_type": "markdown",
      "metadata": {},
      "source": [
        "There is no NA values in the dataframe."
      ]
    },
    {
      "cell_type": "code",
      "execution_count": 26,
      "metadata": {
        "vscode": {
          "languageId": "r"
        }
      },
      "outputs": [
        {
          "data": {
            "image/png": "[encoded data removed]",
            "text/plain": [
              "Plot with title \"Histogram of jl$speechiness\""
            ]
          },
          "metadata": {
            "image/png": {
              "height": 420,
              "width": 420
            }
          },
          "output_type": "display_data"
        }
      ],
      "source": [
        "par(mfrow = c(1, 2))\n",
        "hist(ts$speechiness)\n",
        "hist(jl$speechiness)"
      ]
    },
    {
      "cell_type": "code",
      "execution_count": 29,
      "metadata": {
        "vscode": {
          "languageId": "r"
        }
      },
      "outputs": [
        {
          "data": {
            "text/plain": [
              "       X          artist_name           Valence        danceability   \n",
              " Min.   :   1.0   Length:1199        Min.   :0.0383   Min.   :0.1750  \n",
              " 1st Qu.: 300.5   Class :character   1st Qu.:0.2580   1st Qu.:0.5280  \n",
              " Median : 600.0   Mode  :character   Median :0.4190   Median :0.5960  \n",
              " Mean   : 600.0                      Mean   :0.4232   Mean   :0.5908  \n",
              " 3rd Qu.: 899.5                      3rd Qu.:0.5585   3rd Qu.:0.6600  \n",
              " Max.   :1199.0                      Max.   :0.9660   Max.   :0.8970  \n",
              "     energy          loudness        speechiness       acousticness      \n",
              " Min.   :0.0639   Min.   :-17.932   Min.   :0.02310   Min.   :0.0000247  \n",
              " 1st Qu.:0.4130   1st Qu.: -9.843   1st Qu.:0.02970   1st Qu.:0.0170500  \n",
              " Median :0.5990   Median : -7.138   Median :0.03550   Median :0.1220000  \n",
              " Mean   :0.5710   Mean   : -7.758   Mean   :0.11445   Mean   :0.3175656  \n",
              " 3rd Qu.:0.7330   3rd Qu.: -5.413   3rd Qu.:0.05375   3rd Qu.:0.6840000  \n",
              " Max.   :0.9500   Max.   : -1.953   Max.   :0.95700   Max.   :0.9830000  \n",
              "    liveness           tempo         track_name         album_name       \n",
              " Min.   :0.02910   Min.   : 47.61   Length:1199        Length:1199       \n",
              " 1st Qu.:0.09925   1st Qu.: 95.89   Class :character   Class :character  \n",
              " Median :0.11800   Median :119.04   Mode  :character   Mode  :character  \n",
              " Mean   :0.16276   Mean   :120.92                                        \n",
              " 3rd Qu.:0.17950   3rd Qu.:141.98                                        \n",
              " Max.   :0.93100   Max.   :208.92                                        \n",
              " album_release_year\n",
              " Min.   :2006      \n",
              " 1st Qu.:2010      \n",
              " Median :2014      \n",
              " Mean   :2014      \n",
              " 3rd Qu.:2019      \n",
              " Max.   :2021      "
            ]
          },
          "metadata": {},
          "output_type": "display_data"
        }
      ],
      "source": [
        "summary(ts)"
      ]
    },
    {
      "cell_type": "code",
      "execution_count": 30,
      "metadata": {
        "vscode": {
          "languageId": "r"
        }
      },
      "outputs": [
        {
          "data": {
            "text/plain": [
              "       X        artist_name           Valence        danceability   \n",
              " Min.   :1200   Length:170         Min.   :0.0784   Min.   :0.1830  \n",
              " 1st Qu.:1242   Class :character   1st Qu.:0.3227   1st Qu.:0.4430  \n",
              " Median :1284   Mode  :character   Median :0.5005   Median :0.5400  \n",
              " Mean   :1284                      Mean   :0.4908   Mean   :0.5288  \n",
              " 3rd Qu.:1327                      3rd Qu.:0.6512   3rd Qu.:0.6150  \n",
              " Max.   :1369                      Max.   :0.9560   Max.   :0.7960  \n",
              "     energy          loudness        speechiness       acousticness    \n",
              " Min.   :0.1320   Min.   :-15.663   Min.   :0.02550   Min.   :0.00177  \n",
              " 1st Qu.:0.4445   1st Qu.: -8.526   1st Qu.:0.03757   1st Qu.:0.15550  \n",
              " Median :0.6120   Median : -6.886   Median :0.05745   Median :0.33750  \n",
              " Mean   :0.5893   Mean   : -7.047   Mean   :0.09524   Mean   :0.41511  \n",
              " 3rd Qu.:0.7578   3rd Qu.: -5.454   3rd Qu.:0.10775   3rd Qu.:0.73175  \n",
              " Max.   :0.9700   Max.   : -2.977   Max.   :0.46700   Max.   :0.95300  \n",
              "    liveness          tempo         track_name         album_name       \n",
              " Min.   :0.0627   Min.   : 58.54   Length:170         Length:170        \n",
              " 1st Qu.:0.1052   1st Qu.: 87.30   Class :character   Class :character  \n",
              " Median :0.1410   Median : 98.81   Mode  :character   Mode  :character  \n",
              " Mean   :0.2413   Mean   :109.84                                        \n",
              " 3rd Qu.:0.2868   3rd Qu.:129.38                                        \n",
              " Max.   :0.9910   Max.   :215.86                                        \n",
              " album_release_year\n",
              " Min.   :2003      \n",
              " 1st Qu.:2008      \n",
              " Median :2013      \n",
              " Mean   :2013      \n",
              " 3rd Qu.:2018      \n",
              " Max.   :2020      "
            ]
          },
          "metadata": {},
          "output_type": "display_data"
        }
      ],
      "source": [
        "summary(jl)"
      ]
    },
    {
      "cell_type": "markdown",
      "metadata": {},
      "source": [
        "b. Write the null and alternative hypothesis for this test.\n",
        "\n",
        "$H_0$: The average \"speechiness\" for Taylor Switt and John Legend is same.\\\n",
        "\\\n",
        "$H_A$: The average \"speechiness\" for Taylor Switt is larger than John Legend's \"speechiness."
      ]
    },
    {
      "cell_type": "markdown",
      "metadata": {},
      "source": [
        "c. Perform a t-test and state your results and non-technical conclusion.\n",
        "\n"
      ]
    },
    {
      "cell_type": "code",
      "execution_count": 7,
      "metadata": {
        "vscode": {
          "languageId": "r"
        }
      },
      "outputs": [
        {
          "data": {
            "text/plain": [
              "\n",
              "\tWelch Two Sample t-test\n",
              "\n",
              "data:  ts$speechiness and jl$speechiness\n",
              "t = 1.9578, df = 576.99, p-value = 0.02537\n",
              "alternative hypothesis: true difference in means is greater than 0\n",
              "95 percent confidence interval:\n",
              " 0.003044749         Inf\n",
              "sample estimates:\n",
              " mean of x  mean of y \n",
              "0.11444837 0.09523882 \n"
            ]
          },
          "metadata": {},
          "output_type": "display_data"
        }
      ],
      "source": [
        "t.test(ts$speechiness, jl$speechiness, alt=\"greater\")"
      ]
    },
    {
      "cell_type": "markdown",
      "metadata": {},
      "source": [
        "d. What can you say about the confidence interval? (Interpret)\n",
        "\n"
      ]
    },
    {
      "cell_type": "markdown",
      "metadata": {},
      "source": [
        "Since the confidence interval goes to infinity, we can conclude that the speechiness of taylor swift is bigger."
      ]
    },
    {
      "cell_type": "markdown",
      "metadata": {},
      "source": [
        "e. Perform a bootstrap test for ratio of means of \"speechiness\", Find the 95% bootstrap percentile interval for the ratio of means and write your conclusion. \n",
        "\n"
      ]
    },
    {
      "cell_type": "code",
      "execution_count": 25,
      "metadata": {
        "vscode": {
          "languageId": "r"
        }
      },
      "outputs": [
        {
          "data": {
            "text/html": [
              "<style>\n",
              ".dl-inline {width: auto; margin:0; padding: 0}\n",
              ".dl-inline>dt, .dl-inline>dd {float: none; width: auto; display: inline-block}\n",
              ".dl-inline>dt::after {content: \":\\0020\"; padding-right: .5ex}\n",
              ".dl-inline>dt:not(:first-of-type) {padding-left: .5ex}\n",
              "</style><dl class=dl-inline><dt>2.5%</dt><dd>1.00647041708101</dd><dt>97.5%</dt><dd>1.45213014268467</dd></dl>\n"
            ],
            "text/latex": [
              "\\begin{description*}\n",
              "\\item[2.5\\textbackslash{}\\%] 1.00647041708101\n",
              "\\item[97.5\\textbackslash{}\\%] 1.45213014268467\n",
              "\\end{description*}\n"
            ],
            "text/markdown": [
              "2.5%\n",
              ":   1.0064704170810197.5%\n",
              ":   1.45213014268467\n",
              "\n"
            ],
            "text/plain": [
              "   2.5%   97.5% \n",
              "1.00647 1.45213 "
            ]
          },
          "metadata": {},
          "output_type": "display_data"
        }
      ],
      "source": [
        "set.seed(199823)\n",
        "iter = 10000\n",
        "boot_ts = numeric(length(ts$speechiness))\n",
        "boot_jl = numeric(length(jl$speechiness))\n",
        "for(i in 1:iter){\n",
        "    boot_ts[i] = mean(sample(ts$speechiness,length(ts$speechiness),replace=TRUE))\n",
        "    boot_jl[i] = mean(sample(jl$speechiness,length(jl$speechiness),replace=TRUE))\n",
        "}\n",
        "quantile(boot_ts/boot_jl,c(0.025,0.975))"
      ]
    },
    {
      "cell_type": "markdown",
      "metadata": {},
      "source": [
        "f. What is the bootstrap estimate of the bias for the mean ratio?\n",
        "\n"
      ]
    },
    {
      "cell_type": "code",
      "execution_count": 16,
      "metadata": {
        "vscode": {
          "languageId": "r"
        }
      },
      "outputs": [
        {
          "data": {
            "text/html": [
              "0.00661565798757935"
            ],
            "text/latex": [
              "0.00661565798757935"
            ],
            "text/markdown": [
              "0.00661565798757935"
            ],
            "text/plain": [
              "[1] 0.006615658"
            ]
          },
          "metadata": {},
          "output_type": "display_data"
        }
      ],
      "source": [
        "mean(boot_ts/boot_jl) - mean(ts$speechiness)/mean(jl$speechiness)"
      ]
    },
    {
      "cell_type": "markdown",
      "metadata": {},
      "source": [
        "g. Compare your results from part c) and part e).\n",
        "\n",
        "\n"
      ]
    },
    {
      "cell_type": "markdown",
      "metadata": {},
      "source": [
        "Bootstrap sample has 95% confidence interval between 1.0065 and 1.4392, which implies that we can reject the null hypothesis. This is the same result as t test from c."
      ]
    },
    {
      "cell_type": "markdown",
      "metadata": {},
      "source": [
        "## Problem 2: Hypothesis Testing-part 2 \n",
        "\n",
        "Data Science Question: Does \"Valence\" of the songs depends on the Artist?\n",
        "\n",
        "Valence: A measure from 0.0 to 1.0 describing the musical positiveness conveyed by a track. Tracks with high valence sound more positive (e.g. happy, cheerful, euphoric), while tracks with low valence sound more negative (e.g. sad, depressed, angry).\n",
        "\n"
      ]
    },
    {
      "cell_type": "markdown",
      "metadata": {},
      "source": [
        "a. Create a new variable with the name \" Valence_C\" and add it to the \"Artists\" data set. Fill this variable with values \"more positive\",\"Moderate\",\"more negative\" according to the value of \"Valence\" such that 0.8-1 is \"more positive\", 0.5-0.79 is \"Moderate\" and 0.0-0.49 is \"more negative\".\n",
        "\n"
      ]
    },
    {
      "cell_type": "code",
      "execution_count": 10,
      "metadata": {
        "vscode": {
          "languageId": "r"
        }
      },
      "outputs": [],
      "source": [
        "artists$Valence_C = ifelse(artists$Valence >= 0.8, \"more positive\", ifelse(artists$Valence >= 0.5, \"Moderate\", \"more negative\"))"
      ]
    },
    {
      "cell_type": "markdown",
      "metadata": {},
      "source": [
        "b. Carry out an appropriate test to make an informed decision for the above data science question using this new created variable  \"Valence_C\". Don't forget to Write the null and alternative hypothesis.\n",
        "\n"
      ]
    },
    {
      "cell_type": "markdown",
      "metadata": {
        "vscode": {
          "languageId": "r"
        }
      },
      "source": [
        "$H_0$: The valences of artists are the same. (The valences of artists are not dependent on the artists.)\\\n",
        "\\\n",
        "$H_A$: The valence of artists are not the same. (The valences of artists are dependent on the artists.)"
      ]
    },
    {
      "cell_type": "code",
      "execution_count": 17,
      "metadata": {
        "vscode": {
          "languageId": "r"
        }
      },
      "outputs": [
        {
          "data": {
            "text/plain": [
              "                \n",
              "                 Moderate more negative more positive\n",
              "  Beyonc\\303\\251      225           406            39\n",
              "  John Legend          78            85             7\n",
              "  Taylor Swift        389           757            53"
            ]
          },
          "metadata": {},
          "output_type": "display_data"
        }
      ],
      "source": [
        "table(artists$artist_name, artists$Valence_C)"
      ]
    },
    {
      "cell_type": "code",
      "execution_count": 11,
      "metadata": {
        "vscode": {
          "languageId": "r"
        }
      },
      "outputs": [
        {
          "data": {
            "text/plain": [
              "\n",
              "\tPearson's Chi-squared test\n",
              "\n",
              "data:  table(artists$artist_name, artists$Valence_C)\n",
              "X-squared = 14.163, df = 4, p-value = 0.006794\n"
            ]
          },
          "metadata": {},
          "output_type": "display_data"
        }
      ],
      "source": [
        "chisq.test(table(artists$artist_name, artists$Valence_C))"
      ]
    },
    {
      "cell_type": "markdown",
      "metadata": {},
      "source": [
        "c. What is your conclusion?\n",
        "\n"
      ]
    },
    {
      "cell_type": "markdown",
      "metadata": {},
      "source": [
        "Having a p-value less than 0.05, we reject the null hypoethesis that there is a statistically significant difference between Taylor Swift, John Legend, and Beyonce."
      ]
    },
    {
      "cell_type": "markdown",
      "metadata": {},
      "source": [
        "d. With your experience, what is your opinion about the conclusion you made in part c?"
      ]
    },
    {
      "cell_type": "markdown",
      "metadata": {},
      "source": [
        "Even though, it is statistically signiicant having a p value less than 0.05. There might be other variables that affecting the valence. This undermines the relationship the conclusion I made in part c but it can be reinforced by having more data points."
      ]
    },
    {
      "cell_type": "markdown",
      "metadata": {},
      "source": []
    }
  ],
  "metadata": {
    "kernelspec": {
      "display_name": "R",
      "language": "R",
      "name": "ir"
    },
    "language_info": {
      "codemirror_mode": "r",
      "file_extension": ".r",
      "mimetype": "text/x-r-source",
      "name": "R",
      "pygments_lexer": "r",
      "version": "4.3.1"
    }
  },
  "nbformat": 4,
  "nbformat_minor": 4
}
