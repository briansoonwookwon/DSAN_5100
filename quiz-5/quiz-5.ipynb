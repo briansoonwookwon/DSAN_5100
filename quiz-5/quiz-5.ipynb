{
  "cells": [
    {
      "cell_type": "markdown",
      "metadata": {},
      "source": [
        "---\n",
        "title: \"DSAN-5100: Quiz-5\"\n",
        "author:\n",
        "  - name: Brian Kwon\n",
        "    affiliations:\n",
        "      - name: Georgetown University\n",
        "format:\n",
        "    html:\n",
        "        embed-resources: true\n",
        "---"
      ]
    },
    {
      "cell_type": "markdown",
      "metadata": {},
      "source": [
        "## INSTRUCTIONS:\n",
        "\n",
        "Any potential violation of Georgetown’s policy on academic integrity will be reported. All work on this exam must be your own. You are not allowed to communicate or gain information in any way from your classmates or seek outside human help on the exam. If you are using online resources always cite the sources (and/or include the links).\n",
        "\n",
        "You need to SHOW YOUR WORK in order to get full credits.\n",
        "__________________________________________________________________________\n",
        "\n",
        "\n",
        "## Problem 1\n",
        "\n",
        "Watch this video on Mixtape Medley with Ariana Grande and Kelly Clarkson in Jimmy Fallon's Show. <https://www.youtube.com/watch?v=LF_EF8Rj9gs>\n",
        "\n",
        "Again, I have used the spotify API to get data on these 2 artistis. Read More: <https://developer.spotify.com/discover/> \n",
        "You can find the descriptions of these variables online (for example: <https://rpubs.com/thieem/685192>)\n",
        "\n",
        "### Spotify Audio Features\n",
        "\n",
        "For every track on their platform, Spotify provides data for thirteen Audio Features.The Spotify Web API developer guide<https://developer.spotify.com/discover/>  defines them as follows:\n",
        "\n",
        "`Danceability`: Describes how suitable a track is for dancing based on a combination of musical elements including tempo, rhythm stability, beat strength, and overall regularity. \n",
        "\n",
        "`Valence`: Describes the musical positiveness conveyed by a track. Tracks with high valence sound more positive (e.g. happy, cheerful, euphoric), while tracks with low valence sound more negative (e.g. sad, depressed, angry).\n",
        "\n",
        "`Energy`: Represents a perceptual measure of intensity and activity. Typically, energetic tracks feel fast, loud, and noisy. For example, death metal has high energy, while a Bach prelude scores low on the scale.\n",
        "\n",
        "`Tempo`: The overall estimated tempo of a track in beats per minute (BPM). In musical terminology, tempo is the speed or pace of a given piece, and derives directly from the average beat duration.\n",
        "\n",
        "`Loudness`: The overall loudness of a track in decibels (dB). Loudness values are averaged across the entire track and are useful for comparing relative loudness of tracks.\n",
        "\n",
        "`Speechiness`: This detects the presence of spoken words in a track. The more exclusively instrum-like the recording (e.g. talk show, audio book, poetry), the closer to 1.0 the attribute value.\n",
        "\n",
        "`Instrumentalness`: Predicts whether a track contains no vocals. “Ooh” and “aah” sounds are treated as instrumental in this context. Rap or spoken word tracks are clearly “vocal”.\n",
        "\n",
        "`Liveness`: Detects the presence of an audience in the recording. Higher liveness values represent an increased probability that the track was performed live.\n",
        "\n",
        "`Acousticness`: A confidence measure from 0.0 to 1.0 of whether the track is acoustic.\n",
        "\n",
        "`Key`: The estimated overall key of the track. Integers map to pitches using standard Pitch Class notation . E.g. 0 = C, 1 = C♯/D♭, 2 = D, and so on.\n",
        "\n",
        "`Mode`: Indicates the modality (major or minor) of a track, the type of scale from which its melodic content is derived. Major is represented by 1 and minor is 0.\n",
        "\n",
        "`Duration`: The duration of the track in milliseconds.\n",
        "\n",
        "`Time Signature`: An estimated overall time signature of a track. The time signature (meter) is a notational convention to specify how many beats are in each bar (or measure).\n",
        "\n",
        "\n",
        "### You can find the 2 data sets: \"Kelly_Clarkson.csv\", \"Arianna_grande.csv\" inside the folder.\n",
        "\n"
      ]
    },
    {
      "cell_type": "code",
      "execution_count": 2,
      "metadata": {
        "vscode": {
          "languageId": "r"
        }
      },
      "outputs": [
        {
          "data": {
            "text/html": [
              "<table class=\"dataframe\">\n",
              "<caption>A data.frame: 6 × 31</caption>\n",
              "<thead>\n",
              "\t<tr><th></th><th scope=col>X</th><th scope=col>kc.artist_name</th><th scope=col>kc.artist_id</th><th scope=col>kc.album_type</th><th scope=col>kc.album_release_date</th><th scope=col>kc.album_release_year</th><th scope=col>kc.album_release_date_precision</th><th scope=col>kc.danceability</th><th scope=col>kc.energy</th><th scope=col>kc.energy.1</th><th scope=col>...</th><th scope=col>kc.duration_ms</th><th scope=col>kc.explicit</th><th scope=col>kc.is_local</th><th scope=col>kc.track_name</th><th scope=col>kc.track_number</th><th scope=col>kc.type</th><th scope=col>kc.album_name</th><th scope=col>kc.key_name</th><th scope=col>kc.mode_name</th><th scope=col>kc.key_mode</th></tr>\n",
              "\t<tr><th></th><th scope=col>&lt;int&gt;</th><th scope=col>&lt;chr&gt;</th><th scope=col>&lt;chr&gt;</th><th scope=col>&lt;chr&gt;</th><th scope=col>&lt;chr&gt;</th><th scope=col>&lt;int&gt;</th><th scope=col>&lt;chr&gt;</th><th scope=col>&lt;dbl&gt;</th><th scope=col>&lt;dbl&gt;</th><th scope=col>&lt;dbl&gt;</th><th scope=col>...</th><th scope=col>&lt;int&gt;</th><th scope=col>&lt;lgl&gt;</th><th scope=col>&lt;lgl&gt;</th><th scope=col>&lt;chr&gt;</th><th scope=col>&lt;int&gt;</th><th scope=col>&lt;chr&gt;</th><th scope=col>&lt;chr&gt;</th><th scope=col>&lt;chr&gt;</th><th scope=col>&lt;chr&gt;</th><th scope=col>&lt;chr&gt;</th></tr>\n",
              "</thead>\n",
              "<tbody>\n",
              "\t<tr><th scope=row>1</th><td>1</td><td>Kelly Clarkson</td><td>3BmGtnKgCSGYIUhmivXKWX</td><td>album</td><td>2021-10-15</td><td>2021</td><td>day</td><td>0.353</td><td>0.606</td><td>0.606</td><td>...</td><td>225747</td><td>FALSE</td><td>FALSE</td><td>Merry Christmas Baby                       </td><td>1</td><td>track</td><td>When Christmas Comes Around...</td><td>D </td><td>major</td><td>D major </td></tr>\n",
              "\t<tr><th scope=row>2</th><td>2</td><td>Kelly Clarkson</td><td>3BmGtnKgCSGYIUhmivXKWX</td><td>album</td><td>2021-10-15</td><td>2021</td><td>day</td><td>0.677</td><td>0.788</td><td>0.788</td><td>...</td><td>114699</td><td>FALSE</td><td>FALSE</td><td>It's Beginning To Look A Lot Like Christmas</td><td>2</td><td>track</td><td>When Christmas Comes Around...</td><td>G </td><td>major</td><td>G major </td></tr>\n",
              "\t<tr><th scope=row>3</th><td>3</td><td>Kelly Clarkson</td><td>3BmGtnKgCSGYIUhmivXKWX</td><td>album</td><td>2021-10-15</td><td>2021</td><td>day</td><td>0.580</td><td>0.789</td><td>0.789</td><td>...</td><td>231549</td><td>FALSE</td><td>FALSE</td><td>Christmas Isn't Canceled (Just You)        </td><td>3</td><td>track</td><td>When Christmas Comes Around...</td><td>C#</td><td>minor</td><td>C# minor</td></tr>\n",
              "\t<tr><th scope=row>4</th><td>4</td><td>Kelly Clarkson</td><td>3BmGtnKgCSGYIUhmivXKWX</td><td>album</td><td>2021-10-15</td><td>2021</td><td>day</td><td>0.481</td><td>0.359</td><td>0.359</td><td>...</td><td>250388</td><td>FALSE</td><td>FALSE</td><td>Merry Christmas (To The One I Used To Know)</td><td>4</td><td>track</td><td>When Christmas Comes Around...</td><td>F#</td><td>major</td><td>F# major</td></tr>\n",
              "\t<tr><th scope=row>5</th><td>5</td><td>Kelly Clarkson</td><td>3BmGtnKgCSGYIUhmivXKWX</td><td>album</td><td>2021-10-15</td><td>2021</td><td>day</td><td>0.609</td><td>0.829</td><td>0.829</td><td>...</td><td>112673</td><td>FALSE</td><td>FALSE</td><td>Rockin' Around The Christmas Tree          </td><td>5</td><td>track</td><td>When Christmas Comes Around...</td><td>F#</td><td>major</td><td>F# major</td></tr>\n",
              "\t<tr><th scope=row>6</th><td>6</td><td>Kelly Clarkson</td><td>3BmGtnKgCSGYIUhmivXKWX</td><td>album</td><td>2021-10-15</td><td>2021</td><td>day</td><td>0.638</td><td>0.830</td><td>0.830</td><td>...</td><td>198279</td><td>FALSE</td><td>FALSE</td><td>Glow                                       </td><td>6</td><td>track</td><td>When Christmas Comes Around...</td><td>B </td><td>minor</td><td>B minor </td></tr>\n",
              "</tbody>\n",
              "</table>\n"
            ],
            "text/latex": [
              "A data.frame: 6 × 31\n",
              "\\begin{tabular}{r|lllllllllllllllllllll}\n",
              "  & X & kc.artist\\_name & kc.artist\\_id & kc.album\\_type & kc.album\\_release\\_date & kc.album\\_release\\_year & kc.album\\_release\\_date\\_precision & kc.danceability & kc.energy & kc.energy.1 & ... & kc.duration\\_ms & kc.explicit & kc.is\\_local & kc.track\\_name & kc.track\\_number & kc.type & kc.album\\_name & kc.key\\_name & kc.mode\\_name & kc.key\\_mode\\\\\n",
              "  & <int> & <chr> & <chr> & <chr> & <chr> & <int> & <chr> & <dbl> & <dbl> & <dbl> & ... & <int> & <lgl> & <lgl> & <chr> & <int> & <chr> & <chr> & <chr> & <chr> & <chr>\\\\\n",
              "\\hline\n",
              "\t1 & 1 & Kelly Clarkson & 3BmGtnKgCSGYIUhmivXKWX & album & 2021-10-15 & 2021 & day & 0.353 & 0.606 & 0.606 & ... & 225747 & FALSE & FALSE & Merry Christmas Baby                        & 1 & track & When Christmas Comes Around... & D  & major & D major \\\\\n",
              "\t2 & 2 & Kelly Clarkson & 3BmGtnKgCSGYIUhmivXKWX & album & 2021-10-15 & 2021 & day & 0.677 & 0.788 & 0.788 & ... & 114699 & FALSE & FALSE & It's Beginning To Look A Lot Like Christmas & 2 & track & When Christmas Comes Around... & G  & major & G major \\\\\n",
              "\t3 & 3 & Kelly Clarkson & 3BmGtnKgCSGYIUhmivXKWX & album & 2021-10-15 & 2021 & day & 0.580 & 0.789 & 0.789 & ... & 231549 & FALSE & FALSE & Christmas Isn't Canceled (Just You)         & 3 & track & When Christmas Comes Around... & C\\# & minor & C\\# minor\\\\\n",
              "\t4 & 4 & Kelly Clarkson & 3BmGtnKgCSGYIUhmivXKWX & album & 2021-10-15 & 2021 & day & 0.481 & 0.359 & 0.359 & ... & 250388 & FALSE & FALSE & Merry Christmas (To The One I Used To Know) & 4 & track & When Christmas Comes Around... & F\\# & major & F\\# major\\\\\n",
              "\t5 & 5 & Kelly Clarkson & 3BmGtnKgCSGYIUhmivXKWX & album & 2021-10-15 & 2021 & day & 0.609 & 0.829 & 0.829 & ... & 112673 & FALSE & FALSE & Rockin' Around The Christmas Tree           & 5 & track & When Christmas Comes Around... & F\\# & major & F\\# major\\\\\n",
              "\t6 & 6 & Kelly Clarkson & 3BmGtnKgCSGYIUhmivXKWX & album & 2021-10-15 & 2021 & day & 0.638 & 0.830 & 0.830 & ... & 198279 & FALSE & FALSE & Glow                                        & 6 & track & When Christmas Comes Around... & B  & minor & B minor \\\\\n",
              "\\end{tabular}\n"
            ],
            "text/markdown": [
              "\n",
              "A data.frame: 6 × 31\n",
              "\n",
              "| <!--/--> | X &lt;int&gt; | kc.artist_name &lt;chr&gt; | kc.artist_id &lt;chr&gt; | kc.album_type &lt;chr&gt; | kc.album_release_date &lt;chr&gt; | kc.album_release_year &lt;int&gt; | kc.album_release_date_precision &lt;chr&gt; | kc.danceability &lt;dbl&gt; | kc.energy &lt;dbl&gt; | kc.energy.1 &lt;dbl&gt; | ... ... | kc.duration_ms &lt;int&gt; | kc.explicit &lt;lgl&gt; | kc.is_local &lt;lgl&gt; | kc.track_name &lt;chr&gt; | kc.track_number &lt;int&gt; | kc.type &lt;chr&gt; | kc.album_name &lt;chr&gt; | kc.key_name &lt;chr&gt; | kc.mode_name &lt;chr&gt; | kc.key_mode &lt;chr&gt; |\n",
              "|---|---|---|---|---|---|---|---|---|---|---|---|---|---|---|---|---|---|---|---|---|---|\n",
              "| 1 | 1 | Kelly Clarkson | 3BmGtnKgCSGYIUhmivXKWX | album | 2021-10-15 | 2021 | day | 0.353 | 0.606 | 0.606 | ... | 225747 | FALSE | FALSE | Merry Christmas Baby                        | 1 | track | When Christmas Comes Around... | D  | major | D major  |\n",
              "| 2 | 2 | Kelly Clarkson | 3BmGtnKgCSGYIUhmivXKWX | album | 2021-10-15 | 2021 | day | 0.677 | 0.788 | 0.788 | ... | 114699 | FALSE | FALSE | It's Beginning To Look A Lot Like Christmas | 2 | track | When Christmas Comes Around... | G  | major | G major  |\n",
              "| 3 | 3 | Kelly Clarkson | 3BmGtnKgCSGYIUhmivXKWX | album | 2021-10-15 | 2021 | day | 0.580 | 0.789 | 0.789 | ... | 231549 | FALSE | FALSE | Christmas Isn't Canceled (Just You)         | 3 | track | When Christmas Comes Around... | C# | minor | C# minor |\n",
              "| 4 | 4 | Kelly Clarkson | 3BmGtnKgCSGYIUhmivXKWX | album | 2021-10-15 | 2021 | day | 0.481 | 0.359 | 0.359 | ... | 250388 | FALSE | FALSE | Merry Christmas (To The One I Used To Know) | 4 | track | When Christmas Comes Around... | F# | major | F# major |\n",
              "| 5 | 5 | Kelly Clarkson | 3BmGtnKgCSGYIUhmivXKWX | album | 2021-10-15 | 2021 | day | 0.609 | 0.829 | 0.829 | ... | 112673 | FALSE | FALSE | Rockin' Around The Christmas Tree           | 5 | track | When Christmas Comes Around... | F# | major | F# major |\n",
              "| 6 | 6 | Kelly Clarkson | 3BmGtnKgCSGYIUhmivXKWX | album | 2021-10-15 | 2021 | day | 0.638 | 0.830 | 0.830 | ... | 198279 | FALSE | FALSE | Glow                                        | 6 | track | When Christmas Comes Around... | B  | minor | B minor  |\n",
              "\n"
            ],
            "text/plain": [
              "  X kc.artist_name kc.artist_id           kc.album_type kc.album_release_date\n",
              "1 1 Kelly Clarkson 3BmGtnKgCSGYIUhmivXKWX album         2021-10-15           \n",
              "2 2 Kelly Clarkson 3BmGtnKgCSGYIUhmivXKWX album         2021-10-15           \n",
              "3 3 Kelly Clarkson 3BmGtnKgCSGYIUhmivXKWX album         2021-10-15           \n",
              "4 4 Kelly Clarkson 3BmGtnKgCSGYIUhmivXKWX album         2021-10-15           \n",
              "5 5 Kelly Clarkson 3BmGtnKgCSGYIUhmivXKWX album         2021-10-15           \n",
              "6 6 Kelly Clarkson 3BmGtnKgCSGYIUhmivXKWX album         2021-10-15           \n",
              "  kc.album_release_year kc.album_release_date_precision kc.danceability\n",
              "1 2021                  day                             0.353          \n",
              "2 2021                  day                             0.677          \n",
              "3 2021                  day                             0.580          \n",
              "4 2021                  day                             0.481          \n",
              "5 2021                  day                             0.609          \n",
              "6 2021                  day                             0.638          \n",
              "  kc.energy kc.energy.1 ... kc.duration_ms kc.explicit kc.is_local\n",
              "1 0.606     0.606       ... 225747         FALSE       FALSE      \n",
              "2 0.788     0.788       ... 114699         FALSE       FALSE      \n",
              "3 0.789     0.789       ... 231549         FALSE       FALSE      \n",
              "4 0.359     0.359       ... 250388         FALSE       FALSE      \n",
              "5 0.829     0.829       ... 112673         FALSE       FALSE      \n",
              "6 0.830     0.830       ... 198279         FALSE       FALSE      \n",
              "  kc.track_name                               kc.track_number kc.type\n",
              "1 Merry Christmas Baby                        1               track  \n",
              "2 It's Beginning To Look A Lot Like Christmas 2               track  \n",
              "3 Christmas Isn't Canceled (Just You)         3               track  \n",
              "4 Merry Christmas (To The One I Used To Know) 4               track  \n",
              "5 Rockin' Around The Christmas Tree           5               track  \n",
              "6 Glow                                        6               track  \n",
              "  kc.album_name                  kc.key_name kc.mode_name kc.key_mode\n",
              "1 When Christmas Comes Around... D           major        D major    \n",
              "2 When Christmas Comes Around... G           major        G major    \n",
              "3 When Christmas Comes Around... C#          minor        C# minor   \n",
              "4 When Christmas Comes Around... F#          major        F# major   \n",
              "5 When Christmas Comes Around... F#          major        F# major   \n",
              "6 When Christmas Comes Around... B           minor        B minor    "
            ]
          },
          "metadata": {},
          "output_type": "display_data"
        },
        {
          "data": {
            "text/html": [
              "<table class=\"dataframe\">\n",
              "<caption>A data.frame: 6 × 31</caption>\n",
              "<thead>\n",
              "\t<tr><th></th><th scope=col>X</th><th scope=col>ag.artist_name</th><th scope=col>ag.artist_id</th><th scope=col>ag.album_type</th><th scope=col>ag.album_release_date</th><th scope=col>ag.album_release_year</th><th scope=col>ag.album_release_date_precision</th><th scope=col>ag.danceability</th><th scope=col>ag.energy</th><th scope=col>ag.energy.1</th><th scope=col>...</th><th scope=col>ag.duration_ms</th><th scope=col>ag.explicit</th><th scope=col>ag.is_local</th><th scope=col>ag.track_name</th><th scope=col>ag.track_number</th><th scope=col>ag.type</th><th scope=col>ag.album_name</th><th scope=col>ag.key_name</th><th scope=col>ag.mode_name</th><th scope=col>ag.key_mode</th></tr>\n",
              "\t<tr><th></th><th scope=col>&lt;int&gt;</th><th scope=col>&lt;chr&gt;</th><th scope=col>&lt;chr&gt;</th><th scope=col>&lt;chr&gt;</th><th scope=col>&lt;chr&gt;</th><th scope=col>&lt;int&gt;</th><th scope=col>&lt;chr&gt;</th><th scope=col>&lt;dbl&gt;</th><th scope=col>&lt;dbl&gt;</th><th scope=col>&lt;dbl&gt;</th><th scope=col>...</th><th scope=col>&lt;int&gt;</th><th scope=col>&lt;lgl&gt;</th><th scope=col>&lt;lgl&gt;</th><th scope=col>&lt;chr&gt;</th><th scope=col>&lt;int&gt;</th><th scope=col>&lt;chr&gt;</th><th scope=col>&lt;chr&gt;</th><th scope=col>&lt;chr&gt;</th><th scope=col>&lt;chr&gt;</th><th scope=col>&lt;chr&gt;</th></tr>\n",
              "</thead>\n",
              "<tbody>\n",
              "\t<tr><th scope=row>1</th><td>1</td><td>Ariana Grande</td><td>66CXWjxzNUsdJxJ2JdwvnR</td><td>album</td><td>2021-02-19</td><td>2021</td><td>day</td><td>0.499</td><td>0.462</td><td>0.462</td><td>...</td><td>157710</td><td> TRUE</td><td>FALSE</td><td>shut up                        </td><td>1</td><td>track</td><td>Positions (Deluxe)</td><td>C </td><td>major</td><td>C major </td></tr>\n",
              "\t<tr><th scope=row>2</th><td>2</td><td>Ariana Grande</td><td>66CXWjxzNUsdJxJ2JdwvnR</td><td>album</td><td>2021-02-19</td><td>2021</td><td>day</td><td>0.830</td><td>0.585</td><td>0.585</td><td>...</td><td>173710</td><td> TRUE</td><td>FALSE</td><td>34+35                          </td><td>2</td><td>track</td><td>Positions (Deluxe)</td><td>C </td><td>major</td><td>C major </td></tr>\n",
              "\t<tr><th scope=row>3</th><td>3</td><td>Ariana Grande</td><td>66CXWjxzNUsdJxJ2JdwvnR</td><td>album</td><td>2021-02-19</td><td>2021</td><td>day</td><td>0.789</td><td>0.742</td><td>0.742</td><td>...</td><td>167989</td><td> TRUE</td><td>FALSE</td><td>motive (with Doja Cat)         </td><td>3</td><td>track</td><td>Positions (Deluxe)</td><td>A#</td><td>minor</td><td>A# minor</td></tr>\n",
              "\t<tr><th scope=row>4</th><td>4</td><td>Ariana Grande</td><td>66CXWjxzNUsdJxJ2JdwvnR</td><td>album</td><td>2021-02-19</td><td>2021</td><td>day</td><td>0.719</td><td>0.607</td><td>0.607</td><td>...</td><td>149900</td><td> TRUE</td><td>FALSE</td><td>just like magic                </td><td>4</td><td>track</td><td>Positions (Deluxe)</td><td>G#</td><td>major</td><td>G# major</td></tr>\n",
              "\t<tr><th scope=row>5</th><td>5</td><td>Ariana Grande</td><td>66CXWjxzNUsdJxJ2JdwvnR</td><td>album</td><td>2021-02-19</td><td>2021</td><td>day</td><td>0.411</td><td>0.522</td><td>0.522</td><td>...</td><td>239949</td><td>FALSE</td><td>FALSE</td><td>off the table (with The Weeknd)</td><td>5</td><td>track</td><td>Positions (Deluxe)</td><td>C </td><td>major</td><td>C major </td></tr>\n",
              "\t<tr><th scope=row>6</th><td>6</td><td>Ariana Grande</td><td>66CXWjxzNUsdJxJ2JdwvnR</td><td>album</td><td>2021-02-19</td><td>2021</td><td>day</td><td>0.739</td><td>0.516</td><td>0.516</td><td>...</td><td>183874</td><td> TRUE</td><td>FALSE</td><td>six thirty                     </td><td>6</td><td>track</td><td>Positions (Deluxe)</td><td>C </td><td>major</td><td>C major </td></tr>\n",
              "</tbody>\n",
              "</table>\n"
            ],
            "text/latex": [
              "A data.frame: 6 × 31\n",
              "\\begin{tabular}{r|lllllllllllllllllllll}\n",
              "  & X & ag.artist\\_name & ag.artist\\_id & ag.album\\_type & ag.album\\_release\\_date & ag.album\\_release\\_year & ag.album\\_release\\_date\\_precision & ag.danceability & ag.energy & ag.energy.1 & ... & ag.duration\\_ms & ag.explicit & ag.is\\_local & ag.track\\_name & ag.track\\_number & ag.type & ag.album\\_name & ag.key\\_name & ag.mode\\_name & ag.key\\_mode\\\\\n",
              "  & <int> & <chr> & <chr> & <chr> & <chr> & <int> & <chr> & <dbl> & <dbl> & <dbl> & ... & <int> & <lgl> & <lgl> & <chr> & <int> & <chr> & <chr> & <chr> & <chr> & <chr>\\\\\n",
              "\\hline\n",
              "\t1 & 1 & Ariana Grande & 66CXWjxzNUsdJxJ2JdwvnR & album & 2021-02-19 & 2021 & day & 0.499 & 0.462 & 0.462 & ... & 157710 &  TRUE & FALSE & shut up                         & 1 & track & Positions (Deluxe) & C  & major & C major \\\\\n",
              "\t2 & 2 & Ariana Grande & 66CXWjxzNUsdJxJ2JdwvnR & album & 2021-02-19 & 2021 & day & 0.830 & 0.585 & 0.585 & ... & 173710 &  TRUE & FALSE & 34+35                           & 2 & track & Positions (Deluxe) & C  & major & C major \\\\\n",
              "\t3 & 3 & Ariana Grande & 66CXWjxzNUsdJxJ2JdwvnR & album & 2021-02-19 & 2021 & day & 0.789 & 0.742 & 0.742 & ... & 167989 &  TRUE & FALSE & motive (with Doja Cat)          & 3 & track & Positions (Deluxe) & A\\# & minor & A\\# minor\\\\\n",
              "\t4 & 4 & Ariana Grande & 66CXWjxzNUsdJxJ2JdwvnR & album & 2021-02-19 & 2021 & day & 0.719 & 0.607 & 0.607 & ... & 149900 &  TRUE & FALSE & just like magic                 & 4 & track & Positions (Deluxe) & G\\# & major & G\\# major\\\\\n",
              "\t5 & 5 & Ariana Grande & 66CXWjxzNUsdJxJ2JdwvnR & album & 2021-02-19 & 2021 & day & 0.411 & 0.522 & 0.522 & ... & 239949 & FALSE & FALSE & off the table (with The Weeknd) & 5 & track & Positions (Deluxe) & C  & major & C major \\\\\n",
              "\t6 & 6 & Ariana Grande & 66CXWjxzNUsdJxJ2JdwvnR & album & 2021-02-19 & 2021 & day & 0.739 & 0.516 & 0.516 & ... & 183874 &  TRUE & FALSE & six thirty                      & 6 & track & Positions (Deluxe) & C  & major & C major \\\\\n",
              "\\end{tabular}\n"
            ],
            "text/markdown": [
              "\n",
              "A data.frame: 6 × 31\n",
              "\n",
              "| <!--/--> | X &lt;int&gt; | ag.artist_name &lt;chr&gt; | ag.artist_id &lt;chr&gt; | ag.album_type &lt;chr&gt; | ag.album_release_date &lt;chr&gt; | ag.album_release_year &lt;int&gt; | ag.album_release_date_precision &lt;chr&gt; | ag.danceability &lt;dbl&gt; | ag.energy &lt;dbl&gt; | ag.energy.1 &lt;dbl&gt; | ... ... | ag.duration_ms &lt;int&gt; | ag.explicit &lt;lgl&gt; | ag.is_local &lt;lgl&gt; | ag.track_name &lt;chr&gt; | ag.track_number &lt;int&gt; | ag.type &lt;chr&gt; | ag.album_name &lt;chr&gt; | ag.key_name &lt;chr&gt; | ag.mode_name &lt;chr&gt; | ag.key_mode &lt;chr&gt; |\n",
              "|---|---|---|---|---|---|---|---|---|---|---|---|---|---|---|---|---|---|---|---|---|---|\n",
              "| 1 | 1 | Ariana Grande | 66CXWjxzNUsdJxJ2JdwvnR | album | 2021-02-19 | 2021 | day | 0.499 | 0.462 | 0.462 | ... | 157710 |  TRUE | FALSE | shut up                         | 1 | track | Positions (Deluxe) | C  | major | C major  |\n",
              "| 2 | 2 | Ariana Grande | 66CXWjxzNUsdJxJ2JdwvnR | album | 2021-02-19 | 2021 | day | 0.830 | 0.585 | 0.585 | ... | 173710 |  TRUE | FALSE | 34+35                           | 2 | track | Positions (Deluxe) | C  | major | C major  |\n",
              "| 3 | 3 | Ariana Grande | 66CXWjxzNUsdJxJ2JdwvnR | album | 2021-02-19 | 2021 | day | 0.789 | 0.742 | 0.742 | ... | 167989 |  TRUE | FALSE | motive (with Doja Cat)          | 3 | track | Positions (Deluxe) | A# | minor | A# minor |\n",
              "| 4 | 4 | Ariana Grande | 66CXWjxzNUsdJxJ2JdwvnR | album | 2021-02-19 | 2021 | day | 0.719 | 0.607 | 0.607 | ... | 149900 |  TRUE | FALSE | just like magic                 | 4 | track | Positions (Deluxe) | G# | major | G# major |\n",
              "| 5 | 5 | Ariana Grande | 66CXWjxzNUsdJxJ2JdwvnR | album | 2021-02-19 | 2021 | day | 0.411 | 0.522 | 0.522 | ... | 239949 | FALSE | FALSE | off the table (with The Weeknd) | 5 | track | Positions (Deluxe) | C  | major | C major  |\n",
              "| 6 | 6 | Ariana Grande | 66CXWjxzNUsdJxJ2JdwvnR | album | 2021-02-19 | 2021 | day | 0.739 | 0.516 | 0.516 | ... | 183874 |  TRUE | FALSE | six thirty                      | 6 | track | Positions (Deluxe) | C  | major | C major  |\n",
              "\n"
            ],
            "text/plain": [
              "  X ag.artist_name ag.artist_id           ag.album_type ag.album_release_date\n",
              "1 1 Ariana Grande  66CXWjxzNUsdJxJ2JdwvnR album         2021-02-19           \n",
              "2 2 Ariana Grande  66CXWjxzNUsdJxJ2JdwvnR album         2021-02-19           \n",
              "3 3 Ariana Grande  66CXWjxzNUsdJxJ2JdwvnR album         2021-02-19           \n",
              "4 4 Ariana Grande  66CXWjxzNUsdJxJ2JdwvnR album         2021-02-19           \n",
              "5 5 Ariana Grande  66CXWjxzNUsdJxJ2JdwvnR album         2021-02-19           \n",
              "6 6 Ariana Grande  66CXWjxzNUsdJxJ2JdwvnR album         2021-02-19           \n",
              "  ag.album_release_year ag.album_release_date_precision ag.danceability\n",
              "1 2021                  day                             0.499          \n",
              "2 2021                  day                             0.830          \n",
              "3 2021                  day                             0.789          \n",
              "4 2021                  day                             0.719          \n",
              "5 2021                  day                             0.411          \n",
              "6 2021                  day                             0.739          \n",
              "  ag.energy ag.energy.1 ... ag.duration_ms ag.explicit ag.is_local\n",
              "1 0.462     0.462       ... 157710          TRUE       FALSE      \n",
              "2 0.585     0.585       ... 173710          TRUE       FALSE      \n",
              "3 0.742     0.742       ... 167989          TRUE       FALSE      \n",
              "4 0.607     0.607       ... 149900          TRUE       FALSE      \n",
              "5 0.522     0.522       ... 239949         FALSE       FALSE      \n",
              "6 0.516     0.516       ... 183874          TRUE       FALSE      \n",
              "  ag.track_name                   ag.track_number ag.type ag.album_name     \n",
              "1 shut up                         1               track   Positions (Deluxe)\n",
              "2 34+35                           2               track   Positions (Deluxe)\n",
              "3 motive (with Doja Cat)          3               track   Positions (Deluxe)\n",
              "4 just like magic                 4               track   Positions (Deluxe)\n",
              "5 off the table (with The Weeknd) 5               track   Positions (Deluxe)\n",
              "6 six thirty                      6               track   Positions (Deluxe)\n",
              "  ag.key_name ag.mode_name ag.key_mode\n",
              "1 C           major        C major    \n",
              "2 C           major        C major    \n",
              "3 A#          minor        A# minor   \n",
              "4 G#          major        G# major   \n",
              "5 C           major        C major    \n",
              "6 C           major        C major    "
            ]
          },
          "metadata": {},
          "output_type": "display_data"
        }
      ],
      "source": [
        "kc = read.csv(\"Kelly_Clarkson.csv\")\n",
        "ag = read.csv(\"Arianna_grande.csv\")\n",
        "head(kc)\n",
        "head(ag)"
      ]
    },
    {
      "cell_type": "markdown",
      "metadata": {},
      "source": [
        "a. After watching that video and your previous knowledge about these 2 artists, Create a Data Science question on something you'd like to compare and investigate about these two artists. Please make the data science question to compare the `averages` OR `proportions` (2 sample) of attributes for these two artists.\n",
        "\n",
        "(Please don't use the variables that you used in Lab 10 or Homework 5. That is, don't use the variables `instrumentalness`,`liveness` or `valence`.)\n",
        "\n"
      ]
    },
    {
      "cell_type": "markdown",
      "metadata": {},
      "source": [
        "Does Kelly Clarkson have more energy in her songs than Arianna Grande on average?"
      ]
    },
    {
      "cell_type": "markdown",
      "metadata": {},
      "source": [
        "b. Do Exploratory Data Analysis (EDA) using Data Visualizations regarding your above Data Science Question.\n",
        "\n"
      ]
    },
    {
      "cell_type": "code",
      "execution_count": 3,
      "metadata": {
        "vscode": {
          "languageId": "r"
        }
      },
      "outputs": [
        {
          "data": {
            "image/png": "[encoded data removed]",
            "text/plain": [
              "Plot with title \"Histogram of ag$ag.energy\""
            ]
          },
          "metadata": {
            "image/png": {
              "height": 420,
              "width": 420
            }
          },
          "output_type": "display_data"
        }
      ],
      "source": [
        "par(mfrow = c(1,2))\n",
        "hist(kc$kc.energy)\n",
        "hist(ag$ag.energy)"
      ]
    },
    {
      "cell_type": "code",
      "execution_count": 4,
      "metadata": {
        "vscode": {
          "languageId": "r"
        }
      },
      "outputs": [
        {
          "data": {
            "text/plain": [
              "   Min. 1st Qu.  Median    Mean 3rd Qu.    Max. \n",
              " 0.0234  0.5743  0.7610  0.6924  0.8600  0.9880 "
            ]
          },
          "metadata": {},
          "output_type": "display_data"
        },
        {
          "data": {
            "text/plain": [
              "   Min. 1st Qu.  Median    Mean 3rd Qu.    Max. \n",
              " 0.1820  0.5160  0.6390  0.6199  0.7360  0.9520 "
            ]
          },
          "metadata": {},
          "output_type": "display_data"
        }
      ],
      "source": [
        "summary(kc$kc.energy)\n",
        "summary(ag$ag.energy)"
      ]
    },
    {
      "cell_type": "markdown",
      "metadata": {},
      "source": [
        "`Perform a Hypothesis test to answer the above data science question.`\n",
        "\n"
      ]
    },
    {
      "cell_type": "markdown",
      "metadata": {},
      "source": [
        "c. Write your Null and Alternative Hypothesis. \n",
        "\n"
      ]
    },
    {
      "cell_type": "markdown",
      "metadata": {},
      "source": [
        "$H_0$: Kelly Clarkson and Arianna Grande has same average energy on their songs.\\\n",
        "\\\n",
        "$H_A$: Kelly Clarkson has more energy on her songs than Arianna Grande."
      ]
    },
    {
      "cell_type": "markdown",
      "metadata": {},
      "source": [
        "d. Perform a t-test if your data science question is about population _averages_. If your question is about comparing _proportions_, then use a Z-test. Write your conclusion at the 5\\% significance level.\n",
        "\n"
      ]
    },
    {
      "cell_type": "code",
      "execution_count": 5,
      "metadata": {
        "vscode": {
          "languageId": "r"
        }
      },
      "outputs": [
        {
          "data": {
            "text/plain": [
              "\n",
              "\tWelch Two Sample t-test\n",
              "\n",
              "data:  kc$kc.energy and ag$ag.energy\n",
              "t = 5.3781, df = 755.07, p-value = 5.023e-08\n",
              "alternative hypothesis: true difference in means is greater than 0\n",
              "95 percent confidence interval:\n",
              " 0.05024921        Inf\n",
              "sample estimates:\n",
              "mean of x mean of y \n",
              "0.6923548 0.6199268 \n"
            ]
          },
          "metadata": {},
          "output_type": "display_data"
        }
      ],
      "source": [
        "t.test(kc$kc.energy, ag$ag.energy, alt=\"greater\")"
      ]
    },
    {
      "cell_type": "markdown",
      "metadata": {},
      "source": [
        "Having p avlue less than 0.05, I can reject the null hypothesis that Kelly Clarkson has more energy in her songs on average than Arianna Grande."
      ]
    },
    {
      "cell_type": "markdown",
      "metadata": {},
      "source": [
        "e. Do a bootstrap test (here, you will be using bootstrap sampling and 95% bootstrap percentile interval) to answer the same question and write your conclusion at the 5\\% significance level.\n",
        "\n"
      ]
    },
    {
      "cell_type": "code",
      "execution_count": 6,
      "metadata": {
        "vscode": {
          "languageId": "r"
        }
      },
      "outputs": [
        {
          "data": {
            "text/html": [
              "<style>\n",
              ".dl-inline {width: auto; margin:0; padding: 0}\n",
              ".dl-inline>dt, .dl-inline>dd {float: none; width: auto; display: inline-block}\n",
              ".dl-inline>dt::after {content: \":\\0020\"; padding-right: .5ex}\n",
              ".dl-inline>dt:not(:first-of-type) {padding-left: .5ex}\n",
              "</style><dl class=dl-inline><dt>2.5%</dt><dd>1.07406503226543</dd><dt>97.5%</dt><dd>1.16112034727805</dd></dl>\n"
            ],
            "text/latex": [
              "\\begin{description*}\n",
              "\\item[2.5\\textbackslash{}\\%] 1.07406503226543\n",
              "\\item[97.5\\textbackslash{}\\%] 1.16112034727805\n",
              "\\end{description*}\n"
            ],
            "text/markdown": [
              "2.5%\n",
              ":   1.0740650322654397.5%\n",
              ":   1.16112034727805\n",
              "\n"
            ],
            "text/plain": [
              "    2.5%    97.5% \n",
              "1.074065 1.161120 "
            ]
          },
          "metadata": {},
          "output_type": "display_data"
        }
      ],
      "source": [
        "iter = 10000\n",
        "boot_kc = numeric(length(kc$kc.energy))\n",
        "boot_ag = numeric(length(ag$ag.energy))\n",
        "for(i in 1:iter){\n",
        "    boot_kc[i] = mean(sample(kc$kc.energy,length(kc$kc.energy),replace=TRUE))\n",
        "    boot_ag[i] = mean(sample(ag$ag.energy,length(ag$ag.energy),replace=TRUE))\n",
        "}\n",
        "quantile(boot_kc/boot_ag,c(0.025,0.975))"
      ]
    },
    {
      "cell_type": "markdown",
      "metadata": {},
      "source": [
        "The ratio of the average of energy is bigger than 1 in 95% confidence interval. That is, I can conclude that Kelly Clarkson has more energy in her songs on average than Ariana Grande."
      ]
    },
    {
      "cell_type": "markdown",
      "metadata": {},
      "source": [
        "f. Compare your results from parts d and e.\n",
        "  \n"
      ]
    },
    {
      "cell_type": "markdown",
      "metadata": {},
      "source": [
        "Both t test and bootstrap test have same result."
      ]
    },
    {
      "cell_type": "markdown",
      "metadata": {},
      "source": [
        "g. Write two broader topics that could be analysed using these millions of data provided by Spotify. (Can get some idea from here : <https://research.atspotify.com/datasets/>)\n",
        "\n",
        "\n",
        "\n"
      ]
    },
    {
      "cell_type": "markdown",
      "metadata": {},
      "source": [
        "1. Is there any common features leading to high streaming among the artists?\n",
        "2. A song recommendation using average features from the songs that the user listens to"
      ]
    },
    {
      "cell_type": "markdown",
      "metadata": {},
      "source": [
        "## Problem 2 : Federal Bureau of Investigation (FBI), Crime Data Explorer\n",
        "\n",
        "The Crime Data Explorer (CDE) <https://cde.ucr.cjis.gov/LATEST/webapp/#/pages/home> provides select data sets for download. Incident-based data by state, summary data estimates, and data about other specific topics may be downloaded in CSV files from the selections in this site. Data are also available via the Crime Data API, a read-only web service that returns JSON or CSV data, and provides experienced users access to large amounts of UCR data to use and share.\n",
        "\n",
        "(There are many data sets that you can download from this site if you'd like to use them for your final projects)\n",
        "\n",
        "I have selected a data set from Hate Crime Statistics Annual Reports, that has information on crime (different offense types) and offender's race and ethnicity.\n",
        "\n",
        "You are going to do a hypothesis testing to answer the following question:\n",
        "\n"
      ]
    },
    {
      "cell_type": "markdown",
      "metadata": {},
      "source": [
        "##### Question: whether there is a relationship between offense type and known offender's Ethnicity. (Hint: whether they are independent?)\n",
        "\n",
        "I'm giving you the original dataset (CSV: `HateCrime.csv`, XLSX: `HateCrime.xlsx`). You need to extract necessary data from that data set to answer the above question. For `Offense Type`, use the main 3 categories `Crimes against persons` , `Crimes against property` and `Crimes against society`.\n",
        "\n"
      ]
    },
    {
      "cell_type": "code",
      "execution_count": 7,
      "metadata": {
        "vscode": {
          "languageId": "r"
        }
      },
      "outputs": [
        {
          "data": {
            "text/html": [
              "<table class=\"dataframe\">\n",
              "<caption>A data.frame: 3 × 4</caption>\n",
              "<thead>\n",
              "\t<tr><th></th><th scope=col>Hispanic.or.Latino</th><th scope=col>Not.Hispanic.or.Latino</th><th scope=col>Group.of.multiple.ethnicities</th><th scope=col>Unknown.ethnicity</th></tr>\n",
              "\t<tr><th></th><th scope=col>&lt;int&gt;</th><th scope=col>&lt;int&gt;</th><th scope=col>&lt;int&gt;</th><th scope=col>&lt;int&gt;</th></tr>\n",
              "</thead>\n",
              "<tbody>\n",
              "\t<tr><th scope=row>Crimes against persons:</th><td>509</td><td>2150</td><td>52</td><td>2342</td></tr>\n",
              "\t<tr><th scope=row>Crimes against property:</th><td> 94</td><td> 362</td><td>15</td><td> 482</td></tr>\n",
              "\t<tr><th scope=row>Crimes against society3</th><td>  5</td><td> 113</td><td> 2</td><td>  91</td></tr>\n",
              "</tbody>\n",
              "</table>\n"
            ],
            "text/latex": [
              "A data.frame: 3 × 4\n",
              "\\begin{tabular}{r|llll}\n",
              "  & Hispanic.or.Latino & Not.Hispanic.or.Latino & Group.of.multiple.ethnicities & Unknown.ethnicity\\\\\n",
              "  & <int> & <int> & <int> & <int>\\\\\n",
              "\\hline\n",
              "\tCrimes against persons: & 509 & 2150 & 52 & 2342\\\\\n",
              "\tCrimes against property: &  94 &  362 & 15 &  482\\\\\n",
              "\tCrimes against society3 &   5 &  113 &  2 &   91\\\\\n",
              "\\end{tabular}\n"
            ],
            "text/markdown": [
              "\n",
              "A data.frame: 3 × 4\n",
              "\n",
              "| <!--/--> | Hispanic.or.Latino &lt;int&gt; | Not.Hispanic.or.Latino &lt;int&gt; | Group.of.multiple.ethnicities &lt;int&gt; | Unknown.ethnicity &lt;int&gt; |\n",
              "|---|---|---|---|---|\n",
              "| Crimes against persons: | 509 | 2150 | 52 | 2342 |\n",
              "| Crimes against property: |  94 |  362 | 15 |  482 |\n",
              "| Crimes against society3 |   5 |  113 |  2 |   91 |\n",
              "\n"
            ],
            "text/plain": [
              "                         Hispanic.or.Latino Not.Hispanic.or.Latino\n",
              "Crimes against persons:  509                2150                  \n",
              "Crimes against property:  94                 362                  \n",
              "Crimes against society3    5                 113                  \n",
              "                         Group.of.multiple.ethnicities Unknown.ethnicity\n",
              "Crimes against persons:  52                            2342             \n",
              "Crimes against property: 15                             482             \n",
              "Crimes against society3   2                              91             "
            ]
          },
          "metadata": {},
          "output_type": "display_data"
        }
      ],
      "source": [
        "df = read.csv(\"HateCrime.csv\",skip=1)\n",
        "df = df[c(2,9,17),c(1,10,11,12,13)]\n",
        "rownames(df) = df$Offense.type\n",
        "df = df[, -1]\n",
        "df"
      ]
    },
    {
      "cell_type": "markdown",
      "metadata": {},
      "source": [
        "a. In order to answer this question on independence, what type of Hypothesis test will you be using?\n",
        "\n"
      ]
    },
    {
      "cell_type": "markdown",
      "metadata": {},
      "source": [
        "Chi square can be used to test on independence."
      ]
    },
    {
      "cell_type": "markdown",
      "metadata": {},
      "source": [
        "b. Perform EDA relevant to this question. What can you observe from your exploration?\n",
        "\n"
      ]
    },
    {
      "cell_type": "code",
      "execution_count": 8,
      "metadata": {
        "vscode": {
          "languageId": "r"
        }
      },
      "outputs": [
        {
          "data": {
            "image/png": "[encoded data removed]",
            "text/plain": [
              "Plot with title \"Crimes against society\""
            ]
          },
          "metadata": {
            "image/png": {
              "height": 420,
              "width": 420
            }
          },
          "output_type": "display_data"
        }
      ],
      "source": [
        "par(mfrow = c(1,3))\n",
        "barplot(t(df)[,1]/sum(t(df)[,1]),main = \"Crimes against persons\", ylab = \"Percentage\", xlab = \"Ethnicity\")\n",
        "barplot(t(df)[,2]/sum(t(df)[,2]),main = \"Crimes against property\", ylab = \"Percentage\", xlab = \"Ethnicity\")\n",
        "barplot(t(df)[,3]/sum(t(df)[,3]),main = \"Crimes against society\", ylab = \"Percentage\", xlab = \"Ethnicity\")"
      ]
    },
    {
      "cell_type": "markdown",
      "metadata": {},
      "source": [
        "It seems there is a similar trends on crimes against persons and property. However, there are more proportion of crimes against society by non-Hispanic people compared to other two offense types."
      ]
    },
    {
      "cell_type": "markdown",
      "metadata": {},
      "source": [
        "c. What is the Null and Alternative Hypothesis?\n",
        "\n"
      ]
    },
    {
      "cell_type": "markdown",
      "metadata": {},
      "source": [
        "$H_0$: The offense type and offender's ethnicity are independent.\\\n",
        "\\\n",
        "$H_A$: The offense type and offender's ethnicity are not independent."
      ]
    },
    {
      "cell_type": "markdown",
      "metadata": {},
      "source": [
        "d. From your test, what is the conclusion at the 5\\% significance level?\n",
        "\n"
      ]
    },
    {
      "cell_type": "code",
      "execution_count": 11,
      "metadata": {
        "vscode": {
          "languageId": "r"
        }
      },
      "outputs": [
        {
          "name": "stderr",
          "output_type": "stream",
          "text": [
            "Warning message in chisq.test(df):\n",
            "\"Chi-squared approximation may be incorrect\"\n"
          ]
        },
        {
          "data": {
            "text/plain": [
              "\n",
              "\tPearson's Chi-squared test\n",
              "\n",
              "data:  df\n",
              "X-squared = 28.808, df = 6, p-value = 6.614e-05\n"
            ]
          },
          "metadata": {},
          "output_type": "display_data"
        }
      ],
      "source": [
        "chisq.test(df)"
      ]
    },
    {
      "cell_type": "markdown",
      "metadata": {},
      "source": [
        "Having a p-value less than 0.05, we reject the null hypoethesis that there is statistically significant dependence between offense type and the offenders' ethnicity."
      ]
    },
    {
      "cell_type": "markdown",
      "metadata": {},
      "source": [
        "e. As an impartial data scientist, what can you say about what you have observed above from the statistical test?\n",
        "\n"
      ]
    },
    {
      "cell_type": "markdown",
      "metadata": {
        "vscode": {
          "languageId": "r"
        }
      },
      "source": [
        "There is a small degree of freedom that it can't represent the real world well. That is, there may be other variables that affecting the relationship between offense type and ethnicity."
      ]
    },
    {
      "cell_type": "markdown",
      "metadata": {},
      "source": [
        "## Problem 3\n",
        "\n",
        "a. Explain 1 example where Maximum Likelihood Estimation is used for estimating the parameters of statistical models; _models used in ML_. Please use your own words for explanation. \n",
        "\n",
        "You can refer to any articles/papers/online examples. If you are using online examples, don't forget to refer the link here and explain how the MLE procedure is being used and explain the steps of MLE calculation. \n",
        "\n",
        "(You don't have to go into great details, but explain these examples assuming that you are a TA for 511 in the Fall 2024 and you are explaining this to a new student)\n",
        "\n"
      ]
    },
    {
      "cell_type": "markdown",
      "metadata": {},
      "source": [
        "Logistic Regression is a supervised model predicting the probability of binary outcomes. Similar to linear regression, MLE is used to calculate the best possible coefficient of independent variables that maximize the likelihood of dependent binary outcomes."
      ]
    },
    {
      "cell_type": "markdown",
      "metadata": {},
      "source": [
        "b. Write another model/place where Maximum Likelihood Estimation is used for estimating the parameters (again a model used in ML) but you don't have to explain the steps.\n"
      ]
    },
    {
      "cell_type": "markdown",
      "metadata": {},
      "source": [
        "Naive Bayes Classification also use MLE on estimating its parameters."
      ]
    }
  ],
  "metadata": {
    "kernelspec": {
      "display_name": "R",
      "language": "R",
      "name": "ir"
    },
    "language_info": {
      "codemirror_mode": "r",
      "file_extension": ".r",
      "mimetype": "text/x-r-source",
      "name": "R",
      "pygments_lexer": "r",
      "version": "4.3.1"
    }
  },
  "nbformat": 4,
  "nbformat_minor": 4
}
