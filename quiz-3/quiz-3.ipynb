{
  "cells": [
    {
      "cell_type": "markdown",
      "metadata": {},
      "source": [
        "---\n",
        "title: DSAN-5100 Quiz 3\n",
        "author: Brian Kwon\n",
        "format: \n",
        "  html: \n",
        "    embed-resources: true\n",
        "---\n"
      ]
    },
    {
      "cell_type": "markdown",
      "metadata": {},
      "source": [
        "`IMPORTANT:` *Any violation of Georgetown’s policy on academic integrity will be reported. All work on this exam must be your own. You are not allowed to communicate or gain information in any way from your classmates or seek outside human help on the exam. If you are using online resources always cite the sources (and/or include the links)*\n",
        "\n",
        "*You need to SHOW YOUR WORK in order to get full credit.*\n",
        "\n"
      ]
    },
    {
      "cell_type": "markdown",
      "metadata": {},
      "source": [
        "## Problem 1\n",
        "\n",
        "It is common to produce film franchises based on books. For example, Lord of the Rings, Harry Potter series, Twilight Saga, Hunger Games...etc. But sometimes the book fans don’t like some of the movies in the sequel (For example: I’m a huge Harry Potter books fan but I didn’t like the 4th and 5th movies much). Assume that a producer needs to choose a new book series for his movie sequel and ask you to do research on people **who read ALL the books** and liked the movies based on these books. Assuming that you decided to go with the best movie franchises based on books (as listed above), you will be choosing books with $6$, $7$, $8$, $9$ books in the series and people who liked $3$ or $6$ movies in the sequel. Out of $160$ random people you surveyed, you observed the following results. The following table indicates the number of people who liked the books in the series ($X$) and the movies in the sequel ($Y$).\n",
        "\n",
        "\n",
        "\n",
        "*e.g. entry (6,3) indicates => There were 24 people out of 160 people who read ALL 6 books and liked 3 movies.*"
      ]
    },
    {
      "cell_type": "markdown",
      "metadata": {},
      "source": [
        "| ---- | X |----| ---- | ---- | ---- |\n",
        "| -------- | -------- | -------- | -------- | -------- | -------- |\n",
        "| Y | 6 | 7 | 8 | 9 | Total |\n",
        "| 3 | 24 | 16 | 24 | 12 | 76 |\n",
        "| 6 | 28 | 32 | 16 | 8 | 84 |\n",
        "| Total | 52 | 48 | 40 | 20 | 160 |\n"
      ]
    },
    {
      "cell_type": "markdown",
      "metadata": {},
      "source": [
        "### Problem 1a\n",
        "\n",
        "a. Compute/construct the bi-variate probability distribution, $f(X, Y)$, for the above experiment (Hint: Discrete probability distributions can be represented in tables) and show that this is a valid joint probability distribution. (Make sure to show your work)\n",
        "\n"
      ]
    },
    {
      "cell_type": "markdown",
      "metadata": {},
      "source": [
        "\n",
        "| --- | 6 | 7 | 8 | 9 | Total |\n",
        "| -------- | -------- | -------- | -------- | -------- | -------- |\n",
        "| 3 | 24/160 = 0.15 | 16/160 = 0.1 | 24/160 = 0.15 | 12/160 = 0.075 | 76/160 = 0.475 |\n",
        "| 6 | 28/160 = 0.175 | 32/160 = 0.2 | 16/160 = 0.1 | 8/160 = 0.05 | 84/160 = 0.525 |\n",
        "| Total | 52/160 = 0.325 | 48/160 = 0.3 | 40/160 = 0.25 | 20/160 = 0.125 | 1 |"
      ]
    },
    {
      "cell_type": "markdown",
      "metadata": {},
      "source": [
        "It is a valid joint probability distribution because they all add up to 1."
      ]
    },
    {
      "cell_type": "markdown",
      "metadata": {},
      "source": [
        "### Problem 1b\n",
        "\n",
        "b. Find the marginal distribution of $Y$. What does this tell you (based on the context of the problem)?\n",
        "\n"
      ]
    },
    {
      "cell_type": "markdown",
      "metadata": {},
      "source": [
        "$P(Y=3) = 0.15 + 0.1 + 0.15 + 0.075 = 0.475$\\\n",
        "$P(Y=6) = 0.175 + 0.2 + 0.1 + 0.05 = 0.525$"
      ]
    },
    {
      "cell_type": "markdown",
      "metadata": {},
      "source": [
        "The probability the person likes 3 movies in the sequel is 0.475.\\\n",
        "The probability the person likes 6 movies in the sequel is 0.525."
      ]
    },
    {
      "cell_type": "markdown",
      "metadata": {},
      "source": [
        "### Problem 1c\n",
        "\n",
        "c. What is the expectation of $Y$, $E[Y]$?\n",
        "\n"
      ]
    },
    {
      "cell_type": "markdown",
      "metadata": {},
      "source": [
        "$E[Y] = 3 \\times 0.475 + 6 \\times 0.525 = 4.575$"
      ]
    },
    {
      "cell_type": "markdown",
      "metadata": {},
      "source": [
        "### Problem 1d\n",
        "\n",
        "d. Find the conditional distribution of $X$ given $Y$, $f(X | Y)$. What does this conditional distribution tell you?"
      ]
    },
    {
      "cell_type": "markdown",
      "metadata": {},
      "source": [
        "| --- | X = 6 | X = 7 | X = 8 | X = 9 | Total |\n",
        "| -------- | -------- | -------- | -------- | -------- | -------- |\n",
        "| Y = 3 | 24/76 | 16/76 | 24/76 | 12/76 | 76/76 |"
      ]
    },
    {
      "cell_type": "markdown",
      "metadata": {},
      "source": [
        "$P(X=6|Y=3)=\\frac{24}{76}$\\\n",
        "$P(X=7|Y=3)=\\frac{16}{76}$\\\n",
        "$P(X=8|Y=3)=\\frac{24}{76}$\\\n",
        "$P(X=9|Y=3)=\\frac{12}{76}$"
      ]
    },
    {
      "cell_type": "markdown",
      "metadata": {},
      "source": [
        "The probability that there are 6 books in the series given the person lives 3 movies in the sequel is $\\frac{24}{76}$\\\n",
        "The probability that there are 7 books in the series given the person lives 3 movies in the sequel is $\\frac{16}{76}$\\\n",
        "The probability that there are 8 books in the series given the person lives 3 movies in the sequel is $\\frac{24}{76}$\\\n",
        "The probability that there are 9 books in the series given the person lives 3 movies in the sequel is $\\frac{12}{76}$"
      ]
    },
    {
      "cell_type": "markdown",
      "metadata": {},
      "source": [
        "\n",
        "\n",
        "| --- | X = 6 | X = 7 | X = 8 | X = 9 | Total |\n",
        "| -------- | -------- | -------- | -------- | -------- | -------- |\n",
        "| Y = 6 | 28/84 | 32/84 | 16/84 | 8/84 | 84/84 |"
      ]
    },
    {
      "cell_type": "markdown",
      "metadata": {},
      "source": [
        "$P(X=6|Y=6)=\\frac{28}{84}$\\\n",
        "$P(X=7|Y=6)=\\frac{32}{84}$\\\n",
        "$P(X=8|Y=6)=\\frac{16}{84}$\\\n",
        "$P(X=9|Y=6)=\\frac{8}{84}$"
      ]
    },
    {
      "cell_type": "markdown",
      "metadata": {},
      "source": [
        "The probability that there are 6 books in the series given the person lives 6 movies in the sequel is $\\frac{28}{84}$\\\n",
        "The probability that there are 7 books in the series given the person lives 6 movies in the sequel is $\\frac{32}{84}$\\\n",
        "The probability that there are 8 books in the series given the person lives 6 movies in the sequel is $\\frac{16}{84}$\\\n",
        "The probability that there are 9 books in the series given the person lives 6 movies in the sequel is $\\frac{8}{84}$"
      ]
    },
    {
      "cell_type": "markdown",
      "metadata": {},
      "source": [
        "## Problem 2\n",
        "\n",
        "Consider the following joint cumulative distribution (CDF) for variables $X_1$, $X_2$, $X_3$, $X_4$.\n",
        "\n",
        "$$\n",
        "\\begin{equation}\n",
        "F(x_1, x_2, x_3, x_4) =\n",
        "\\begin{cases}\n",
        "x_1^3 x_2^3 x_3^3 x_4^3 & \\text{$0 < x_i < 1; i = 1, 2, 3, 4$}\\\\\n",
        "0 & \\text{otherwise}\\\\\n",
        "\\end{cases}       \n",
        "\\end{equation}\n",
        "$$\n",
        "\n"
      ]
    },
    {
      "cell_type": "markdown",
      "metadata": {},
      "source": [
        "### Problem 2a\n",
        "\n",
        "a. Find the joint probability density function (pdf).\n",
        "\n"
      ]
    },
    {
      "cell_type": "markdown",
      "metadata": {},
      "source": [
        "$f(x_1,x_2,x_3,x_4) = \\frac{d}{dx_1}\\frac{d}{dx_2}\\frac{d}{dx_3}\\frac{d}{dx_4}x_1^3 x_2^3 x_3^3 x_4^3 = \\frac{d}{dx_1}\\frac{d}{dx_2}\\frac{d}{dx_3}3x_1^3 x_2^3 x_3^3 x_4^2 = \\frac{d}{dx_1}\\frac{d}{dx_2}9x_1^3 x_2^3 x_3^2 x_4^2 = \\frac{d}{dx_1}27x_1^3 x_2^2 x_3^2 x_4^2 = 81x_1^2 x_2^2 x_3^2 x_4^2$"
      ]
    },
    {
      "cell_type": "markdown",
      "metadata": {},
      "source": [
        "### Problem 2b\n",
        "\n",
        "b. Show that this is a valid joint probability distribution.\n",
        "\n"
      ]
    },
    {
      "cell_type": "markdown",
      "metadata": {},
      "source": [
        "$\\int_{0}^{1}\\int_{0}^{1}\\int_{0}^{1}\\int_{0}^{1}81x_1^2 x_2^2 x_3^2 x_4^2dx_1dx_2dx_3dx_4 = \\int_{0}^{1}\\int_{0}^{1}\\int_{0}^{1}27x_2^2 x_3^2 x_4^2dx_2dx_3dx_4 = \\int_{0}^{1}\\int_{0}^{1}9x_3^2 x_4^2dx_3dx_4 = \\int_{0}^{1}3x_4^2dx_4 = 1$"
      ]
    },
    {
      "cell_type": "markdown",
      "metadata": {},
      "source": [
        "### Problem 2c\n",
        "\n",
        "c.  Find the marginal pdf for ($x_2$, $x_4$).\n",
        "\n"
      ]
    },
    {
      "cell_type": "markdown",
      "metadata": {},
      "source": [
        "$\\int_{0}^{1}\\int_{0}^{1}81x_1^2 x_2^2 x_3^2 x_4^2dx_1dx_3 = \\int_{0}^{1}27x_2^2 x_3^2 x_4^2dx_3 = 9x_2^2x_4^2$"
      ]
    },
    {
      "cell_type": "markdown",
      "metadata": {},
      "source": [
        "### Problem 2d\n",
        "\n",
        "d. Find the expectation of ($x_2 * x_4$).\n",
        "\n"
      ]
    },
    {
      "cell_type": "markdown",
      "metadata": {},
      "source": [
        "$E[x_2] = \\int_{0}^{1}(x_2\\times 3x_2^2) dx_2= \\int_{0}^{1}3x_2^3 dx_2 = [\\frac{3}{4}x_2^4]_{0}^{1} = \\frac{3}{4}$\\\n",
        "$E[x_4] = \\int_{0}^{1}(x_4\\times 3x_4^2) dx_4= \\int_{0}^{1}3x_4^3 dx_4= [\\frac{3}{4}x_4^4]_{0}^{1}  = \\frac{3}{4}$\\\n",
        "$E[x_2 * x_4] = E[x_2] * E[x_4] = \\frac{3}{4} * \\frac{3}{4} = \\frac{9}{16}$"
      ]
    },
    {
      "cell_type": "markdown",
      "metadata": {},
      "source": [
        "### Problem 2e\n",
        "\n",
        "e. Find the conditional probability P($x_1>3/4$, $x_3<1/2$ | $x_2=1/3$, $x_4=2/3$)."
      ]
    },
    {
      "cell_type": "markdown",
      "metadata": {},
      "source": [
        "$P(x_1>3/4, x_3<1/2 \\bigcap x_2=1/3, x_4=2/3) = \\int_{0}^{\\frac{1}{2}}\\int_{\\frac{3}{4}}^{1}81x_1^2x_3^2(\\frac{1}{3})^2(\\frac{2}{3})^2dx_1dx_3$\\\n",
        "$=\\int_{0}^{\\frac{1}{2}}\\int_{\\frac{3}{4}}^{1}4x_1^2x_3^2dx_1dx_3 = \\int_{0}^{\\frac{1}{2}}[\\frac{4}{3}x_1^3x_2^2]_{\\frac{3}{4}}^{1}dx_3 = \\int_{0}^{\\frac{1}{2}}\\frac{37}{48}x_3^2dx_3 = [\\frac{37}{144}x_3^3]_{0}^{\\frac{1}{2}} = \\frac{37}{1152}$\\\n",
        "\\\n",
        "$P(x_2=1/3, x_4=2/3) = 9 \\times (\\frac{1}{3})^2 \\times (\\frac{2}{3})^2 = \\frac{4}{9}$\\\n",
        "\\\n",
        "$P(x_1>3/4, x_3<1/2 | x_2=1/3, x_4=2/3) = \\frac{P(x_1>3/4, x_3<1/2 \\bigcap x_2=1/3, x_4=2/3)}{P(x_2=1/3, x_4=2/3)} = \\frac{37}{1152} \\times \\frac{9}{4} = \\frac{37}{512}$"
      ]
    },
    {
      "cell_type": "code",
      "execution_count": 3,
      "metadata": {
        "vscode": {
          "languageId": "r"
        }
      },
      "outputs": [
        {
          "data": {
            "text/html": [
              "0.072265625"
            ],
            "text/latex": [
              "0.072265625"
            ],
            "text/markdown": [
              "0.072265625"
            ],
            "text/plain": [
              "[1] 0.07226562"
            ]
          },
          "metadata": {},
          "output_type": "display_data"
        }
      ],
      "source": [
        "37/512"
      ]
    }
  ],
  "metadata": {
    "kernelspec": {
      "display_name": "R",
      "language": "R",
      "name": "ir"
    },
    "language_info": {
      "codemirror_mode": "r",
      "file_extension": ".r",
      "mimetype": "text/x-r-source",
      "name": "R",
      "pygments_lexer": "r",
      "version": "4.3.1"
    }
  },
  "nbformat": 4,
  "nbformat_minor": 4
}
