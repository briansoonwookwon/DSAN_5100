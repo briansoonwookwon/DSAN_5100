{
  "cells": [
    {
      "cell_type": "markdown",
      "metadata": {},
      "source": [
        "---\n",
        "title: DSAN-5100 Quiz 4\n",
        "subtitle: 'Markov Chains, Central Limit Theorem, and More'\n",
        "author:\n",
        "  - name: Brian Kwon\n",
        "    affiliations:\n",
        "      - name: Georgetown University\n",
        "format:\n",
        "  html:\n",
        "    page-layout: full\n",
        "    toc: true\n",
        "    embed-resources: true\n",
        "    theme: default\n",
        "    code-copy: true\n",
        "    code-line-numbers: true\n",
        "    number-sections: false\n",
        "    highlight-style: github\n",
        "---"
      ]
    },
    {
      "cell_type": "markdown",
      "metadata": {},
      "source": [
        "## Problem 1\n",
        "\n",
        "Markov chains are used in many real-life applications. One example is that they can be used in board games played with dice. A game of Chutes and Ladders or any other game whose moves are determined entirely by dice is a Markov chain - more specifically, an *absorbing* Markov chain. This is in contrast to card games such as Blackjack, where the cards represent a \"memory\" of the past moves. You can read how Markov chains have been applied in the Chutes and Ladders game here: (<a href=\"https://math.uchicago.edu/~may/REU2014/REUPapers/Hochman.pdf\">Chutes and Ladders - Michael Hochman</a>, pages 2, 6, and 7).\n",
        "\n",
        "Assuming you are working for a company who creates games, create a game to which you can apply a Markov chain process (this could be any game and it doesn’t have to involve rolling a dice, but it can if you want to. It can also be a completely different other game) and where you can find probabilities of the player's moves. Be creative and use your imagination! Define the rules and how a player can win the game.\n",
        "\n",
        "There are two conditions that your game must satisfy:\n",
        "\n",
        "* Condition (i): The game should have at least **5** states and at most **10** states (this means that the minimum number of states that you should consider in the Markov process is 5 and that the maximum is 10).\n",
        "\n",
        "* Condition (ii): Also, it needs to be a **Markov process**. That is, it should be a stochastic process (a process that evolves in time) that has the Markov property(the transition probability from one state to another only depends on the current state). Also, the summation of all outgoing probabilities from each state (the sum of each row of the transition matrix) should be 1.\n",
        "\n",
        "\n",
        "### Problem 1a\n",
        "\n",
        "Describe your game and describe how it is a Markov process. (Hint: Remember the game rules will help you to make sure it is a Markov process)\n",
        "\n",
        "\n",
        "My game is a leveling game where the first player becomes level 6 wins. The player starts with 1 level. To gain a level, a player should get number bigger than their current level from a die or lose a level if don't. For example, a level 2 player should roll 3 or more to level up.\\\n",
        "\\\n",
        "There are two special cases in this game. When level 5 player gets one from a dice roll, that player goes back to level one. Similarly level 1 player stays in level 1 when they roll one. On other levels (2,3,4), players always level up or down based on their dice rolls.\n",
        "\n",
        "### Problem 1b\n",
        "\n",
        "Draw the transition diagram.\n",
        "\n",
        "\n",
        "```{mermaid}\n",
        "  graph LR;\n",
        "      1-->|5/6|2;\n",
        "      1-->|1/6|1;\n",
        "      2-->|2/6|1;\n",
        "      2-->|4/6|3;\n",
        "      3-->|3/6|2;\n",
        "      3-->|3/6|4;\n",
        "      4-->|4/6|3;\n",
        "      4-->|2/6|5;\n",
        "      5-->|4/6|4;\n",
        "      5-->|1/6|1;\n",
        "      5-->|1/6|6;\n",
        "```\n",
        "\n",
        "### Problem 1c\n",
        "\n",
        "Construct the transition probability matrix.\n",
        "\n",
        "\n",
        "$$\n",
        "\\begin{array}{} \n",
        "& \\begin{array}{cccccc} 1 & 2 & 3 & 4 & 5 & 6\\\\ \\end{array} \\\\\n",
        "\\begin{array}{cccccc} 1 \\\\ 2 \\\\ 3 \\\\ 4 \\\\ 5 \\\\ 6 \\end{array} &\n",
        "\\left[\n",
        "\\begin{array}{c c c c c c}\n",
        "1/6 & 5/6 & 0 & 0 & 0 & 0 \\\\\n",
        "2/6 & 0 & 4/6 & 0 & 0 & 0 \\\\\n",
        "0 & 3/6 & 0 & 3/6 & 0 & 0 \\\\\n",
        "0 & 0 & 4/6 & 0 & 2/6 & 0 \\\\\n",
        "1/6 & 0 & 0 & 4/6 & 0 & 1/6 \\\\\n",
        "0 & 0 & 0 & 0 & 0 & 1\n",
        "\\end{array}\n",
        "\\right]\n",
        "\\end{array}\n",
        "$$\n",
        "\n",
        "### Problem 1d\n",
        "\n",
        "What is the probability that if the player is currently in state `i` (you can define state `i`) then they would win in 12 turns? (Define where/what state the player need to be when/if they win)"
      ]
    },
    {
      "cell_type": "code",
      "execution_count": 3,
      "metadata": {
        "vscode": {
          "languageId": "r"
        }
      },
      "outputs": [
        {
          "name": "stdout",
          "output_type": "stream",
          "text": [
            "The winning probability in 12 turns from level 5: 0.0855131"
          ]
        }
      ],
      "source": [
        "init  = c(1, 0, 0, 0, 0, 0)\n",
        "num_turns = 12\n",
        "current = init\n",
        "matrix = matrix(c(1/6, 5/6, 0, 0, 0, 0,\n",
        "                   2/6, 0, 4/6, 0, 0, 0,\n",
        "                   0, 3/6, 0, 3/6, 0, 0,\n",
        "                   0, 0, 4/6, 0, 2/6, 0,\n",
        "                   1/6, 0, 0, 4/6, 0, 1/6,\n",
        "                   0, 0, 0, 0, 0, 1), nrow = 6, byrow = TRUE)\n",
        "for (i in 1:num_turns){\n",
        "  current = current %*% matrix\n",
        "}\n",
        "cat(\"The winning probability in 12 turns from level 5:\",current[6])"
      ]
    },
    {
      "cell_type": "markdown",
      "metadata": {},
      "source": [
        "### Problem 1e\n",
        "\n",
        "Write 3 real-life examples where we use the Markov process (except Google page rank) and write 1-2 sentences explaining each one. It is okay to use Google to find examples, but please provide reference links for each example.\n",
        "\n",
        "\n",
        "1. Weather forecasting\\\n",
        "It is common to use Markov process in weather forecasting that tomorrow's weather depends on today's weather.\n",
        "\n",
        "2. Next word prediction\\\n",
        "In NLP, Markov process is used to predict the possible next word based on a current word. It is common in speech or text recognition.\n",
        "\n",
        "3. Stock Market\\\n",
        "Assuming stock prices follow a stochastic process, the Markov process is used in predicting the future stock prices.\n",
        "\n",
        "Reference: https://en.wikipedia.org/wiki/Examples_of_Markov_chains\n",
        "\n",
        "## Problem 2\n",
        "\n",
        "In your own words, describe what the Central Limit Theorem (CLT) is and what it does. Discuss the significance and applications of the CLT in statistics and explain how it enables researchers to make inferences about populations. Provide examples and insights into the conditions required for the Central Limit Theorem to hold. (200 to 400 words)\n",
        "\n",
        "\n",
        "Central Limit Theorem tells us that the average of the independent and identically distributed sample distribution follows normal distribution when the sample size is large regardless of the population distribution. That is, as we draw more samples, the mean of sample means is very close to population mean (standard deviation of the sample mean equals the population standard deviation divided by the sample size). This allows researchers making assumptions on population mean based on the sample mean when they don’t know true population distribution. Also they can do hypothesis testing or construct confidence intervals. For example, you want to know the average number of M%Ms per bag. Obviously, it is impossible to buy all M%M bags and know the exact distribution of the number. Therefore, you can collect as many samples as possible and assume the mean number of M&Ms will follow the normal distribution as you collect more samples. \n",
        "\n",
        "## Problem 3\n",
        "\n",
        "Explain the concept of Maximum Likelihood Estimation (MLE) in statistics and its importance in parameter estimation. Discuss the underlying principles and assumptions of MLE, and provide a detailed example of how MLE is applied in a specific statistical or scientific context. Additionally, explore the strengths and limitations of MLE and how it compares to other estimation methods in various real-world applications. (200 to 400 words)\n",
        "\n",
        "Maximum Likelihood Estimation is a statistical technique to estimate the parameters given the data. It is finding a parameter that maximizing the likelihood function which is a function of a parameter given data. It is important when you are trying to tell how the parameters of a model represents the observed data. MLE converges to a true population parameter when the sample size gets larger, yet it doesn’t always converge when maximum likelihood is obtained in multiple points. Also it is sensitive to outliers that can leads to biased estimations as we are underpredicting the population variance. Compared with other estimation methods, MLE is robust yet computationally more complex. Bayesian estimation works better in small sample sizes and dealing with outliers. Using the M&M example and assuming the number of M%Ms follow normal distribution, we can estimate the mean. We opened 10 bags and each bag has 6,6,7,8,6,6,7,8,9,7 respectively. Knowing that MLE of mean in normal distribution, we can estimate the mean by taking the sample mean of those 10 bags, which is 7.\n"
      ]
    }
  ],
  "metadata": {
    "kernelspec": {
      "display_name": "R",
      "language": "R",
      "name": "ir"
    },
    "language_info": {
      "codemirror_mode": "r",
      "file_extension": ".r",
      "mimetype": "text/x-r-source",
      "name": "R",
      "pygments_lexer": "r",
      "version": "4.3.1"
    }
  },
  "nbformat": 4,
  "nbformat_minor": 4
}
