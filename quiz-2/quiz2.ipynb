{
 "cells": [
  {
   "cell_type": "code",
   "execution_count": 83,
   "metadata": {
    "vscode": {
     "languageId": "r"
    }
   },
   "outputs": [
    {
     "data": {
      "text/html": [
       "0.631759531622921"
      ],
      "text/latex": [
       "0.631759531622921"
      ],
      "text/markdown": [
       "0.631759531622921"
      ],
      "text/plain": [
       "[1] 0.6317595"
      ]
     },
     "metadata": {},
     "output_type": "display_data"
    }
   ],
   "source": [
    "# 1.1 True\n",
    "\n",
    "1 - pbinom(64,560,0.12)"
   ]
  },
  {
   "cell_type": "code",
   "execution_count": 86,
   "metadata": {
    "vscode": {
     "languageId": "r"
    }
   },
   "outputs": [
    {
     "data": {
      "text/html": [
       "8.20199673896283e-37"
      ],
      "text/latex": [
       "8.20199673896283e-37"
      ],
      "text/markdown": [
       "8.20199673896283e-37"
      ],
      "text/plain": [
       "[1] 8.201997e-37"
      ]
     },
     "metadata": {},
     "output_type": "display_data"
    }
   ],
   "source": [
    "# 1.2 False\n",
    "\n",
    "pbinom(65,560,0.35)"
   ]
  },
  {
   "cell_type": "code",
   "execution_count": 3,
   "metadata": {
    "vscode": {
     "languageId": "r"
    }
   },
   "outputs": [],
   "source": [
    "# 1.3 True "
   ]
  },
  {
   "cell_type": "code",
   "execution_count": 4,
   "metadata": {
    "vscode": {
     "languageId": "r"
    }
   },
   "outputs": [],
   "source": [
    "# 1.4 False"
   ]
  },
  {
   "cell_type": "code",
   "execution_count": 5,
   "metadata": {
    "vscode": {
     "languageId": "r"
    }
   },
   "outputs": [],
   "source": [
    "# 2.1 False?"
   ]
  },
  {
   "cell_type": "code",
   "execution_count": 2,
   "metadata": {
    "vscode": {
     "languageId": "r"
    }
   },
   "outputs": [],
   "source": [
    "# 2.2 False?"
   ]
  },
  {
   "cell_type": "code",
   "execution_count": 9,
   "metadata": {
    "vscode": {
     "languageId": "r"
    }
   },
   "outputs": [
    {
     "data": {
      "text/html": [
       "2.74959976603956e-53"
      ],
      "text/latex": [
       "2.74959976603956e-53"
      ],
      "text/markdown": [
       "2.74959976603956e-53"
      ],
      "text/plain": [
       "[1] 2.7496e-53"
      ]
     },
     "metadata": {},
     "output_type": "display_data"
    }
   ],
   "source": [
    "# 2.3 False? / True\n",
    "pbinom(2,125,0.65)"
   ]
  },
  {
   "cell_type": "code",
   "execution_count": 9,
   "metadata": {
    "vscode": {
     "languageId": "r"
    }
   },
   "outputs": [],
   "source": [
    "# 2.4 False?"
   ]
  },
  {
   "cell_type": "code",
   "execution_count": 11,
   "metadata": {
    "vscode": {
     "languageId": "r"
    }
   },
   "outputs": [],
   "source": [
    "# 3.1 True"
   ]
  },
  {
   "cell_type": "code",
   "execution_count": 12,
   "metadata": {
    "vscode": {
     "languageId": "r"
    }
   },
   "outputs": [],
   "source": [
    "# 3.2 False\n",
    "# Left is uniform"
   ]
  },
  {
   "cell_type": "code",
   "execution_count": 13,
   "metadata": {
    "vscode": {
     "languageId": "r"
    }
   },
   "outputs": [],
   "source": [
    "# 3.3 True"
   ]
  },
  {
   "cell_type": "code",
   "execution_count": 14,
   "metadata": {
    "vscode": {
     "languageId": "r"
    }
   },
   "outputs": [],
   "source": [
    "# 3.4 False"
   ]
  },
  {
   "cell_type": "code",
   "execution_count": 64,
   "metadata": {
    "vscode": {
     "languageId": "r"
    }
   },
   "outputs": [
    {
     "data": {
      "text/html": [
       "0.965002598473516"
      ],
      "text/latex": [
       "0.965002598473516"
      ],
      "text/markdown": [
       "0.965002598473516"
      ],
      "text/plain": [
       "[1] 0.9650026"
      ]
     },
     "metadata": {},
     "output_type": "display_data"
    }
   ],
   "source": [
    "# 4.1 False / True\n",
    "1-pbinom(9,20,268/400)"
   ]
  },
  {
   "cell_type": "code",
   "execution_count": 4,
   "metadata": {
    "vscode": {
     "languageId": "r"
    }
   },
   "outputs": [
    {
     "name": "stdout",
     "output_type": "stream",
     "text": [
      "[1] 8.348455e-11\n"
     ]
    }
   ],
   "source": [
    "n_total <- 400\n",
    "n_red <- 132\n",
    "n_blue <- 268\n",
    "k_red <- 20\n",
    "k_blue <- 20 - k_red\n",
    "\n",
    "# Calculate binomial coefficients\n",
    "C_total <- choose(n_total, 20)\n",
    "C_red <- choose(n_red, k_red)\n",
    "C_blue <- choose(n_blue, k_blue)\n",
    "\n",
    "# Calculate the probability\n",
    "probability <- (C_red * C_blue) / C_total\n",
    "print(probability)"
   ]
  },
  {
   "cell_type": "code",
   "execution_count": 65,
   "metadata": {
    "vscode": {
     "languageId": "r"
    }
   },
   "outputs": [
    {
     "data": {
      "text/html": [
       "0.0865779525040995"
      ],
      "text/latex": [
       "0.0865779525040995"
      ],
      "text/markdown": [
       "0.0865779525040995"
      ],
      "text/plain": [
       "[1] 0.08657795"
      ]
     },
     "metadata": {},
     "output_type": "display_data"
    }
   ],
   "source": [
    "# 4.2 False\n",
    "1-pbinom(9,20,132/400)"
   ]
  },
  {
   "cell_type": "code",
   "execution_count": 13,
   "metadata": {
    "vscode": {
     "languageId": "r"
    }
   },
   "outputs": [
    {
     "data": {
      "text/html": [
       "0.10816305468392"
      ],
      "text/latex": [
       "0.10816305468392"
      ],
      "text/markdown": [
       "0.10816305468392"
      ],
      "text/plain": [
       "[1] 0.1081631"
      ]
     },
     "metadata": {},
     "output_type": "display_data"
    },
    {
     "data": {
      "text/html": [
       "0.10816305468392"
      ],
      "text/latex": [
       "0.10816305468392"
      ],
      "text/markdown": [
       "0.10816305468392"
      ],
      "text/plain": [
       "[1] 0.1081631"
      ]
     },
     "metadata": {},
     "output_type": "display_data"
    }
   ],
   "source": [
    "# 4.3 True\n",
    "dbinom(15,40,132/400)\n",
    "(choose(40,15))*((132/400)**15)*((268/400)**25)"
   ]
  },
  {
   "cell_type": "code",
   "execution_count": 23,
   "metadata": {
    "vscode": {
     "languageId": "r"
    }
   },
   "outputs": [
    {
     "name": "stdout",
     "output_type": "stream",
     "text": [
      "[1] 0.1081631\n"
     ]
    }
   ],
   "source": [
    "# 4.4 False\n",
    "# Calculate the binomial probability\n",
    "n <- 40\n",
    "k <- 15\n",
    "p <- 33/100\n",
    "probability <- choose(n, k) * p^k * (1 - p)^(n - k)\n",
    "print(probability)\n"
   ]
  },
  {
   "cell_type": "code",
   "execution_count": 24,
   "metadata": {
    "vscode": {
     "languageId": "r"
    }
   },
   "outputs": [
    {
     "name": "stdout",
     "output_type": "stream",
     "text": [
      "[1] 0.1121392\n"
     ]
    }
   ],
   "source": [
    "# Calculate the hypergeometric probability\n",
    "n_total <- 400\n",
    "n_red <- 132\n",
    "n_blue <- 268\n",
    "k_red <- 15\n",
    "k_blue <- 40 - k_red\n",
    "\n",
    "# Calculate binomial coefficients\n",
    "C_total <- choose(n_total, 40)\n",
    "C_red <- choose(n_red, k_red)\n",
    "C_blue <- choose(n_blue, k_blue)\n",
    "\n",
    "# Calculate the probability\n",
    "probability <- (C_red * C_blue) / C_total\n",
    "print(probability)\n"
   ]
  },
  {
   "cell_type": "code",
   "execution_count": 19,
   "metadata": {
    "vscode": {
     "languageId": "r"
    }
   },
   "outputs": [],
   "source": [
    "# 5.1 True"
   ]
  },
  {
   "cell_type": "code",
   "execution_count": 69,
   "metadata": {
    "vscode": {
     "languageId": "r"
    }
   },
   "outputs": [
    {
     "data": {
      "text/html": [
       "0.104661745741284"
      ],
      "text/latex": [
       "0.104661745741284"
      ],
      "text/markdown": [
       "0.104661745741284"
      ],
      "text/plain": [
       "[1] 0.1046617"
      ]
     },
     "metadata": {},
     "output_type": "display_data"
    }
   ],
   "source": [
    "# 5.2 False\n",
    "\n",
    "pgeom(10,0.01)"
   ]
  },
  {
   "cell_type": "code",
   "execution_count": 74,
   "metadata": {
    "vscode": {
     "languageId": "r"
    }
   },
   "outputs": [
    {
     "data": {
      "text/html": [
       "0.00978002798692179"
      ],
      "text/latex": [
       "0.00978002798692179"
      ],
      "text/markdown": [
       "0.00978002798692179"
      ],
      "text/plain": [
       "[1] 0.009780028"
      ]
     },
     "metadata": {},
     "output_type": "display_data"
    }
   ],
   "source": [
    "# 5.3 False\n",
    "\n",
    "1-pnbinom(1000,4,0.01)"
   ]
  },
  {
   "cell_type": "code",
   "execution_count": 24,
   "metadata": {
    "vscode": {
     "languageId": "r"
    }
   },
   "outputs": [],
   "source": [
    "# 5.4 True"
   ]
  },
  {
   "cell_type": "code",
   "execution_count": 25,
   "metadata": {
    "vscode": {
     "languageId": "r"
    }
   },
   "outputs": [],
   "source": [
    "# 6.1 False"
   ]
  },
  {
   "cell_type": "code",
   "execution_count": 11,
   "metadata": {
    "vscode": {
     "languageId": "r"
    }
   },
   "outputs": [
    {
     "data": {
      "text/html": [
       "0.358130996075238"
      ],
      "text/latex": [
       "0.358130996075238"
      ],
      "text/markdown": [
       "0.358130996075238"
      ],
      "text/plain": [
       "[1] 0.358131"
      ]
     },
     "metadata": {},
     "output_type": "display_data"
    },
    {
     "name": "stdout",
     "output_type": "stream",
     "text": [
      "[1] 2.294788\n"
     ]
    }
   ],
   "source": [
    "# 6.2 False? / True\n",
    "\n",
    "dpois(1,5/4)\n",
    "probability <- 1 - exp(-2.5)\n",
    "print(probability/(2/5))\n",
    "\n"
   ]
  },
  {
   "cell_type": "code",
   "execution_count": 27,
   "metadata": {
    "vscode": {
     "languageId": "r"
    }
   },
   "outputs": [],
   "source": [
    "# 6.3 True"
   ]
  },
  {
   "cell_type": "code",
   "execution_count": 28,
   "metadata": {
    "vscode": {
     "languageId": "r"
    }
   },
   "outputs": [],
   "source": [
    "# 6.4 True"
   ]
  },
  {
   "cell_type": "code",
   "execution_count": 29,
   "metadata": {
    "vscode": {
     "languageId": "r"
    }
   },
   "outputs": [],
   "source": [
    "# 7.1 False"
   ]
  },
  {
   "cell_type": "code",
   "execution_count": 30,
   "metadata": {
    "vscode": {
     "languageId": "r"
    }
   },
   "outputs": [],
   "source": [
    "# 7.2 True"
   ]
  },
  {
   "cell_type": "code",
   "execution_count": 31,
   "metadata": {
    "vscode": {
     "languageId": "r"
    }
   },
   "outputs": [],
   "source": [
    "# 7.3 False"
   ]
  },
  {
   "cell_type": "code",
   "execution_count": 32,
   "metadata": {
    "vscode": {
     "languageId": "r"
    }
   },
   "outputs": [],
   "source": [
    "# 7.4 True"
   ]
  },
  {
   "cell_type": "code",
   "execution_count": 33,
   "metadata": {
    "vscode": {
     "languageId": "r"
    }
   },
   "outputs": [],
   "source": [
    "# 8.1 False"
   ]
  },
  {
   "cell_type": "code",
   "execution_count": 34,
   "metadata": {
    "vscode": {
     "languageId": "r"
    }
   },
   "outputs": [],
   "source": [
    "# 8.2 True"
   ]
  },
  {
   "cell_type": "code",
   "execution_count": 35,
   "metadata": {
    "vscode": {
     "languageId": "r"
    }
   },
   "outputs": [],
   "source": [
    "# 8.3 False"
   ]
  },
  {
   "cell_type": "code",
   "execution_count": 36,
   "metadata": {
    "vscode": {
     "languageId": "r"
    }
   },
   "outputs": [],
   "source": [
    "# 8.4 True"
   ]
  },
  {
   "cell_type": "code",
   "execution_count": 38,
   "metadata": {
    "vscode": {
     "languageId": "r"
    }
   },
   "outputs": [
    {
     "data": {
      "text/html": [
       "0.0736540280606647"
      ],
      "text/latex": [
       "0.0736540280606647"
      ],
      "text/markdown": [
       "0.0736540280606647"
      ],
      "text/plain": [
       "[1] 0.07365403"
      ]
     },
     "metadata": {},
     "output_type": "display_data"
    }
   ],
   "source": [
    "# 9.1 True\n",
    "\n",
    "dnorm(5,3,5)"
   ]
  },
  {
   "cell_type": "code",
   "execution_count": 5,
   "metadata": {
    "vscode": {
     "languageId": "r"
    }
   },
   "outputs": [
    {
     "data": {
      "text/html": [
       "0.0177840689289025"
      ],
      "text/latex": [
       "0.0177840689289025"
      ],
      "text/markdown": [
       "0.0177840689289025"
      ],
      "text/plain": [
       "[1] 0.01778407"
      ]
     },
     "metadata": {},
     "output_type": "display_data"
    }
   ],
   "source": [
    "# 9.2 False\n",
    "\n",
    "pnorm(60,43,471) - pnorm(39,43,471)"
   ]
  },
  {
   "cell_type": "code",
   "execution_count": 48,
   "metadata": {
    "vscode": {
     "languageId": "r"
    }
   },
   "outputs": [],
   "source": [
    "# 9.3 False "
   ]
  },
  {
   "cell_type": "code",
   "execution_count": 7,
   "metadata": {
    "vscode": {
     "languageId": "r"
    }
   },
   "outputs": [
    {
     "name": "stdout",
     "output_type": "stream",
     "text": [
      "[1] 0.09892489\n"
     ]
    },
    {
     "data": {
      "text/html": [
       "1"
      ],
      "text/latex": [
       "1"
      ],
      "text/markdown": [
       "1"
      ],
      "text/plain": [
       "[1] 1"
      ]
     },
     "metadata": {},
     "output_type": "display_data"
    }
   ],
   "source": [
    "# 9.4 False / True\n",
    "probability <- 1 - exp(-(1/24) * 2.5)\n",
    "print(probability)\n",
    "\n",
    "pexp(2.5,24)"
   ]
  },
  {
   "cell_type": "code",
   "execution_count": 50,
   "metadata": {
    "vscode": {
     "languageId": "r"
    }
   },
   "outputs": [],
   "source": [
    "# 10.1 True?"
   ]
  },
  {
   "cell_type": "code",
   "execution_count": 51,
   "metadata": {
    "vscode": {
     "languageId": "r"
    }
   },
   "outputs": [],
   "source": [
    "# 10.2 True"
   ]
  },
  {
   "cell_type": "code",
   "execution_count": 52,
   "metadata": {
    "vscode": {
     "languageId": "r"
    }
   },
   "outputs": [],
   "source": [
    "# 10.3 True"
   ]
  },
  {
   "cell_type": "code",
   "execution_count": null,
   "metadata": {
    "vscode": {
     "languageId": "r"
    }
   },
   "outputs": [],
   "source": [
    "# 10.4 True?"
   ]
  }
 ],
 "metadata": {
  "kernelspec": {
   "display_name": "R",
   "language": "R",
   "name": "ir"
  },
  "language_info": {
   "codemirror_mode": "r",
   "file_extension": ".r",
   "mimetype": "text/x-r-source",
   "name": "R",
   "pygments_lexer": "r",
   "version": "4.3.1"
  },
  "orig_nbformat": 4
 },
 "nbformat": 4,
 "nbformat_minor": 2
}
