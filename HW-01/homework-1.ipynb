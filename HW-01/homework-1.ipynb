{
  "cells": [
    {
      "cell_type": "markdown",
      "metadata": {},
      "source": [
        "---\n",
        "title: \"Homework-1\"\n",
        "author: Brian Kwon\n",
        "format: \n",
        "  html: \n",
        "    embed-resources: true\n",
        "---"
      ]
    },
    {
      "cell_type": "code",
      "execution_count": 1,
      "metadata": {
        "vscode": {
          "languageId": "r"
        }
      },
      "outputs": [],
      "source": [
        "library(gtools)\n",
        "library(stringr)"
      ]
    },
    {
      "cell_type": "markdown",
      "metadata": {},
      "source": [
        "## Problem-1  \n",
        "\n",
        "a) Create a standard 52 card deck, refer to the card deck created in Bootcamp Assignment 6-problem 1.  "
      ]
    },
    {
      "cell_type": "code",
      "execution_count": 2,
      "metadata": {
        "vscode": {
          "languageId": "r"
        }
      },
      "outputs": [],
      "source": [
        "suits = c(\"Diamonds\", \"Clubs\", \"Hearts\", \"Spades\")\n",
        "numbers = c(\"Ace\", \"Two\", \"Three\", \"Four\", \"Five\", \"Six\", \"Seven\", \"Eight\", \"Nine\", \"Ten\", \"Jack\", \"Queen\", \"King\")\n",
        "deck = expand.grid(number=numbers, suit=suits) #data frame from all combinations\n",
        "deck = paste(deck$number, deck$suit)"
      ]
    },
    {
      "cell_type": "markdown",
      "metadata": {},
      "source": [
        "b) What is the probability of getting two diamonds with replacement?  "
      ]
    },
    {
      "cell_type": "code",
      "execution_count": 3,
      "metadata": {
        "vscode": {
          "languageId": "r"
        }
      },
      "outputs": [
        {
          "data": {
            "text/html": [
              "0.0625"
            ],
            "text/latex": [
              "0.0625"
            ],
            "text/markdown": [
              "0.0625"
            ],
            "text/plain": [
              "[1] 0.0625"
            ]
          },
          "metadata": {},
          "output_type": "display_data"
        }
      ],
      "source": [
        "diamonds = paste(numbers, \"Diamonds\")\n",
        "mean(deck %in% diamonds) * mean(deck %in% diamonds)"
      ]
    },
    {
      "cell_type": "markdown",
      "metadata": {},
      "source": [
        "c) What is the probability of getting two diamonds without replacement?  "
      ]
    },
    {
      "cell_type": "code",
      "execution_count": 4,
      "metadata": {
        "vscode": {
          "languageId": "r"
        }
      },
      "outputs": [
        {
          "data": {
            "text/html": [
              "0.0588235294117647"
            ],
            "text/latex": [
              "0.0588235294117647"
            ],
            "text/markdown": [
              "0.0588235294117647"
            ],
            "text/plain": [
              "[1] 0.05882353"
            ]
          },
          "metadata": {},
          "output_type": "display_data"
        }
      ],
      "source": [
        "hands = combinations(52, 2, v = deck)\n",
        "mean(hands[,1] %in% diamonds & hands[,2] %in% diamonds)"
      ]
    },
    {
      "cell_type": "markdown",
      "metadata": {},
      "source": [
        "d) Assuming a 5 card poker hand what is the probability of having four of a kind? (Hint. The probability of a 4 of a kind is equal to total number of ways to get a four of a kind divided by the total number of ways to choose 5 cards from a 52 card deck)  "
      ]
    },
    {
      "cell_type": "code",
      "execution_count": 5,
      "metadata": {
        "vscode": {
          "languageId": "r"
        }
      },
      "outputs": [
        {
          "data": {
            "text/html": [
              "0.000240096038415366"
            ],
            "text/latex": [
              "0.000240096038415366"
            ],
            "text/markdown": [
              "0.000240096038415366"
            ],
            "text/plain": [
              "[1] 0.000240096"
            ]
          },
          "metadata": {},
          "output_type": "display_data"
        }
      ],
      "source": [
        "hands2 = combinations(52, 5, v = deck)\n",
        "\n",
        "count = 0\n",
        "for(i in 1:nrow(hands2)){\n",
        "    hand = hands2[i,]\n",
        "    if(sum(table(word(hand,1))==4)==1){\n",
        "        count = count+1\n",
        "    }\n",
        "}\n",
        "count/nrow(hands2)"
      ]
    },
    {
      "cell_type": "code",
      "execution_count": 6,
      "metadata": {
        "vscode": {
          "languageId": "r"
        }
      },
      "outputs": [
        {
          "data": {
            "text/html": [
              "0.000240096038415366"
            ],
            "text/latex": [
              "0.000240096038415366"
            ],
            "text/markdown": [
              "0.000240096038415366"
            ],
            "text/plain": [
              "[1] 0.000240096"
            ]
          },
          "metadata": {},
          "output_type": "display_data"
        }
      ],
      "source": [
        "hands2 = combinations(52, 5, v = deck)\n",
        "\n",
        "# Calculating when Ace 4 of a kind\n",
        "count = 0\n",
        "for(i in 1:nrow(hands2)){\n",
        "    hand = hands2[i,]\n",
        "    if(sum(grepl(\"Ace\",hand))==4){\n",
        "        count = count+1\n",
        "    }\n",
        "}\n",
        "\n",
        "# There are 13 ways of 4 of a kind\n",
        "(count*13)/nrow(hands2)"
      ]
    },
    {
      "cell_type": "markdown",
      "metadata": {},
      "source": [
        "## Problem-2 \n",
        "\n",
        "Using the poker dataset you just created above\n",
        "\n",
        "a) Run four simulations that pull 10, 100, 1000, and 10000 cards respectively with replacement. Use the `table` function to find the distribution of suit counts.  "
      ]
    },
    {
      "cell_type": "code",
      "execution_count": 7,
      "metadata": {
        "vscode": {
          "languageId": "r"
        }
      },
      "outputs": [
        {
          "data": {
            "text/plain": [
              "\n",
              "   Clubs Diamonds   Hearts   Spades \n",
              "       1        1        3        5 "
            ]
          },
          "metadata": {},
          "output_type": "display_data"
        }
      ],
      "source": [
        "table(word(sample(deck, size=10, replace=TRUE),2))"
      ]
    },
    {
      "cell_type": "code",
      "execution_count": 8,
      "metadata": {
        "vscode": {
          "languageId": "r"
        }
      },
      "outputs": [
        {
          "data": {
            "text/plain": [
              "\n",
              "   Clubs Diamonds   Hearts   Spades \n",
              "      27       25       24       24 "
            ]
          },
          "metadata": {},
          "output_type": "display_data"
        }
      ],
      "source": [
        "table(word(sample(deck, size=100, replace=TRUE),2))"
      ]
    },
    {
      "cell_type": "code",
      "execution_count": 9,
      "metadata": {
        "vscode": {
          "languageId": "r"
        }
      },
      "outputs": [
        {
          "data": {
            "text/plain": [
              "\n",
              "   Clubs Diamonds   Hearts   Spades \n",
              "     265      240      237      258 "
            ]
          },
          "metadata": {},
          "output_type": "display_data"
        }
      ],
      "source": [
        "table(word(sample(deck, size=1000, replace=TRUE),2))"
      ]
    },
    {
      "cell_type": "code",
      "execution_count": 10,
      "metadata": {
        "vscode": {
          "languageId": "r"
        }
      },
      "outputs": [
        {
          "data": {
            "text/plain": [
              "\n",
              "   Clubs Diamonds   Hearts   Spades \n",
              "    2516     2507     2457     2520 "
            ]
          },
          "metadata": {},
          "output_type": "display_data"
        }
      ],
      "source": [
        "table(word(sample(deck, size=10000, replace=TRUE),2))"
      ]
    },
    {
      "cell_type": "markdown",
      "metadata": {},
      "source": [
        "b) What do you notice about the distribution of counts as more simulations are run?  "
      ]
    },
    {
      "cell_type": "markdown",
      "metadata": {},
      "source": [
        "As I draw large number of cards, the distribution of each suit becomes similar."
      ]
    },
    {
      "cell_type": "markdown",
      "metadata": {},
      "source": [
        "c) Run a simulation for Problem #1 part D to answer the question. Compare the results (hint. they should be close)  \n",
        "\n"
      ]
    },
    {
      "cell_type": "code",
      "execution_count": 11,
      "metadata": {
        "vscode": {
          "languageId": "r"
        }
      },
      "outputs": [
        {
          "data": {
            "text/html": [
              "0.00024"
            ],
            "text/latex": [
              "0.00024"
            ],
            "text/markdown": [
              "0.00024"
            ],
            "text/plain": [
              "[1] 0.00024"
            ]
          },
          "metadata": {},
          "output_type": "display_data"
        }
      ],
      "source": [
        "samples = hands2[sample(nrow(hands2),size=100000,replace=TRUE),]\n",
        "\n",
        "count = 0\n",
        "for(i in 1:nrow(samples)){\n",
        "    hand = samples[i,]\n",
        "    if(sum(table(word(hand,1))==4)==1){\n",
        "        count = count + 1\n",
        "    }\n",
        "}\n",
        "count/nrow(samples)"
      ]
    },
    {
      "cell_type": "markdown",
      "metadata": {},
      "source": [
        "## Problem-3\n",
        "\n",
        "Consider the baby names data for 2014. Write a function that\n",
        "computes the conditional probability $P(gender = F | name = XXX)$ for a given\n",
        "character string XXX. Next, use the function to compute conditional probabilities for the\n",
        "10 most common female baby names of that year (In other words what is probability the child is a female given the name is XXX?). For which female baby name of\n",
        "the top 10 is this conditional probability maximal? What does this mean?\n",
        "\n"
      ]
    },
    {
      "cell_type": "code",
      "execution_count": 12,
      "metadata": {
        "vscode": {
          "languageId": "r"
        }
      },
      "outputs": [
        {
          "data": {
            "text/html": [
              "<table class=\"dataframe\">\n",
              "<caption>A data.frame: 6 x 3</caption>\n",
              "<thead>\n",
              "\t<tr><th></th><th scope=col>names</th><th scope=col>gender</th><th scope=col>count</th></tr>\n",
              "\t<tr><th></th><th scope=col>&lt;chr&gt;</th><th scope=col>&lt;chr&gt;</th><th scope=col>&lt;int&gt;</th></tr>\n",
              "</thead>\n",
              "<tbody>\n",
              "\t<tr><th scope=row>1</th><td>Emma    </td><td>F</td><td>20799</td></tr>\n",
              "\t<tr><th scope=row>2</th><td>Olivia  </td><td>F</td><td>19674</td></tr>\n",
              "\t<tr><th scope=row>3</th><td>Sophia  </td><td>F</td><td>18490</td></tr>\n",
              "\t<tr><th scope=row>4</th><td>Isabella</td><td>F</td><td>16950</td></tr>\n",
              "\t<tr><th scope=row>5</th><td>Ava     </td><td>F</td><td>15586</td></tr>\n",
              "\t<tr><th scope=row>6</th><td>Mia     </td><td>F</td><td>13442</td></tr>\n",
              "</tbody>\n",
              "</table>\n"
            ],
            "text/latex": [
              "A data.frame: 6 x 3\n",
              "\\begin{tabular}{r|lll}\n",
              "  & names & gender & count\\\\\n",
              "  & <chr> & <chr> & <int>\\\\\n",
              "\\hline\n",
              "\t1 & Emma     & F & 20799\\\\\n",
              "\t2 & Olivia   & F & 19674\\\\\n",
              "\t3 & Sophia   & F & 18490\\\\\n",
              "\t4 & Isabella & F & 16950\\\\\n",
              "\t5 & Ava      & F & 15586\\\\\n",
              "\t6 & Mia      & F & 13442\\\\\n",
              "\\end{tabular}\n"
            ],
            "text/markdown": [
              "\n",
              "A data.frame: 6 x 3\n",
              "\n",
              "| <!--/--> | names &lt;chr&gt; | gender &lt;chr&gt; | count &lt;int&gt; |\n",
              "|---|---|---|---|\n",
              "| 1 | Emma     | F | 20799 |\n",
              "| 2 | Olivia   | F | 19674 |\n",
              "| 3 | Sophia   | F | 18490 |\n",
              "| 4 | Isabella | F | 16950 |\n",
              "| 5 | Ava      | F | 15586 |\n",
              "| 6 | Mia      | F | 13442 |\n",
              "\n"
            ],
            "text/plain": [
              "  names    gender count\n",
              "1 Emma     F      20799\n",
              "2 Olivia   F      19674\n",
              "3 Sophia   F      18490\n",
              "4 Isabella F      16950\n",
              "5 Ava      F      15586\n",
              "6 Mia      F      13442"
            ]
          },
          "metadata": {},
          "output_type": "display_data"
        }
      ],
      "source": [
        "df = read.csv(\"yob2014.txt\", header = FALSE)\n",
        "names(df) = c(\"names\",\"gender\",\"count\")\n",
        "head(df)"
      ]
    },
    {
      "cell_type": "code",
      "execution_count": 13,
      "metadata": {
        "vscode": {
          "languageId": "r"
        }
      },
      "outputs": [],
      "source": [
        "my_function = function(name){\n",
        "    numerator = df$count[df$name==name & df$gender==\"F\"]/sum(df$count)\n",
        "    denominator = sum(df$count[df$name==name])/sum(df$count)\n",
        "    return(numerator/denominator)\n",
        "}"
      ]
    },
    {
      "cell_type": "code",
      "execution_count": 14,
      "metadata": {
        "vscode": {
          "languageId": "r"
        }
      },
      "outputs": [
        {
          "data": {
            "text/html": [
              "<style>\n",
              ".dl-inline {width: auto; margin:0; padding: 0}\n",
              ".dl-inline>dt, .dl-inline>dd {float: none; width: auto; display: inline-block}\n",
              ".dl-inline>dt::after {content: \":\\0020\"; padding-right: .5ex}\n",
              ".dl-inline>dt:not(:first-of-type) {padding-left: .5ex}\n",
              "</style><dl class=dl-inline><dt>Emma</dt><dd>0.99942338186536</dd><dt>Olivia</dt><dd>0.998883021933388</dd><dt>Sophia</dt><dd>0.99908142864862</dd><dt>Isabella</dt><dd>0.998880311155637</dd><dt>Ava</dt><dd>0.999102564102564</dd><dt>Mia</dt><dd>0.999033816425121</dd><dt>Emily</dt><dd>0.99912510936133</dd><dt>Abigail</dt><dd>0.998999749937484</dd><dt>Madison</dt><dd>0.996111597161466</dd><dt>Charlotte</dt><dd>0.999303828940825</dd></dl>\n"
            ],
            "text/latex": [
              "\\begin{description*}\n",
              "\\item[Emma] 0.99942338186536\n",
              "\\item[Olivia] 0.998883021933388\n",
              "\\item[Sophia] 0.99908142864862\n",
              "\\item[Isabella] 0.998880311155637\n",
              "\\item[Ava] 0.999102564102564\n",
              "\\item[Mia] 0.999033816425121\n",
              "\\item[Emily] 0.99912510936133\n",
              "\\item[Abigail] 0.998999749937484\n",
              "\\item[Madison] 0.996111597161466\n",
              "\\item[Charlotte] 0.999303828940825\n",
              "\\end{description*}\n"
            ],
            "text/markdown": [
              "Emma\n",
              ":   0.99942338186536Olivia\n",
              ":   0.998883021933388Sophia\n",
              ":   0.99908142864862Isabella\n",
              ":   0.998880311155637Ava\n",
              ":   0.999102564102564Mia\n",
              ":   0.999033816425121Emily\n",
              ":   0.99912510936133Abigail\n",
              ":   0.998999749937484Madison\n",
              ":   0.996111597161466Charlotte\n",
              ":   0.999303828940825\n",
              "\n"
            ],
            "text/plain": [
              "     Emma    Olivia    Sophia  Isabella       Ava       Mia     Emily   Abigail \n",
              "0.9994234 0.9988830 0.9990814 0.9988803 0.9991026 0.9990338 0.9991251 0.9989997 \n",
              "  Madison Charlotte \n",
              "0.9961116 0.9993038 "
            ]
          },
          "metadata": {},
          "output_type": "display_data"
        }
      ],
      "source": [
        "names = head(df$names[df$gender==\"F\"],10)\n",
        "sapply(names,my_function)"
      ]
    },
    {
      "cell_type": "markdown",
      "metadata": {},
      "source": [
        "Among those top ten most commonn female names, babies with name Emma are most likely to be a female."
      ]
    },
    {
      "cell_type": "markdown",
      "metadata": {},
      "source": [
        "## Problem-4 \n",
        "\n",
        "Many adults find videos online and then re-post the videos on social media sights. The Pew Internet and American Life Project has found this behavior continues to increase through various polls. The results of such polling is summarized in the table below. A count for `UserCreated` means an individual from that age range prefers watching `UserCreated` videos and a count for `TV` means an individual from that age range prefers watching `TV` videos."
      ]
    },
    {
      "cell_type": "code",
      "execution_count": 15,
      "metadata": {
        "vscode": {
          "languageId": "r"
        }
      },
      "outputs": [
        {
          "data": {
            "text/html": [
              "<table class=\"dataframe\">\n",
              "<caption>A data.frame: 4 x 4</caption>\n",
              "<thead>\n",
              "\t<tr><th scope=col>ViewerAge</th><th scope=col>UserCreated</th><th scope=col>TV</th><th scope=col>RowTotal</th></tr>\n",
              "\t<tr><th scope=col>&lt;chr&gt;</th><th scope=col>&lt;chr&gt;</th><th scope=col>&lt;chr&gt;</th><th scope=col>&lt;chr&gt;</th></tr>\n",
              "</thead>\n",
              "<tbody>\n",
              "\t<tr><td>18-34      </td><td>30</td><td>38</td><td>68 </td></tr>\n",
              "\t<tr><td>35-54      </td><td>10</td><td>10</td><td>20 </td></tr>\n",
              "\t<tr><td>55+        </td><td>3 </td><td>9 </td><td>12 </td></tr>\n",
              "\t<tr><td>ColumnTotal</td><td>43</td><td>57</td><td>100</td></tr>\n",
              "</tbody>\n",
              "</table>\n"
            ],
            "text/latex": [
              "A data.frame: 4 x 4\n",
              "\\begin{tabular}{llll}\n",
              " ViewerAge & UserCreated & TV & RowTotal\\\\\n",
              " <chr> & <chr> & <chr> & <chr>\\\\\n",
              "\\hline\n",
              "\t 18-34       & 30 & 38 & 68 \\\\\n",
              "\t 35-54       & 10 & 10 & 20 \\\\\n",
              "\t 55+         & 3  & 9  & 12 \\\\\n",
              "\t ColumnTotal & 43 & 57 & 100\\\\\n",
              "\\end{tabular}\n"
            ],
            "text/markdown": [
              "\n",
              "A data.frame: 4 x 4\n",
              "\n",
              "| ViewerAge &lt;chr&gt; | UserCreated &lt;chr&gt; | TV &lt;chr&gt; | RowTotal &lt;chr&gt; |\n",
              "|---|---|---|---|\n",
              "| 18-34       | 30 | 38 | 68  |\n",
              "| 35-54       | 10 | 10 | 20  |\n",
              "| 55+         | 3  | 9  | 12  |\n",
              "| ColumnTotal | 43 | 57 | 100 |\n",
              "\n"
            ],
            "text/plain": [
              "  ViewerAge   UserCreated TV RowTotal\n",
              "1 18-34       30          38 68      \n",
              "2 35-54       10          10 20      \n",
              "3 55+         3           9  12      \n",
              "4 ColumnTotal 43          57 100     "
            ]
          },
          "metadata": {},
          "output_type": "display_data"
        }
      ],
      "source": [
        "ViewerAge <- c(\"18-34\",\"35-54\",\"55+\",\"ColumnTotal\")\n",
        "UserCreated <- c(30,10,3,43)\n",
        "TV <- c(38,10,9,57)\n",
        "RowTotal <- c(68,20,12,100)\n",
        "df2 = as.data.frame(cbind(ViewerAge,UserCreated,TV,RowTotal))\n",
        "df2"
      ]
    },
    {
      "cell_type": "markdown",
      "metadata": {},
      "source": [
        "Answer the following questions referring to the table above\n",
        "\n",
        "a) Probability that a viewer is aged 18-34  "
      ]
    },
    {
      "cell_type": "code",
      "execution_count": 16,
      "metadata": {
        "vscode": {
          "languageId": "r"
        }
      },
      "outputs": [
        {
          "data": {
            "text/html": [
              "0.68"
            ],
            "text/latex": [
              "0.68"
            ],
            "text/markdown": [
              "0.68"
            ],
            "text/plain": [
              "[1] 0.68"
            ]
          },
          "metadata": {},
          "output_type": "display_data"
        }
      ],
      "source": [
        "as.integer(df2[1,4])/as.integer(df2[4,4])"
      ]
    },
    {
      "cell_type": "markdown",
      "metadata": {},
      "source": [
        "b) Probability that a viewer prefers watching `TV` videos  \n",
        "\n"
      ]
    },
    {
      "cell_type": "code",
      "execution_count": 17,
      "metadata": {
        "vscode": {
          "languageId": "r"
        }
      },
      "outputs": [
        {
          "data": {
            "text/html": [
              "0.57"
            ],
            "text/latex": [
              "0.57"
            ],
            "text/markdown": [
              "0.57"
            ],
            "text/plain": [
              "[1] 0.57"
            ]
          },
          "metadata": {},
          "output_type": "display_data"
        }
      ],
      "source": [
        "as.integer(df2[4,3])/as.integer(df2[4,4])"
      ]
    },
    {
      "cell_type": "markdown",
      "metadata": {},
      "source": [
        "c) Percentage of viewers who are 18-34 and prefer watching `UserCreated` videos  "
      ]
    },
    {
      "cell_type": "code",
      "execution_count": 18,
      "metadata": {
        "vscode": {
          "languageId": "r"
        }
      },
      "outputs": [
        {
          "data": {
            "text/html": [
              "0.3"
            ],
            "text/latex": [
              "0.3"
            ],
            "text/markdown": [
              "0.3"
            ],
            "text/plain": [
              "[1] 0.3"
            ]
          },
          "metadata": {},
          "output_type": "display_data"
        }
      ],
      "source": [
        "as.integer(df2[1,2])/as.integer(df2[4,4])"
      ]
    },
    {
      "cell_type": "markdown",
      "metadata": {},
      "source": [
        "d) Percentage of viewers who are 35-54 or prefer watching `UserCreated` videos \n",
        "\n"
      ]
    },
    {
      "cell_type": "code",
      "execution_count": 19,
      "metadata": {
        "vscode": {
          "languageId": "r"
        }
      },
      "outputs": [
        {
          "data": {
            "text/html": [
              "0.53"
            ],
            "text/latex": [
              "0.53"
            ],
            "text/markdown": [
              "0.53"
            ],
            "text/plain": [
              "[1] 0.53"
            ]
          },
          "metadata": {},
          "output_type": "display_data"
        }
      ],
      "source": [
        "(as.integer(df2[2,4])+as.integer(df2[4,2])-as.integer(df2[2,2]))/as.integer(df2[4,4])"
      ]
    },
    {
      "cell_type": "markdown",
      "metadata": {},
      "source": [
        "## Problem-5 \n",
        "\n",
        "Suppose $X$ and $Y$ are independent random variables that both have uniform $U(0,1)$ distributions. Consider the events\n",
        "\n",
        "$$\n",
        "A = \\{X < \\frac{1}{2}\\}, \\quad B = \\{Y < \\cos \\pi X\\} \\, . \n",
        "$$\n",
        "\n",
        "Then $P(A) = \\frac{1}{2}$. Use __R__ and simulations to estimate $P(B), \\, P(A|B), P(B|A)$. \n",
        "\n",
        "a) `R` will automatically generate independent random variables in a simulation. Use `runif(n)` to simulate 100,000 Uniform(0,1) distributed random values. Make a data frame for $X$ and $Y$ uniform random variables, compute two additional columns for the events $A$ and $B$ as given in the problem, and estimate the relevant probabilities by sub-setting.  "
      ]
    },
    {
      "cell_type": "code",
      "execution_count": 20,
      "metadata": {
        "vscode": {
          "languageId": "r"
        }
      },
      "outputs": [],
      "source": [
        "X = runif(100000)\n",
        "Y = runif(100000)\n",
        "A = X<0.5\n",
        "B = Y<cos(pi*X)\n",
        "df3 = data.frame(X,Y,A,B)"
      ]
    },
    {
      "cell_type": "markdown",
      "metadata": {},
      "source": [
        "b) Find $P(B)$  \n",
        "\n"
      ]
    },
    {
      "cell_type": "code",
      "execution_count": 21,
      "metadata": {
        "vscode": {
          "languageId": "r"
        }
      },
      "outputs": [
        {
          "data": {
            "text/html": [
              "0.31428"
            ],
            "text/latex": [
              "0.31428"
            ],
            "text/markdown": [
              "0.31428"
            ],
            "text/plain": [
              "[1] 0.31428"
            ]
          },
          "metadata": {},
          "output_type": "display_data"
        }
      ],
      "source": [
        "mean(df3$B)"
      ]
    },
    {
      "cell_type": "markdown",
      "metadata": {},
      "source": [
        "c) Find $P(A|B)$  "
      ]
    },
    {
      "cell_type": "code",
      "execution_count": 22,
      "metadata": {
        "vscode": {
          "languageId": "r"
        }
      },
      "outputs": [
        {
          "data": {
            "text/html": [
              "1"
            ],
            "text/latex": [
              "1"
            ],
            "text/markdown": [
              "1"
            ],
            "text/plain": [
              "[1] 1"
            ]
          },
          "metadata": {},
          "output_type": "display_data"
        }
      ],
      "source": [
        "mean(df3$A == TRUE & df3$B == TRUE)/mean(df3$B==TRUE)"
      ]
    },
    {
      "cell_type": "markdown",
      "metadata": {},
      "source": [
        "d) Find $P(B|A)$  \n",
        "\n"
      ]
    },
    {
      "cell_type": "code",
      "execution_count": 23,
      "metadata": {
        "vscode": {
          "languageId": "r"
        }
      },
      "outputs": [
        {
          "data": {
            "text/html": [
              "0.631896413060962"
            ],
            "text/latex": [
              "0.631896413060962"
            ],
            "text/markdown": [
              "0.631896413060962"
            ],
            "text/plain": [
              "[1] 0.6318964"
            ]
          },
          "metadata": {},
          "output_type": "display_data"
        }
      ],
      "source": [
        "mean(df3$A == TRUE & df3$B == TRUE)/mean(df3$A==TRUE)"
      ]
    },
    {
      "cell_type": "markdown",
      "metadata": {},
      "source": [
        "## Problem-6\n",
        "\n",
        "Take 5 `R` functions of your choice and find/compare/contrast their parameters, output, and usability with the `python` function that accomplishes the same goal.  "
      ]
    },
    {
      "cell_type": "markdown",
      "metadata": {},
      "source": [
        "1. Sample function\\\n",
        "In r, `sample` function takes **x**, vector of elements to choose from, **size**, sample size, and **replace** to sample with replacement or not, and returnes vector. In python, `np.random.choice` can do same thing on list or numpy array with arguement of **a**, which is a population, **size**, and **replace**.\n",
        "\n"
      ]
    },
    {
      "cell_type": "markdown",
      "metadata": {},
      "source": [
        "2. Setting seed\\\n",
        "`set.seed` function in r will integer to \"set seed\" to prevent randomness for the future. `random.seed` in python random package does same thing taking a interger to set the seed.\n",
        "\n"
      ]
    },
    {
      "cell_type": "markdown",
      "metadata": {},
      "source": [
        "3. Generating random variable\\\n",
        "In r `runif` generates uniform random variables taking **n**, number of observations, **min** and **max**, minimum and maximum limits of the distribution. `random.uniform`, also from python random package, can generate unifom variables with **low** and **high** arguements as upper and lower limits, and **size** as output size. This **size** argument can be a matrix or (m, n, k) shape. On the other hand, `runif` function only gives you a vector or one element.\n"
      ]
    },
    {
      "cell_type": "markdown",
      "metadata": {},
      "source": [
        "4. Creating a table\\\n",
        "`table` function can make a count table taking one or more r obejects. `pd.crosstab` function from python pandas packages can do similar things, yet it can take a data frame and make a two way table for two columns of the data frame."
      ]
    },
    {
      "cell_type": "markdown",
      "metadata": {},
      "source": [
        "5. Generating descriptive statistics\\\n",
        "`summary` function takes an object and gives descriptive statistics. If the variable is numeric, it will provide statistics, and if it is categorical, it will give you a frequency table. In python, `pd.DataFrame.describe` can do similar things but the ouput table may have some NAs when there are both numerical and categorical data because it tries to calculate numeri statistical values, such as mean and std, on categorical data."
      ]
    }
  ],
  "metadata": {
    "kernelspec": {
      "display_name": "R",
      "language": "R",
      "name": "ir"
    },
    "language_info": {
      "codemirror_mode": "r",
      "file_extension": ".r",
      "mimetype": "text/x-r-source",
      "name": "R",
      "pygments_lexer": "r",
      "version": "4.3.1"
    }
  },
  "nbformat": 4,
  "nbformat_minor": 4
}
